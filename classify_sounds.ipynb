{
  "nbformat": 4,
  "nbformat_minor": 0,
  "metadata": {
    "colab": {
      "name": "Copy2 of classify_audio.ipynb",
      "provenance": [],
      "collapsed_sections": []
    },
    "kernelspec": {
      "name": "python3",
      "display_name": "Python 3"
    },
    "accelerator": "GPU"
  },
  "cells": [
    {
      "cell_type": "code",
      "metadata": {
        "id": "vsaU-w8RfNfu"
      },
      "source": [
        "import os\n",
        "diectory_category=[]\n",
        "diectory_category = [f for f in sorted(os.listdir(\"/content/drive/My Drive/soundclasify/categories\"))]"
      ],
      "execution_count": null,
      "outputs": []
    },
    {
      "cell_type": "code",
      "metadata": {
        "id": "9cVFOh9tfSRm",
        "colab": {
          "base_uri": "https://localhost:8080/",
          "height": 71
        },
        "outputId": "97d496c0-8e34-49ce-8327-48e79a2b83b7"
      },
      "source": [
        "print(diectory_category)\n",
        "print(len(diectory_category))"
      ],
      "execution_count": null,
      "outputs": [
        {
          "output_type": "stream",
          "text": [
            "['airplane', 'breathing', 'brushing_teeth', 'can_opening', 'car_horn', 'cat', 'chainsaw', 'chirping_birds', 'church_bells', 'clapping', 'clock_alarm', 'clock_tick', 'coughing', 'cow', 'crackling_fire', 'crow', 'crying_baby', 'dog', 'door_wood_creaks', 'door_wood_knock', 'drinking_sipping', 'engine', 'fireworks', 'footsteps', 'frog', 'glass_breaking', 'hand_saw', 'helicopter', 'hen', 'insects', 'keyboard_typing', 'laughing', 'mouse_click', 'pig', 'pouring_water', 'rain', 'rooster', 'sea_waves', 'sheep', 'siren', 'sneezing', 'snoring', 'thunderstorm', 'toilet_flush', 'train', 'vacuum_cleaner', 'washing_machine', 'water_drops', 'wind']\n",
            "49\n"
          ],
          "name": "stdout"
        }
      ]
    },
    {
      "cell_type": "code",
      "metadata": {
        "id": "VlbenktuirvG"
      },
      "source": [
        "import os"
      ],
      "execution_count": null,
      "outputs": []
    },
    {
      "cell_type": "code",
      "metadata": {
        "id": "fIvMlX10i_eM",
        "colab": {
          "base_uri": "https://localhost:8080/",
          "height": 741
        },
        "outputId": "6243d70a-8e5b-41f4-9548-4a729c8be9f6"
      },
      "source": [
        "print(files_category)\n",
        "print(len(files_category))"
      ],
      "execution_count": null,
      "outputs": [
        {
          "output_type": "stream",
          "text": [
            "ERROR:root:Internal Python error in the inspect module.\n",
            "Below is the traceback from this internal error.\n",
            "\n"
          ],
          "name": "stderr"
        },
        {
          "output_type": "stream",
          "text": [
            "Traceback (most recent call last):\n",
            "  File \"/usr/local/lib/python3.6/dist-packages/IPython/core/interactiveshell.py\", line 2882, in run_code\n",
            "    exec(code_obj, self.user_global_ns, self.user_ns)\n",
            "  File \"<ipython-input-13-8bb3b872b19a>\", line 1, in <module>\n",
            "    print(files_category)\n",
            "NameError: name 'files_category' is not defined\n",
            "\n",
            "During handling of the above exception, another exception occurred:\n",
            "\n",
            "Traceback (most recent call last):\n",
            "  File \"/usr/local/lib/python3.6/dist-packages/IPython/core/interactiveshell.py\", line 1823, in showtraceback\n",
            "    stb = value._render_traceback_()\n",
            "AttributeError: 'NameError' object has no attribute '_render_traceback_'\n",
            "\n",
            "During handling of the above exception, another exception occurred:\n",
            "\n",
            "Traceback (most recent call last):\n",
            "  File \"/usr/local/lib/python3.6/dist-packages/IPython/core/ultratb.py\", line 1132, in get_records\n",
            "    return _fixed_getinnerframes(etb, number_of_lines_of_context, tb_offset)\n",
            "  File \"/usr/local/lib/python3.6/dist-packages/IPython/core/ultratb.py\", line 313, in wrapped\n",
            "    return f(*args, **kwargs)\n",
            "  File \"/usr/local/lib/python3.6/dist-packages/IPython/core/ultratb.py\", line 358, in _fixed_getinnerframes\n",
            "    records = fix_frame_records_filenames(inspect.getinnerframes(etb, context))\n",
            "  File \"/usr/lib/python3.6/inspect.py\", line 1490, in getinnerframes\n",
            "    frameinfo = (tb.tb_frame,) + getframeinfo(tb, context)\n",
            "  File \"/usr/lib/python3.6/inspect.py\", line 1448, in getframeinfo\n",
            "    filename = getsourcefile(frame) or getfile(frame)\n",
            "  File \"/usr/lib/python3.6/inspect.py\", line 696, in getsourcefile\n",
            "    if getattr(getmodule(object, filename), '__loader__', None) is not None:\n",
            "  File \"/usr/lib/python3.6/inspect.py\", line 725, in getmodule\n",
            "    file = getabsfile(object, _filename)\n",
            "  File \"/usr/lib/python3.6/inspect.py\", line 709, in getabsfile\n",
            "    return os.path.normcase(os.path.abspath(_filename))\n",
            "  File \"/usr/lib/python3.6/posixpath.py\", line 383, in abspath\n",
            "    cwd = os.getcwd()\n",
            "OSError: [Errno 107] Transport endpoint is not connected\n"
          ],
          "name": "stdout"
        },
        {
          "output_type": "error",
          "ename": "NameError",
          "evalue": "ignored",
          "traceback": [
            "\u001b[0;31m---------------------------------------------------------------------------\u001b[0m"
          ]
        }
      ]
    },
    {
      "cell_type": "code",
      "metadata": {
        "id": "piD6ZR1Vgqev",
        "colab": {
          "base_uri": "https://localhost:8080/",
          "height": 34
        },
        "outputId": "6d2629b0-3627-47d1-972d-c97e8d811da2"
      },
      "source": [
        "%ls"
      ],
      "execution_count": null,
      "outputs": [
        {
          "output_type": "stream",
          "text": [
            "\u001b[0m\u001b[01;34msample_data\u001b[0m/\n"
          ],
          "name": "stdout"
        }
      ]
    },
    {
      "cell_type": "code",
      "metadata": {
        "id": "1ggxP4_LttTZ",
        "colab": {
          "base_uri": "https://localhost:8080/",
          "height": 68
        },
        "outputId": "cb44aab6-e742-421b-a0d1-365e6eaa1f15"
      },
      "source": [
        "%cd drive\n",
        "%cd 'My Drive'\n",
        "%cd soundclasify"
      ],
      "execution_count": null,
      "outputs": [
        {
          "output_type": "stream",
          "text": [
            "/content/drive\n",
            "/content/drive/My Drive\n",
            "/content/drive/My Drive/soundclasify\n"
          ],
          "name": "stdout"
        }
      ]
    },
    {
      "cell_type": "code",
      "metadata": {
        "id": "pS0yJSqimpsl"
      },
      "source": [
        "import shutil"
      ],
      "execution_count": null,
      "outputs": []
    },
    {
      "cell_type": "code",
      "metadata": {
        "id": "k9an7MOIgLGI"
      },
      "source": [
        "for directory in diectory_category:\n",
        "  \n",
        "  files_category=[]\n",
        "  files_category = [f for f in sorted(os.listdir(\"/content/drive/My Drive/soundclasify/categories/\"+directory))]\n",
        "  count=0\n",
        "  for j in files_category:\n",
        "    if(count==2):\n",
        "      break\n",
        "    else:\n",
        "      shutil.move( 'categories/'+directory+'/'+j,'Test wav files big/'+j)\n",
        "      count+=1 \n",
        "             \n",
        "            \n",
        "        \n",
        "        "
      ],
      "execution_count": null,
      "outputs": []
    },
    {
      "cell_type": "code",
      "metadata": {
        "id": "uak_X26TnCqg"
      },
      "source": [
        "files_in_new_test=[]\n",
        "files_in_new_test = [f for f in sorted(os.listdir(\"/content/drive/My Drive/soundclasify/Test wav files big\"))]\n"
      ],
      "execution_count": null,
      "outputs": []
    },
    {
      "cell_type": "code",
      "metadata": {
        "id": "MVPP1MzWnIkE",
        "colab": {
          "base_uri": "https://localhost:8080/",
          "height": 54
        },
        "outputId": "0503e567-4bc1-4095-f2e2-63905cf8ee77"
      },
      "source": [
        "print(files_in_new_test)"
      ],
      "execution_count": null,
      "outputs": [
        {
          "output_type": "stream",
          "text": [
            "['.ipynb_checkpoints', '1-100032-A-0.wav', '1-100038-A-14.wav', '1-100210-A-36.wav', '1-100210-B-36.wav', '1-101296-A-19.wav', '1-101296-B-19.wav', '1-101336-A-30.wav', '1-101404-A-34.wav', '1-103298-A-9.wav', '1-103995-A-30.wav', '1-104089-A-22.wav', '1-104089-B-22.wav', '1-110389-A-0.wav', '1-115545-A-48.wav', '1-115545-B-48.wav', '1-116765-A-41.wav', '1-11687-A-47.wav', '1-118206-A-31.wav', '1-118559-A-17.wav', '1-119125-A-45.wav', '1-121951-A-8.wav', '1-12653-A-15.wav', '1-12654-A-15.wav', '1-13571-A-46.wav', '1-13572-A-46.wav', '1-13613-A-37.wav', '1-137-A-32.wav', '1-137296-A-16.wav', '1-14262-A-37.wav', '1-155858-A-25.wav', '1-155858-B-25.wav', '1-15689-A-4.wav', '1-15689-B-4.wav', '1-16568-A-3.wav', '1-17092-A-27.wav', '1-17124-A-43.wav', '1-17150-A-12.wav', '1-172649-A-40.wav', '1-172649-B-40.wav', '1-17295-A-29.wav', '1-17367-A-10.wav', '1-17565-A-12.wav', '1-17585-A-7.wav', '1-1791-A-26.wav', '1-18074-A-6.wav', '1-18074-B-6.wav', '1-18527-A-44.wav', '1-18527-B-44.wav', '1-18631-A-23.wav', '1-18655-A-31.wav', '1-187207-A-20.wav', '1-18810-A-49.wav', '1-19026-A-43.wav', '1-19111-A-24.wav', '1-19118-A-24.wav', '1-19501-A-7.wav', '1-196660-A-8.wav', '1-19898-A-41.wav', '1-20133-A-39.wav', '1-202111-A-3.wav', '1-20545-A-28.wav', '1-20736-A-18.wav', '1-208757-A-2.wav', '1-208757-B-2.wav', '1-211527-A-20.wav', '1-21189-A-10.wav', '1-21896-A-35.wav', '1-21934-A-38.wav', '1-21935-A-38.wav', '1-23706-A-49.wav', '1-23996-A-35.wav', '1-24796-A-47.wav', '1-26143-A-21.wav', '1-26806-A-1.wav', '1-27403-A-28.wav', '1-27724-A-1.wav', '1-28005-A-18.wav', '1-28135-A-11.wav', '1-28135-B-11.wav', '1-29532-A-16.wav', '1-29680-A-21.wav', '1-30039-A-26.wav', '1-30709-A-23.wav', '1-31482-A-42.wav', '1-31482-B-42.wav', '1-32579-A-29.wav', '1-34094-A-5.wav', '1-34094-B-5.wav', '1-34495-A-14.wav', '1-39835-A-9.wav', '1-41615-A-34.wav', '1-50625-A-17.wav', '1-51805-A-33.wav', '1-51805-B-33.wav', '1-53501-A-32.wav', '1-54065-A-45.wav', '1-84536-A-39.wav']\n"
          ],
          "name": "stdout"
        }
      ]
    },
    {
      "cell_type": "code",
      "metadata": {
        "id": "9B8IDKuqt58F"
      },
      "source": [
        "files_in_cough=[]\n",
        "files_in_cough = [f for f in sorted(os.listdir(\"/content/drive/My Drive/soundclasify/coughing\"))]\n"
      ],
      "execution_count": null,
      "outputs": []
    },
    {
      "cell_type": "code",
      "metadata": {
        "id": "odlz5kn3dy-o",
        "colab": {
          "base_uri": "https://localhost:8080/",
          "height": 34
        },
        "outputId": "dbfd1ef7-69ef-477e-e0fe-cc1ec60994f2"
      },
      "source": [
        "set(files_in_cough) & set(files_in_new_test)"
      ],
      "execution_count": null,
      "outputs": [
        {
          "output_type": "execute_result",
          "data": {
            "text/plain": [
              "set()"
            ]
          },
          "metadata": {
            "tags": []
          },
          "execution_count": 79
        }
      ]
    },
    {
      "cell_type": "code",
      "metadata": {
        "id": "p-ZBVPr074hc",
        "colab": {
          "base_uri": "https://localhost:8080/",
          "height": 68
        },
        "outputId": "b635683a-8935-4261-cc78-5eb002bc81d1"
      },
      "source": [
        "pip install soundfile"
      ],
      "execution_count": null,
      "outputs": [
        {
          "output_type": "stream",
          "text": [
            "Requirement already satisfied: soundfile in /usr/local/lib/python3.6/dist-packages (0.10.3.post1)\n",
            "Requirement already satisfied: cffi>=1.0 in /usr/local/lib/python3.6/dist-packages (from soundfile) (1.14.0)\n",
            "Requirement already satisfied: pycparser in /usr/local/lib/python3.6/dist-packages (from cffi>=1.0->soundfile) (2.20)\n"
          ],
          "name": "stdout"
        }
      ]
    },
    {
      "cell_type": "code",
      "metadata": {
        "id": "IBE19R_jxv2i",
        "colab": {
          "base_uri": "https://localhost:8080/",
          "height": 204
        },
        "outputId": "fe24f1c3-2953-40cc-a117-6de6ca5b8596"
      },
      "source": [
        "%ls"
      ],
      "execution_count": null,
      "outputs": [
        {
          "output_type": "stream",
          "text": [
            " \u001b[0m\u001b[01;34maudio\u001b[0m/                                      my_modelnew_newcoughs2.h5\n",
            " bc_utils.py                                 new_data_file_with_more_cough2.hkl\n",
            " \u001b[01;34mcategories\u001b[0m/                                \u001b[01;34m'old models'\u001b[0m/\n",
            " clr_callback.py                             \u001b[01;34mpyaudioclassification\u001b[0m/\n",
            " \u001b[01;34mcoughing\u001b[0m/                                   \u001b[01;34m__pycache__\u001b[0m/\n",
            " environmental-sound-classification-50.zip  \u001b[01;34m'Test wav files'\u001b[0m/\n",
            " esc50.csv                                  \u001b[01;34m'Test wav files big'\u001b[0m/\n",
            " featurete.npy                               utils2.py\n",
            " \u001b[01;34mfirst_cough_addition_features\u001b[0m/              utils.py\n",
            " labelee_new2.npy                            video_me_cough.wav\n",
            " \u001b[01;34mmodels\u001b[0m/\n"
          ],
          "name": "stdout"
        }
      ]
    },
    {
      "cell_type": "markdown",
      "metadata": {
        "id": "VD_CZvh475Hj"
      },
      "source": [
        "tqdm library is a library that gives us a progress bar  as seen in file :https://github.com/micah5/pyAudioClassification/blob/master/pyaudioclassification/feat_extract.py ------------------------- here line 43 , 44 we create a progress bar to our extraction\n"
      ]
    },
    {
      "cell_type": "code",
      "metadata": {
        "id": "tWANHwjp7XfM",
        "colab": {
          "base_uri": "https://localhost:8080/",
          "height": 1000
        },
        "outputId": "7dc9abd3-6098-4574-c0d7-499e9ff67d87"
      },
      "source": [
        "!cat '/content/drive/My Drive/soundclasify/pyaudioclassification/intializemodels.py'"
      ],
      "execution_count": null,
      "outputs": [
        {
          "output_type": "stream",
          "text": [
            "from __future__ import absolute_import\n",
            "import os\n",
            "from pyaudioclassification.feat_extract import parse_audio_files, parse_audio_file\n",
            "import numpy as np\n",
            "import pyaudioclassification.models\n",
            "from keras.utils import to_categorical\n",
            "from keras.optimizers import SGD\n",
            "import numpy as np\n",
            "from keras.models import Sequential\n",
            "from keras.layers import Dense, Dropout, Activation\n",
            "from keras.layers import Embedding\n",
            "from keras.layers import Conv1D, GlobalAveragePooling1D, MaxPooling1D\n",
            "\n",
            "#from models import svm, nn, cnn\n",
            "\n",
            "def feature_extraction(data_path):\n",
            "    \"\"\"Parses audio files in supplied data path.\n",
            "    -*- author: mtobeiyf https://github.com/mtobeiyf/audio-classification -*-\n",
            "    \"\"\"\n",
            "    r = os.listdir(data_path)\n",
            "    r.sort()\n",
            "    features, labels = parse_audio_files(data_path, r)\n",
            "    return features, labels\n",
            "\n",
            "def train(features, labels, type='cnn', num_classes=None, print_summary=False,\n",
            "    save_model=False, lr=0.01, loss_type=None, epochs=50, optimizer='SGD', verbose=True):\n",
            "    \"\"\"Trains model based on provided feature & target data\n",
            "    Options:\n",
            "    - epochs: The number of iterations. Default is 50.\n",
            "    - lr: Learning rate. Increase to speed up training time, decrease to get more accurate results (if your loss is 'jumping'). Default is 0.01.\n",
            "    - optimiser: Default is 'SGD'.\n",
            "    - print_summary: Prints a summary of the model you'll be training. Default is False.\n",
            "    - loss_type: Classification type. Default is categorical for >2 classes, and binary otherwise.\n",
            "    \"\"\"\n",
            "    labels = labels.ravel()\n",
            "    if num_classes == None: num_classes = np.max(labels, axis=0)\n",
            "\n",
            "    model = cnn(49)\n",
            "    if print_summary == True: model.summary()\n",
            "\n",
            "    if loss_type == None:\n",
            "        loss_type = 'binary' if num_classes <= 2 else 'categorical'\n",
            "    model.compile(optimizer=SGD(lr=lr),\n",
            "                  loss='%s_crossentropy' % loss_type,\n",
            "                  metrics=['accuracy'])\n",
            "\n",
            "    if loss_type == 'categorical':\n",
            "        y = to_categorical(labels - 1, num_classes=num_classes)\n",
            "    else:\n",
            "        y = labels - 1\n",
            "\n",
            "    x = np.expand_dims(features, axis=2)\n",
            "\n",
            "    model.fit(x, y, batch_size=64, epochs=epochs, verbose=verbose)\n",
            "\n",
            "    return model\n",
            "def predict(model, data_path):\n",
            "    \"\"\"Trains model based on provided feature & target data\n",
            "    Options:\n",
            "    - epochs: The number of iterations. Default is 50.\n",
            "    - lr: Learning rate. Increase to speed up training time, decrease to get more accurate results (if your loss is 'jumping'). Default is 0.01.\n",
            "    - optimiser: Default is 'SGD'.\n",
            "    - print_summary: Prints a summary of the model you'll be training. Default is False.\n",
            "    - type: Classification type. Default is categorical for >2 classes, and binary otherwise.\n",
            "    \"\"\"\n",
            "    x_data = parse_audio_file(data_path)\n",
            "    X_train = np.expand_dims(x_data, axis=2)\n",
            "    pred = model.predict(X_train)\n",
            "    return pred\n",
            "\n",
            "def print_leaderboard(pred, data_path):\n",
            "    \"\"\"Pretty prints leaderboard of top matches\n",
            "    \"\"\"\n",
            "    r = os.listdir(data_path)#returns a list of directory name in a given path\n",
            "    r.sort()#sort alphebatically\n",
            "    sorted = np.argsort(pred)# get the indices of the sorted array \n",
            "    #from lowest to highest\n",
            "    count = 0\n",
            "    #(-pred).argsort()[0], get the indices of sorted predictions from highest to lowest\n",
            "    for index in (-pred).argsort()[0]:\n",
            "        print('%d.' % (count + 1), r[index+1], str(round(pred[0][index]*100)) + '%', '(index %s)' % index)\n",
            "        count += 1\n",
            "\n",
            "def cnn(num_classes):\n",
            "    \"\"\"1D Convolutional Neural Network.\n",
            "    -*- ref: panotti https://github.com/drscotthawley/panotti -*-\n",
            "    \"\"\"\n",
            "    from keras.layers import Embedding\n",
            "    from keras.layers import Conv1D, GlobalAveragePooling1D, MaxPooling1D\n",
            "\n",
            "    activation = 'softmax' if num_classes > 2 else 'sigmoid'\n",
            "    model = Sequential()\n",
            "    model.add(Conv1D(64, 3, input_shape=(193, 1)))\n",
            "    model.add(Activation('relu'))\n",
            "    model.add(Conv1D(64, 3))\n",
            "    model.add(Activation('relu'))\n",
            "    model.add(MaxPooling1D(3))\n",
            "    model.add(Conv1D(128, 3))\n",
            "    model.add(Activation('relu'))\n",
            "    model.add(Conv1D(128, 3))\n",
            "    model.add(Activation('relu'))\n",
            "    model.add(GlobalAveragePooling1D())\n",
            "    model.add(Dropout(0.5))\n",
            "    model.add(Dense(num_classes))\n",
            "    model.add(Activation(activation))\n",
            "\n",
            "    return model\n",
            "\n"
          ],
          "name": "stdout"
        }
      ]
    },
    {
      "cell_type": "code",
      "metadata": {
        "id": "kI6WMWx7IMim",
        "colab": {
          "base_uri": "https://localhost:8080/",
          "height": 1000
        },
        "outputId": "0ba2e61e-f517-453e-b298-9937358b37c1"
      },
      "source": [
        "!cat '/content/drive/My Drive/soundclasify/pyaudioclassification/models.py'"
      ],
      "execution_count": null,
      "outputs": [
        {
          "output_type": "stream",
          "text": [
            "import numpy as np\n",
            "from keras.models import Sequential\n",
            "from keras.layers import Dense, Dropout, Activation\n",
            "\n",
            "def svm(num_classes):\n",
            "    \"\"\"Support vector machine.\n",
            "    -*- ref: mtobeiyf https://github.com/mtobeiyf/audio-classification -*-\n",
            "    \"\"\"\n",
            "    from sklearn.svm import SVC\n",
            "\n",
            "    return SVC(C=20.0, gamma=0.00001)\n",
            "\n",
            "def nn(num_classes):\n",
            "    \"\"\"Multi-layer perceptron.\n",
            "    \"\"\"\n",
            "    model = Sequential()\n",
            "    model.add(Dense(256, input_dim=193))\n",
            "    model.add(Activation('relu'))\n",
            "    model.add(Dropout(0.6))\n",
            "    model.add(Dense(512))\n",
            "    model.add(Activation('relu'))\n",
            "    model.add(Dropout(0.6))\n",
            "    model.add(Dense(num_classes))\n",
            "    model.add(Activation('softmax'))\n",
            "\n",
            "    return model\n",
            "\n",
            "def cnn(num_classes):\n",
            "    \"\"\"1D Convolutional Neural Network.\n",
            "    -*- ref: panotti https://github.com/drscotthawley/panotti -*-\n",
            "    \"\"\"\n",
            "    from keras.layers import Embedding\n",
            "    from keras.layers import Conv1D, GlobalAveragePooling1D, MaxPooling1D\n",
            "\n",
            "    activation = 'softmax' if num_classes > 2 else 'sigmoid'\n",
            "    model = Sequential()\n",
            "    model.add(Conv1D(64, 3, input_shape=(193, 1)))\n",
            "    model.add(Activation('relu'))\n",
            "    model.add(Conv1D(64, 3))\n",
            "    model.add(Activation('relu'))\n",
            "    model.add(MaxPooling1D(3))\n",
            "    model.add(Conv1D(128, 3))\n",
            "    model.add(Activation('relu'))\n",
            "    model.add(Conv1D(128, 3))\n",
            "    model.add(Activation('relu'))\n",
            "    model.add(GlobalAveragePooling1D())\n",
            "    model.add(Dropout(0.5))\n",
            "    model.add(Dense(num_classes))\n",
            "    model.add(Activation(activation))\n",
            "\n",
            "    return model\n",
            "\n",
            "def cnn2d(num_classes):\n",
            "    \"\"\"2D Convolutional Neural Network.\n",
            "    -*- ref: panotti https://github.com/drscotthawley/panotti -*-\n",
            "    \"\"\"\n",
            "    model.add(Conv2D(32, (3, 3), padding='valid', input_shape=(193, 1)))\n",
            "    model.add(BatchNormalization(axis=1))\n",
            "    model.add(Activation('relu'))\n",
            "\n",
            "    for layer in range(3):\n",
            "        model.add(Conv2D(32, (3, 3)))\n",
            "        model.add(Activation('elu'))\n",
            "        model.add(MaxPooling2D(pool_size=(2, 2)))\n",
            "        model.add(Dropout(0.5))\n",
            "\n",
            "    model.add(Flatten())\n",
            "    model.add(Dense(128))\n",
            "    model.add(Activation('elu'))\n",
            "    model.add(Dropout(0.5))\n",
            "    model.add(Dense(nb_classes))\n",
            "    model.add(Activation(\"softmax\"))"
          ],
          "name": "stdout"
        }
      ]
    },
    {
      "cell_type": "code",
      "metadata": {
        "id": "q7U9kHXL7c7I"
      },
      "source": [
        "import sys\n",
        "sys.path.append('/content/drive/My Drive/soundclasify/pyaudioclassification')"
      ],
      "execution_count": null,
      "outputs": []
    },
    {
      "cell_type": "code",
      "metadata": {
        "id": "72r6L_JxFEB5"
      },
      "source": [
        ""
      ],
      "execution_count": null,
      "outputs": []
    },
    {
      "cell_type": "code",
      "metadata": {
        "id": "pXTE0Opy7kcl",
        "colab": {
          "base_uri": "https://localhost:8080/",
          "height": 34
        },
        "outputId": "02e59bcd-e7ff-47b7-e6a5-b83939a73201"
      },
      "source": [
        "import intializemodels"
      ],
      "execution_count": null,
      "outputs": [
        {
          "output_type": "stream",
          "text": [
            "Using TensorFlow backend.\n"
          ],
          "name": "stderr"
        }
      ]
    },
    {
      "cell_type": "code",
      "metadata": {
        "id": "Bl7tJ3QhIuYS"
      },
      "source": [
        "from models import svm,nn,cnn,cnn2d"
      ],
      "execution_count": null,
      "outputs": []
    },
    {
      "cell_type": "code",
      "metadata": {
        "id": "wsGCU5Zqye2o"
      },
      "source": [
        "from intializemodels import feature_extraction, predict, print_leaderboard"
      ],
      "execution_count": null,
      "outputs": []
    },
    {
      "cell_type": "code",
      "metadata": {
        "id": "ZCiPDMS7DW0C"
      },
      "source": [
        "from intializemodels import train"
      ],
      "execution_count": null,
      "outputs": []
    },
    {
      "cell_type": "code",
      "metadata": {
        "id": "JPyrAThSumd0",
        "colab": {
          "base_uri": "https://localhost:8080/",
          "height": 170
        },
        "outputId": "8ed537b8-956f-4008-aa2d-ac6f0d9ffa70"
      },
      "source": [
        "%ls"
      ],
      "execution_count": null,
      "outputs": [
        {
          "output_type": "stream",
          "text": [
            " \u001b[0m\u001b[01;34maudio\u001b[0m/                                      \u001b[01;34mmodels\u001b[0m/\n",
            " bc_utils.py                                 my_modelnew_newcoughs2.h5\n",
            " \u001b[01;34mcategories\u001b[0m/                                 new_data_file_with_more_cough2.hkl\n",
            " clr_callback.py                            \u001b[01;34m'old models'\u001b[0m/\n",
            " environmental-sound-classification-50.zip   \u001b[01;34mpyaudioclassification1\u001b[0m/\n",
            " esc50.csv                                   \u001b[01;34m__pycache__\u001b[0m/\n",
            " featurete.npy                              \u001b[01;34m'Test wav files'\u001b[0m/\n",
            " \u001b[01;34mfirst_cough_addition_features\u001b[0m/              utils2.py\n",
            " labelee_new2.npy                            utils.py\n"
          ],
          "name": "stdout"
        }
      ]
    },
    {
      "cell_type": "code",
      "metadata": {
        "id": "5780cjJnuGG1",
        "colab": {
          "base_uri": "https://localhost:8080/",
          "height": 1000
        },
        "outputId": "0685e4b3-33c7-4fa3-f992-8bcc609c8240"
      },
      "source": [
        "features, labels = feature_extraction('/content/drive/My Drive/soundclasify/categories')"
      ],
      "execution_count": null,
      "outputs": [
        {
          "output_type": "stream",
          "text": [
            "\r  0%|          | 0/38 [00:00<?, ?it/s]"
          ],
          "name": "stderr"
        },
        {
          "output_type": "stream",
          "text": [
            "Reading /content/drive/My Drive/soundclasify/categories/airplane/*.wav ...\n"
          ],
          "name": "stdout"
        },
        {
          "output_type": "stream",
          "text": [
            "100%|██████████| 38/38 [01:07<00:00,  1.77s/it]\n",
            "  0%|          | 0/38 [00:00<?, ?it/s]"
          ],
          "name": "stderr"
        },
        {
          "output_type": "stream",
          "text": [
            "Reading /content/drive/My Drive/soundclasify/categories/breathing/*.wav ...\n"
          ],
          "name": "stdout"
        },
        {
          "output_type": "stream",
          "text": [
            "100%|██████████| 38/38 [00:54<00:00,  1.43s/it]\n",
            "  0%|          | 0/39 [00:00<?, ?it/s]"
          ],
          "name": "stderr"
        },
        {
          "output_type": "stream",
          "text": [
            "Reading /content/drive/My Drive/soundclasify/categories/brushing_teeth/*.wav ...\n"
          ],
          "name": "stdout"
        },
        {
          "output_type": "stream",
          "text": [
            "100%|██████████| 39/39 [01:12<00:00,  1.86s/it]\n",
            "  0%|          | 0/38 [00:00<?, ?it/s]"
          ],
          "name": "stderr"
        },
        {
          "output_type": "stream",
          "text": [
            "Reading /content/drive/My Drive/soundclasify/categories/can_opening/*.wav ...\n"
          ],
          "name": "stdout"
        },
        {
          "output_type": "stream",
          "text": [
            "100%|██████████| 38/38 [01:01<00:00,  1.62s/it]\n",
            "  0%|          | 0/38 [00:00<?, ?it/s]"
          ],
          "name": "stderr"
        },
        {
          "output_type": "stream",
          "text": [
            "Reading /content/drive/My Drive/soundclasify/categories/car_horn/*.wav ...\n"
          ],
          "name": "stdout"
        },
        {
          "output_type": "stream",
          "text": [
            "100%|██████████| 38/38 [01:02<00:00,  1.65s/it]\n",
            "  0%|          | 0/38 [00:00<?, ?it/s]"
          ],
          "name": "stderr"
        },
        {
          "output_type": "stream",
          "text": [
            "Reading /content/drive/My Drive/soundclasify/categories/cat/*.wav ...\n"
          ],
          "name": "stdout"
        },
        {
          "output_type": "stream",
          "text": [
            "100%|██████████| 38/38 [01:01<00:00,  1.63s/it]\n",
            "  0%|          | 0/38 [00:00<?, ?it/s]"
          ],
          "name": "stderr"
        },
        {
          "output_type": "stream",
          "text": [
            "Reading /content/drive/My Drive/soundclasify/categories/chainsaw/*.wav ...\n"
          ],
          "name": "stdout"
        },
        {
          "output_type": "stream",
          "text": [
            "100%|██████████| 38/38 [01:05<00:00,  1.73s/it]\n",
            "  0%|          | 0/38 [00:00<?, ?it/s]"
          ],
          "name": "stderr"
        },
        {
          "output_type": "stream",
          "text": [
            "Reading /content/drive/My Drive/soundclasify/categories/chirping_birds/*.wav ...\n"
          ],
          "name": "stdout"
        },
        {
          "output_type": "stream",
          "text": [
            "100%|██████████| 38/38 [01:06<00:00,  1.75s/it]\n",
            "  0%|          | 0/38 [00:00<?, ?it/s]"
          ],
          "name": "stderr"
        },
        {
          "output_type": "stream",
          "text": [
            "Reading /content/drive/My Drive/soundclasify/categories/church_bells/*.wav ...\n"
          ],
          "name": "stdout"
        },
        {
          "output_type": "stream",
          "text": [
            "100%|██████████| 38/38 [01:05<00:00,  1.74s/it]\n",
            "  0%|          | 0/38 [00:00<?, ?it/s]"
          ],
          "name": "stderr"
        },
        {
          "output_type": "stream",
          "text": [
            "Reading /content/drive/My Drive/soundclasify/categories/clapping/*.wav ...\n"
          ],
          "name": "stdout"
        },
        {
          "output_type": "stream",
          "text": [
            "100%|██████████| 38/38 [01:04<00:00,  1.71s/it]\n",
            "  0%|          | 0/38 [00:00<?, ?it/s]"
          ],
          "name": "stderr"
        },
        {
          "output_type": "stream",
          "text": [
            "Reading /content/drive/My Drive/soundclasify/categories/clock_alarm/*.wav ...\n"
          ],
          "name": "stdout"
        },
        {
          "output_type": "stream",
          "text": [
            "100%|██████████| 38/38 [01:12<00:00,  1.90s/it]\n",
            "  0%|          | 0/38 [00:00<?, ?it/s]"
          ],
          "name": "stderr"
        },
        {
          "output_type": "stream",
          "text": [
            "Reading /content/drive/My Drive/soundclasify/categories/clock_tick/*.wav ...\n"
          ],
          "name": "stdout"
        },
        {
          "output_type": "stream",
          "text": [
            "100%|██████████| 38/38 [01:04<00:00,  1.71s/it]\n",
            "  0%|          | 0/55 [00:00<?, ?it/s]"
          ],
          "name": "stderr"
        },
        {
          "output_type": "stream",
          "text": [
            "Reading /content/drive/My Drive/soundclasify/categories/coughing/*.wav ...\n"
          ],
          "name": "stdout"
        },
        {
          "output_type": "stream",
          "text": [
            "100%|██████████| 55/55 [01:24<00:00,  1.54s/it]\n",
            "  0%|          | 0/38 [00:00<?, ?it/s]"
          ],
          "name": "stderr"
        },
        {
          "output_type": "stream",
          "text": [
            "Reading /content/drive/My Drive/soundclasify/categories/cow/*.wav ...\n"
          ],
          "name": "stdout"
        },
        {
          "output_type": "stream",
          "text": [
            "100%|██████████| 38/38 [01:03<00:00,  1.68s/it]\n",
            "  0%|          | 0/38 [00:00<?, ?it/s]"
          ],
          "name": "stderr"
        },
        {
          "output_type": "stream",
          "text": [
            "Reading /content/drive/My Drive/soundclasify/categories/crackling_fire/*.wav ...\n"
          ],
          "name": "stdout"
        },
        {
          "output_type": "stream",
          "text": [
            "100%|██████████| 38/38 [01:05<00:00,  1.74s/it]\n",
            "  0%|          | 0/38 [00:00<?, ?it/s]"
          ],
          "name": "stderr"
        },
        {
          "output_type": "stream",
          "text": [
            "Reading /content/drive/My Drive/soundclasify/categories/crow/*.wav ...\n"
          ],
          "name": "stdout"
        },
        {
          "output_type": "stream",
          "text": [
            "100%|██████████| 38/38 [01:04<00:00,  1.71s/it]\n",
            "  0%|          | 0/38 [00:00<?, ?it/s]"
          ],
          "name": "stderr"
        },
        {
          "output_type": "stream",
          "text": [
            "Reading /content/drive/My Drive/soundclasify/categories/crying_baby/*.wav ...\n"
          ],
          "name": "stdout"
        },
        {
          "output_type": "stream",
          "text": [
            "100%|██████████| 38/38 [01:04<00:00,  1.70s/it]\n",
            "  0%|          | 0/38 [00:00<?, ?it/s]"
          ],
          "name": "stderr"
        },
        {
          "output_type": "stream",
          "text": [
            "Reading /content/drive/My Drive/soundclasify/categories/dog/*.wav ...\n"
          ],
          "name": "stdout"
        },
        {
          "output_type": "stream",
          "text": [
            "100%|██████████| 38/38 [01:01<00:00,  1.61s/it]\n",
            "  0%|          | 0/38 [00:00<?, ?it/s]"
          ],
          "name": "stderr"
        },
        {
          "output_type": "stream",
          "text": [
            "Reading /content/drive/My Drive/soundclasify/categories/door_wood_creaks/*.wav ...\n"
          ],
          "name": "stdout"
        },
        {
          "output_type": "stream",
          "text": [
            "100%|██████████| 38/38 [01:03<00:00,  1.66s/it]\n",
            "  0%|          | 0/38 [00:00<?, ?it/s]"
          ],
          "name": "stderr"
        },
        {
          "output_type": "stream",
          "text": [
            "Reading /content/drive/My Drive/soundclasify/categories/door_wood_knock/*.wav ...\n"
          ],
          "name": "stdout"
        },
        {
          "output_type": "stream",
          "text": [
            "100%|██████████| 38/38 [00:59<00:00,  1.57s/it]\n",
            "  0%|          | 0/38 [00:00<?, ?it/s]"
          ],
          "name": "stderr"
        },
        {
          "output_type": "stream",
          "text": [
            "Reading /content/drive/My Drive/soundclasify/categories/drinking_sipping/*.wav ...\n"
          ],
          "name": "stdout"
        },
        {
          "output_type": "stream",
          "text": [
            "100%|██████████| 38/38 [01:02<00:00,  1.65s/it]\n",
            "  0%|          | 0/38 [00:00<?, ?it/s]"
          ],
          "name": "stderr"
        },
        {
          "output_type": "stream",
          "text": [
            "Reading /content/drive/My Drive/soundclasify/categories/engine/*.wav ...\n"
          ],
          "name": "stdout"
        },
        {
          "output_type": "stream",
          "text": [
            "100%|██████████| 38/38 [01:04<00:00,  1.68s/it]\n",
            "  0%|          | 0/38 [00:00<?, ?it/s]"
          ],
          "name": "stderr"
        },
        {
          "output_type": "stream",
          "text": [
            "Reading /content/drive/My Drive/soundclasify/categories/fireworks/*.wav ...\n"
          ],
          "name": "stdout"
        },
        {
          "output_type": "stream",
          "text": [
            "100%|██████████| 38/38 [01:06<00:00,  1.75s/it]\n",
            "  0%|          | 0/38 [00:00<?, ?it/s]"
          ],
          "name": "stderr"
        },
        {
          "output_type": "stream",
          "text": [
            "Reading /content/drive/My Drive/soundclasify/categories/footsteps/*.wav ...\n"
          ],
          "name": "stdout"
        },
        {
          "output_type": "stream",
          "text": [
            "100%|██████████| 38/38 [01:01<00:00,  1.61s/it]\n",
            "  0%|          | 0/38 [00:00<?, ?it/s]"
          ],
          "name": "stderr"
        },
        {
          "output_type": "stream",
          "text": [
            "Reading /content/drive/My Drive/soundclasify/categories/frog/*.wav ...\n"
          ],
          "name": "stdout"
        },
        {
          "output_type": "stream",
          "text": [
            "100%|██████████| 38/38 [01:07<00:00,  1.78s/it]\n",
            "  0%|          | 0/38 [00:00<?, ?it/s]"
          ],
          "name": "stderr"
        },
        {
          "output_type": "stream",
          "text": [
            "Reading /content/drive/My Drive/soundclasify/categories/glass_breaking/*.wav ...\n"
          ],
          "name": "stdout"
        },
        {
          "output_type": "stream",
          "text": [
            "100%|██████████| 38/38 [00:56<00:00,  1.48s/it]\n",
            "  0%|          | 0/38 [00:00<?, ?it/s]"
          ],
          "name": "stderr"
        },
        {
          "output_type": "stream",
          "text": [
            "Reading /content/drive/My Drive/soundclasify/categories/hand_saw/*.wav ...\n"
          ],
          "name": "stdout"
        },
        {
          "output_type": "stream",
          "text": [
            "100%|██████████| 38/38 [01:04<00:00,  1.69s/it]\n",
            "  0%|          | 0/38 [00:00<?, ?it/s]"
          ],
          "name": "stderr"
        },
        {
          "output_type": "stream",
          "text": [
            "Reading /content/drive/My Drive/soundclasify/categories/helicopter/*.wav ...\n"
          ],
          "name": "stdout"
        },
        {
          "output_type": "stream",
          "text": [
            "100%|██████████| 38/38 [01:04<00:00,  1.70s/it]\n",
            "  0%|          | 0/38 [00:00<?, ?it/s]"
          ],
          "name": "stderr"
        },
        {
          "output_type": "stream",
          "text": [
            "Reading /content/drive/My Drive/soundclasify/categories/hen/*.wav ...\n"
          ],
          "name": "stdout"
        },
        {
          "output_type": "stream",
          "text": [
            "100%|██████████| 38/38 [01:05<00:00,  1.72s/it]\n",
            "  0%|          | 0/38 [00:00<?, ?it/s]"
          ],
          "name": "stderr"
        },
        {
          "output_type": "stream",
          "text": [
            "Reading /content/drive/My Drive/soundclasify/categories/insects/*.wav ...\n"
          ],
          "name": "stdout"
        },
        {
          "output_type": "stream",
          "text": [
            "100%|██████████| 38/38 [01:03<00:00,  1.68s/it]\n",
            "  0%|          | 0/38 [00:00<?, ?it/s]"
          ],
          "name": "stderr"
        },
        {
          "output_type": "stream",
          "text": [
            "Reading /content/drive/My Drive/soundclasify/categories/keyboard_typing/*.wav ...\n"
          ],
          "name": "stdout"
        },
        {
          "output_type": "stream",
          "text": [
            "100%|██████████| 38/38 [01:03<00:00,  1.68s/it]\n",
            "  0%|          | 0/38 [00:00<?, ?it/s]"
          ],
          "name": "stderr"
        },
        {
          "output_type": "stream",
          "text": [
            "Reading /content/drive/My Drive/soundclasify/categories/laughing/*.wav ...\n"
          ],
          "name": "stdout"
        },
        {
          "output_type": "stream",
          "text": [
            "100%|██████████| 38/38 [01:03<00:00,  1.68s/it]\n",
            "  0%|          | 0/38 [00:00<?, ?it/s]"
          ],
          "name": "stderr"
        },
        {
          "output_type": "stream",
          "text": [
            "Reading /content/drive/My Drive/soundclasify/categories/mouse_click/*.wav ...\n"
          ],
          "name": "stdout"
        },
        {
          "output_type": "stream",
          "text": [
            " 82%|████████▏ | 31/38 [00:52<00:11,  1.68s/it]/usr/local/lib/python3.6/dist-packages/librosa/core/pitch.py:145: UserWarning: Trying to estimate tuning from empty frequency set.\n",
            "  warnings.warn('Trying to estimate tuning from empty frequency set.')\n",
            "100%|██████████| 38/38 [01:04<00:00,  1.69s/it]\n",
            "  0%|          | 0/38 [00:00<?, ?it/s]"
          ],
          "name": "stderr"
        },
        {
          "output_type": "stream",
          "text": [
            "Reading /content/drive/My Drive/soundclasify/categories/pig/*.wav ...\n"
          ],
          "name": "stdout"
        },
        {
          "output_type": "stream",
          "text": [
            "100%|██████████| 38/38 [01:03<00:00,  1.67s/it]\n",
            "  0%|          | 0/38 [00:00<?, ?it/s]"
          ],
          "name": "stderr"
        },
        {
          "output_type": "stream",
          "text": [
            "Reading /content/drive/My Drive/soundclasify/categories/pouring_water/*.wav ...\n"
          ],
          "name": "stdout"
        },
        {
          "output_type": "stream",
          "text": [
            "100%|██████████| 38/38 [01:00<00:00,  1.59s/it]\n",
            "  0%|          | 0/38 [00:00<?, ?it/s]"
          ],
          "name": "stderr"
        },
        {
          "output_type": "stream",
          "text": [
            "Reading /content/drive/My Drive/soundclasify/categories/rain/*.wav ...\n"
          ],
          "name": "stdout"
        },
        {
          "output_type": "stream",
          "text": [
            "100%|██████████| 38/38 [01:02<00:00,  1.66s/it]\n",
            "  0%|          | 0/38 [00:00<?, ?it/s]"
          ],
          "name": "stderr"
        },
        {
          "output_type": "stream",
          "text": [
            "Reading /content/drive/My Drive/soundclasify/categories/rooster/*.wav ...\n"
          ],
          "name": "stdout"
        },
        {
          "output_type": "stream",
          "text": [
            "100%|██████████| 38/38 [00:58<00:00,  1.53s/it]\n",
            "  0%|          | 0/38 [00:00<?, ?it/s]"
          ],
          "name": "stderr"
        },
        {
          "output_type": "stream",
          "text": [
            "Reading /content/drive/My Drive/soundclasify/categories/sea_waves/*.wav ...\n"
          ],
          "name": "stdout"
        },
        {
          "output_type": "stream",
          "text": [
            "100%|██████████| 38/38 [01:04<00:00,  1.71s/it]\n",
            "  0%|          | 0/38 [00:00<?, ?it/s]"
          ],
          "name": "stderr"
        },
        {
          "output_type": "stream",
          "text": [
            "Reading /content/drive/My Drive/soundclasify/categories/sheep/*.wav ...\n"
          ],
          "name": "stdout"
        },
        {
          "output_type": "stream",
          "text": [
            "100%|██████████| 38/38 [01:04<00:00,  1.70s/it]\n",
            "  0%|          | 0/38 [00:00<?, ?it/s]"
          ],
          "name": "stderr"
        },
        {
          "output_type": "stream",
          "text": [
            "Reading /content/drive/My Drive/soundclasify/categories/siren/*.wav ...\n"
          ],
          "name": "stdout"
        },
        {
          "output_type": "stream",
          "text": [
            "100%|██████████| 38/38 [01:01<00:00,  1.62s/it]\n",
            "  0%|          | 0/38 [00:00<?, ?it/s]"
          ],
          "name": "stderr"
        },
        {
          "output_type": "stream",
          "text": [
            "Reading /content/drive/My Drive/soundclasify/categories/sneezing/*.wav ...\n"
          ],
          "name": "stdout"
        },
        {
          "output_type": "stream",
          "text": [
            "100%|██████████| 38/38 [00:57<00:00,  1.52s/it]\n",
            "  0%|          | 0/38 [00:00<?, ?it/s]"
          ],
          "name": "stderr"
        },
        {
          "output_type": "stream",
          "text": [
            "Reading /content/drive/My Drive/soundclasify/categories/snoring/*.wav ...\n"
          ],
          "name": "stdout"
        },
        {
          "output_type": "stream",
          "text": [
            "100%|██████████| 38/38 [01:04<00:00,  1.69s/it]\n",
            "  0%|          | 0/38 [00:00<?, ?it/s]"
          ],
          "name": "stderr"
        },
        {
          "output_type": "stream",
          "text": [
            "Reading /content/drive/My Drive/soundclasify/categories/thunderstorm/*.wav ...\n"
          ],
          "name": "stdout"
        },
        {
          "output_type": "stream",
          "text": [
            "100%|██████████| 38/38 [01:03<00:00,  1.66s/it]\n",
            "  0%|          | 0/38 [00:00<?, ?it/s]"
          ],
          "name": "stderr"
        },
        {
          "output_type": "stream",
          "text": [
            "Reading /content/drive/My Drive/soundclasify/categories/toilet_flush/*.wav ...\n"
          ],
          "name": "stdout"
        },
        {
          "output_type": "stream",
          "text": [
            "100%|██████████| 38/38 [01:04<00:00,  1.70s/it]\n",
            "  0%|          | 0/38 [00:00<?, ?it/s]"
          ],
          "name": "stderr"
        },
        {
          "output_type": "stream",
          "text": [
            "Reading /content/drive/My Drive/soundclasify/categories/train/*.wav ...\n"
          ],
          "name": "stdout"
        },
        {
          "output_type": "stream",
          "text": [
            "100%|██████████| 38/38 [01:03<00:00,  1.68s/it]\n",
            "  0%|          | 0/38 [00:00<?, ?it/s]"
          ],
          "name": "stderr"
        },
        {
          "output_type": "stream",
          "text": [
            "Reading /content/drive/My Drive/soundclasify/categories/vacuum_cleaner/*.wav ...\n"
          ],
          "name": "stdout"
        },
        {
          "output_type": "stream",
          "text": [
            "100%|██████████| 38/38 [01:04<00:00,  1.69s/it]\n",
            "  0%|          | 0/38 [00:00<?, ?it/s]"
          ],
          "name": "stderr"
        },
        {
          "output_type": "stream",
          "text": [
            "Reading /content/drive/My Drive/soundclasify/categories/washing_machine/*.wav ...\n"
          ],
          "name": "stdout"
        },
        {
          "output_type": "stream",
          "text": [
            "100%|██████████| 38/38 [01:02<00:00,  1.65s/it]\n",
            "  0%|          | 0/38 [00:00<?, ?it/s]"
          ],
          "name": "stderr"
        },
        {
          "output_type": "stream",
          "text": [
            "Reading /content/drive/My Drive/soundclasify/categories/water_drops/*.wav ...\n"
          ],
          "name": "stdout"
        },
        {
          "output_type": "stream",
          "text": [
            "100%|██████████| 38/38 [01:02<00:00,  1.66s/it]\n",
            "  0%|          | 0/38 [00:00<?, ?it/s]"
          ],
          "name": "stderr"
        },
        {
          "output_type": "stream",
          "text": [
            "Reading /content/drive/My Drive/soundclasify/categories/wind/*.wav ...\n"
          ],
          "name": "stdout"
        },
        {
          "output_type": "stream",
          "text": [
            "100%|██████████| 38/38 [01:02<00:00,  1.66s/it]\n"
          ],
          "name": "stderr"
        }
      ]
    },
    {
      "cell_type": "code",
      "metadata": {
        "id": "KeflU62u26_a",
        "colab": {
          "base_uri": "https://localhost:8080/",
          "height": 34
        },
        "outputId": "88239bd6-7541-4165-96f1-44597a6439ac"
      },
      "source": [
        "print(features.shape)"
      ],
      "execution_count": null,
      "outputs": [
        {
          "output_type": "stream",
          "text": [
            "(1965, 193)\n"
          ],
          "name": "stdout"
        }
      ]
    },
    {
      "cell_type": "code",
      "metadata": {
        "id": "f0mEim-VVkRe",
        "colab": {
          "base_uri": "https://localhost:8080/",
          "height": 34
        },
        "outputId": "2b51df3e-7976-439f-92f8-f1679538840e"
      },
      "source": [
        "print(labels.shape)"
      ],
      "execution_count": null,
      "outputs": [
        {
          "output_type": "stream",
          "text": [
            "(1965,)\n"
          ],
          "name": "stdout"
        }
      ]
    },
    {
      "cell_type": "code",
      "metadata": {
        "id": "ZHaAU34C29S2",
        "colab": {
          "base_uri": "https://localhost:8080/",
          "height": 34
        },
        "outputId": "76d9938b-c187-4402-8f26-1e7bf088d564"
      },
      "source": [
        "print(labels.shape)"
      ],
      "execution_count": null,
      "outputs": [
        {
          "output_type": "stream",
          "text": [
            "(1960,)\n"
          ],
          "name": "stdout"
        }
      ]
    },
    {
      "cell_type": "code",
      "metadata": {
        "id": "GJ8GsFvvBqSc"
      },
      "source": [
        "import numpy as np"
      ],
      "execution_count": null,
      "outputs": []
    },
    {
      "cell_type": "code",
      "metadata": {
        "id": "d3AYUjYwDrg5"
      },
      "source": [
        ""
      ],
      "execution_count": null,
      "outputs": []
    },
    {
      "cell_type": "code",
      "metadata": {
        "id": "n9tJAy0Omk2b"
      },
      "source": [
        "np.save('labelee_new3', labels)\n"
      ],
      "execution_count": null,
      "outputs": []
    },
    {
      "cell_type": "code",
      "metadata": {
        "id": "OcEgfIIexefm",
        "colab": {
          "base_uri": "https://localhost:8080/",
          "height": 129
        },
        "outputId": "94156539-a7e2-448c-e2e1-c171e3f542f2"
      },
      "source": [
        "\n",
        "# this is library build on pickle , to store features we extracted and load them when we want\n",
        "# we used it instead of numpy cuz numpy was screwing the shape of the array, so it cannot be loaded  ,\n",
        "# it saved me 50 mins loading features each time "
      ],
      "execution_count": null,
      "outputs": [
        {
          "output_type": "error",
          "ename": "SyntaxError",
          "evalue": "ignored",
          "traceback": [
            "\u001b[0;36m  File \u001b[0;32m\"<ipython-input-148-0e53d179de18>\"\u001b[0;36m, line \u001b[0;32m1\u001b[0m\n\u001b[0;31m    pip install hickle\u001b[0m\n\u001b[0m              ^\u001b[0m\n\u001b[0;31mSyntaxError\u001b[0m\u001b[0;31m:\u001b[0m invalid syntax\n"
          ]
        }
      ]
    },
    {
      "cell_type": "code",
      "metadata": {
        "id": "0rinxuVzwYwd",
        "colab": {
          "base_uri": "https://localhost:8080/",
          "height": 102
        },
        "outputId": "2fc75940-81f6-45b7-ae30-a6bd1587d84a"
      },
      "source": [
        "pip install hickle "
      ],
      "execution_count": null,
      "outputs": [
        {
          "output_type": "stream",
          "text": [
            "Requirement already satisfied: hickle in /usr/local/lib/python3.6/dist-packages (4.0.0)\n",
            "Requirement already satisfied: dill>=0.3.0 in /usr/local/lib/python3.6/dist-packages (from hickle) (0.3.2)\n",
            "Requirement already satisfied: numpy>=1.8 in /usr/local/lib/python3.6/dist-packages (from hickle) (1.18.5)\n",
            "Requirement already satisfied: h5py>=2.8.0 in /usr/local/lib/python3.6/dist-packages (from hickle) (2.10.0)\n",
            "Requirement already satisfied: six>=1.11.0 in /usr/local/lib/python3.6/dist-packages (from hickle) (1.15.0)\n"
          ],
          "name": "stdout"
        }
      ]
    },
    {
      "cell_type": "code",
      "metadata": {
        "id": "KY3XPbaCwWIP"
      },
      "source": [
        ""
      ],
      "execution_count": null,
      "outputs": []
    },
    {
      "cell_type": "code",
      "metadata": {
        "id": "Lg5jIpr8xStY"
      },
      "source": [
        "import hickle as hkl "
      ],
      "execution_count": null,
      "outputs": []
    },
    {
      "cell_type": "code",
      "metadata": {
        "id": "7G5g1edmxX85"
      },
      "source": [
        "hkl.dump( features, 'new_data_file_with_more_cough3.hkl' )\n",
        "\n",
        "\n"
      ],
      "execution_count": null,
      "outputs": []
    },
    {
      "cell_type": "code",
      "metadata": {
        "id": "Ea3L7-3SxwU4",
        "colab": {
          "base_uri": "https://localhost:8080/",
          "height": 34
        },
        "outputId": "113e64ab-5eed-4a60-e66b-683371bd5985"
      },
      "source": [
        "# Load data from file\n",
        "features = hkl.load( '/content/drive/My Drive/soundclasify/new_data_file_with_more_cough3.hkl' )\n",
        "print(features.shape)"
      ],
      "execution_count": null,
      "outputs": [
        {
          "output_type": "stream",
          "text": [
            "(1880, 193)\n"
          ],
          "name": "stdout"
        }
      ]
    },
    {
      "cell_type": "code",
      "metadata": {
        "id": "3PFUI4qgBvSc"
      },
      "source": [
        "features = np.load('%s.npy' % '/content/drive/My Drive/Features')#this is wrong "
      ],
      "execution_count": null,
      "outputs": []
    },
    {
      "cell_type": "code",
      "metadata": {
        "id": "ViMdmwALwJyS",
        "colab": {
          "base_uri": "https://localhost:8080/",
          "height": 34
        },
        "outputId": "bf354867-6dec-47ec-ed22-ed20489d9877"
      },
      "source": [
        "print(features.shape)# this is wrong, the numpy library is changing the dimensions of the feature matrix \n",
        "# which is not accepted by the neural network model"
      ],
      "execution_count": null,
      "outputs": [
        {
          "output_type": "stream",
          "text": [
            "(120, 193)\n"
          ],
          "name": "stdout"
        }
      ]
    },
    {
      "cell_type": "code",
      "metadata": {
        "id": "q7pd9gp3ezrD"
      },
      "source": [
        "import numpy as np\n",
        "labels=np.load('/content/drive/My Drive/soundclasify/labelee_new3.npy')"
      ],
      "execution_count": null,
      "outputs": []
    },
    {
      "cell_type": "code",
      "metadata": {
        "id": "8bao3TEIBd8i"
      },
      "source": [
        "np.save('featurete', features)"
      ],
      "execution_count": null,
      "outputs": []
    },
    {
      "cell_type": "code",
      "metadata": {
        "id": "j5EZRrj0ePQB"
      },
      "source": [
        "from tensorflow import keras\n",
        "from tensorflow.keras import layers"
      ],
      "execution_count": null,
      "outputs": []
    },
    {
      "cell_type": "code",
      "metadata": {
        "id": "hV6a5jM8eQPS"
      },
      "source": [
        "lr_schedule = keras.optimizers.schedules.ExponentialDecay(\n",
        "    initial_learning_rate=0.2,\n",
        "    decay_steps=9000,\n",
        "    decay_rate=0.9)\n"
      ],
      "execution_count": null,
      "outputs": []
    },
    {
      "cell_type": "code",
      "metadata": {
        "id": "JIEAlQIMIMh4"
      },
      "source": [
        "optimizer = keras.optimizers.SGD(learning_rate=lr_schedule,momentum=0.9)\n",
        "from pyaudioclassification import models"
      ],
      "execution_count": null,
      "outputs": []
    },
    {
      "cell_type": "code",
      "metadata": {
        "id": "OBPlkbtx9xAO"
      },
      "source": [
        "import numpy as np\n",
        "from keras.models import Sequential\n",
        "from keras.layers import Dense, Dropout, Activation\n"
      ],
      "execution_count": null,
      "outputs": []
    },
    {
      "cell_type": "code",
      "metadata": {
        "id": "Sx9wMC0ZAVz1",
        "colab": {
          "base_uri": "https://localhost:8080/",
          "height": 1000
        },
        "outputId": "1c7525cc-f4e9-4c5f-81da-e94cd29cc530"
      },
      "source": [
        "model = train(features, labels,epochs=1800,optimizer=optimizer,num_classes=49)"
      ],
      "execution_count": null,
      "outputs": [
        {
          "output_type": "stream",
          "text": [
            "Epoch 1/1800\n",
            "1880/1880 [==============================] - 0s 155us/step - loss: 3.9689 - accuracy: 0.0223\n",
            "Epoch 2/1800\n",
            "1880/1880 [==============================] - 0s 89us/step - loss: 3.9062 - accuracy: 0.0303\n",
            "Epoch 3/1800\n",
            "1880/1880 [==============================] - 0s 84us/step - loss: 3.8862 - accuracy: 0.0314\n",
            "Epoch 4/1800\n",
            "1880/1880 [==============================] - 0s 74us/step - loss: 3.8637 - accuracy: 0.0335\n",
            "Epoch 5/1800\n",
            "1880/1880 [==============================] - 0s 71us/step - loss: 3.8680 - accuracy: 0.0340\n",
            "Epoch 6/1800\n",
            "1880/1880 [==============================] - 0s 69us/step - loss: 3.8614 - accuracy: 0.0372\n",
            "Epoch 7/1800\n",
            "1880/1880 [==============================] - 0s 73us/step - loss: 3.8588 - accuracy: 0.0468\n",
            "Epoch 8/1800\n",
            "1880/1880 [==============================] - 0s 67us/step - loss: 3.8471 - accuracy: 0.0447\n",
            "Epoch 9/1800\n",
            "1880/1880 [==============================] - 0s 67us/step - loss: 3.8433 - accuracy: 0.0473\n",
            "Epoch 10/1800\n",
            "1880/1880 [==============================] - 0s 69us/step - loss: 3.8390 - accuracy: 0.0441\n",
            "Epoch 11/1800\n",
            "1880/1880 [==============================] - 0s 67us/step - loss: 3.8303 - accuracy: 0.0511\n",
            "Epoch 12/1800\n",
            "1880/1880 [==============================] - 0s 68us/step - loss: 3.8302 - accuracy: 0.0457\n",
            "Epoch 13/1800\n",
            "1880/1880 [==============================] - 0s 65us/step - loss: 3.8223 - accuracy: 0.0585\n",
            "Epoch 14/1800\n",
            "1880/1880 [==============================] - 0s 69us/step - loss: 3.8178 - accuracy: 0.0548\n",
            "Epoch 15/1800\n",
            "1880/1880 [==============================] - 0s 69us/step - loss: 3.8235 - accuracy: 0.0484\n",
            "Epoch 16/1800\n",
            "1880/1880 [==============================] - 0s 65us/step - loss: 3.8140 - accuracy: 0.0537\n",
            "Epoch 17/1800\n",
            "1880/1880 [==============================] - 0s 68us/step - loss: 3.8110 - accuracy: 0.0479\n",
            "Epoch 18/1800\n",
            "1880/1880 [==============================] - 0s 70us/step - loss: 3.8051 - accuracy: 0.0495\n",
            "Epoch 19/1800\n",
            "1880/1880 [==============================] - 0s 66us/step - loss: 3.8034 - accuracy: 0.0527\n",
            "Epoch 20/1800\n",
            "1880/1880 [==============================] - 0s 67us/step - loss: 3.8057 - accuracy: 0.0511\n",
            "Epoch 21/1800\n",
            "1880/1880 [==============================] - 0s 67us/step - loss: 3.7986 - accuracy: 0.0585\n",
            "Epoch 22/1800\n",
            "1880/1880 [==============================] - 0s 66us/step - loss: 3.8010 - accuracy: 0.0574\n",
            "Epoch 23/1800\n",
            "1880/1880 [==============================] - 0s 71us/step - loss: 3.7822 - accuracy: 0.0606\n",
            "Epoch 24/1800\n",
            "1880/1880 [==============================] - 0s 70us/step - loss: 3.7784 - accuracy: 0.0580\n",
            "Epoch 25/1800\n",
            "1880/1880 [==============================] - 0s 68us/step - loss: 3.7715 - accuracy: 0.0622\n",
            "Epoch 26/1800\n",
            "1880/1880 [==============================] - 0s 71us/step - loss: 3.7767 - accuracy: 0.0527\n",
            "Epoch 27/1800\n",
            "1880/1880 [==============================] - 0s 66us/step - loss: 3.7699 - accuracy: 0.0686\n",
            "Epoch 28/1800\n",
            "1880/1880 [==============================] - 0s 67us/step - loss: 3.7534 - accuracy: 0.0633\n",
            "Epoch 29/1800\n",
            "1880/1880 [==============================] - 0s 67us/step - loss: 3.7666 - accuracy: 0.0553\n",
            "Epoch 30/1800\n",
            "1880/1880 [==============================] - 0s 66us/step - loss: 3.7425 - accuracy: 0.0548\n",
            "Epoch 31/1800\n",
            "1880/1880 [==============================] - 0s 71us/step - loss: 3.7487 - accuracy: 0.0537\n",
            "Epoch 32/1800\n",
            "1880/1880 [==============================] - 0s 64us/step - loss: 3.7306 - accuracy: 0.0638\n",
            "Epoch 33/1800\n",
            "1880/1880 [==============================] - 0s 71us/step - loss: 3.7213 - accuracy: 0.0681\n",
            "Epoch 34/1800\n",
            "1880/1880 [==============================] - 0s 67us/step - loss: 3.7169 - accuracy: 0.0633\n",
            "Epoch 35/1800\n",
            "1880/1880 [==============================] - 0s 68us/step - loss: 3.7096 - accuracy: 0.0707\n",
            "Epoch 36/1800\n",
            "1880/1880 [==============================] - 0s 67us/step - loss: 3.7067 - accuracy: 0.0580\n",
            "Epoch 37/1800\n",
            "1880/1880 [==============================] - 0s 67us/step - loss: 3.6798 - accuracy: 0.0654\n",
            "Epoch 38/1800\n",
            "1880/1880 [==============================] - 0s 68us/step - loss: 3.6871 - accuracy: 0.0745\n",
            "Epoch 39/1800\n",
            "1880/1880 [==============================] - 0s 74us/step - loss: 3.6779 - accuracy: 0.0702\n",
            "Epoch 40/1800\n",
            "1880/1880 [==============================] - 0s 65us/step - loss: 3.6529 - accuracy: 0.0755\n",
            "Epoch 41/1800\n",
            "1880/1880 [==============================] - 0s 68us/step - loss: 3.6690 - accuracy: 0.0676\n",
            "Epoch 42/1800\n",
            "1880/1880 [==============================] - 0s 67us/step - loss: 3.6716 - accuracy: 0.0681\n",
            "Epoch 43/1800\n",
            "1880/1880 [==============================] - 0s 73us/step - loss: 3.6453 - accuracy: 0.0649\n",
            "Epoch 44/1800\n",
            "1880/1880 [==============================] - 0s 65us/step - loss: 3.6393 - accuracy: 0.0686\n",
            "Epoch 45/1800\n",
            "1880/1880 [==============================] - 0s 67us/step - loss: 3.6154 - accuracy: 0.0707\n",
            "Epoch 46/1800\n",
            "1880/1880 [==============================] - 0s 76us/step - loss: 3.6239 - accuracy: 0.0596\n",
            "Epoch 47/1800\n",
            "1880/1880 [==============================] - 0s 65us/step - loss: 3.5910 - accuracy: 0.0707\n",
            "Epoch 48/1800\n",
            "1880/1880 [==============================] - 0s 64us/step - loss: 3.5946 - accuracy: 0.0761\n",
            "Epoch 49/1800\n",
            "1880/1880 [==============================] - 0s 69us/step - loss: 3.5810 - accuracy: 0.0707\n",
            "Epoch 50/1800\n",
            "1880/1880 [==============================] - 0s 70us/step - loss: 3.5790 - accuracy: 0.0633\n",
            "Epoch 51/1800\n",
            "1880/1880 [==============================] - 0s 66us/step - loss: 3.5650 - accuracy: 0.0723\n",
            "Epoch 52/1800\n",
            "1880/1880 [==============================] - 0s 66us/step - loss: 3.5509 - accuracy: 0.0729\n",
            "Epoch 53/1800\n",
            "1880/1880 [==============================] - 0s 67us/step - loss: 3.5277 - accuracy: 0.0750\n",
            "Epoch 54/1800\n",
            "1880/1880 [==============================] - 0s 79us/step - loss: 3.5283 - accuracy: 0.0729\n",
            "Epoch 55/1800\n",
            "1880/1880 [==============================] - 0s 67us/step - loss: 3.5075 - accuracy: 0.0771\n",
            "Epoch 56/1800\n",
            "1880/1880 [==============================] - 0s 73us/step - loss: 3.5124 - accuracy: 0.0745\n",
            "Epoch 57/1800\n",
            "1880/1880 [==============================] - 0s 69us/step - loss: 3.5107 - accuracy: 0.0814\n",
            "Epoch 58/1800\n",
            "1880/1880 [==============================] - 0s 68us/step - loss: 3.4874 - accuracy: 0.0777\n",
            "Epoch 59/1800\n",
            "1880/1880 [==============================] - 0s 70us/step - loss: 3.4707 - accuracy: 0.0830\n",
            "Epoch 60/1800\n",
            "1880/1880 [==============================] - 0s 67us/step - loss: 3.4678 - accuracy: 0.0824\n",
            "Epoch 61/1800\n",
            "1880/1880 [==============================] - 0s 68us/step - loss: 3.4799 - accuracy: 0.0830\n",
            "Epoch 62/1800\n",
            "1880/1880 [==============================] - 0s 72us/step - loss: 3.4628 - accuracy: 0.0920\n",
            "Epoch 63/1800\n",
            "1880/1880 [==============================] - 0s 69us/step - loss: 3.4455 - accuracy: 0.0878\n",
            "Epoch 64/1800\n",
            "1880/1880 [==============================] - 0s 71us/step - loss: 3.4463 - accuracy: 0.0984\n",
            "Epoch 65/1800\n",
            "1880/1880 [==============================] - 0s 70us/step - loss: 3.4362 - accuracy: 0.0926\n",
            "Epoch 66/1800\n",
            "1880/1880 [==============================] - 0s 69us/step - loss: 3.4333 - accuracy: 0.0936\n",
            "Epoch 67/1800\n",
            "1880/1880 [==============================] - 0s 71us/step - loss: 3.4174 - accuracy: 0.0979\n",
            "Epoch 68/1800\n",
            "1880/1880 [==============================] - 0s 74us/step - loss: 3.4046 - accuracy: 0.1000\n",
            "Epoch 69/1800\n",
            "1880/1880 [==============================] - 0s 74us/step - loss: 3.3902 - accuracy: 0.1011\n",
            "Epoch 70/1800\n",
            "1880/1880 [==============================] - 0s 68us/step - loss: 3.3762 - accuracy: 0.0926\n",
            "Epoch 71/1800\n",
            "1880/1880 [==============================] - 0s 70us/step - loss: 3.3828 - accuracy: 0.1064\n",
            "Epoch 72/1800\n",
            "1880/1880 [==============================] - 0s 73us/step - loss: 3.3883 - accuracy: 0.0963\n",
            "Epoch 73/1800\n",
            "1880/1880 [==============================] - 0s 67us/step - loss: 3.3475 - accuracy: 0.1096\n",
            "Epoch 74/1800\n",
            "1880/1880 [==============================] - 0s 68us/step - loss: 3.3151 - accuracy: 0.1213\n",
            "Epoch 75/1800\n",
            "1880/1880 [==============================] - 0s 68us/step - loss: 3.3378 - accuracy: 0.1144\n",
            "Epoch 76/1800\n",
            "1880/1880 [==============================] - 0s 67us/step - loss: 3.3483 - accuracy: 0.1186\n",
            "Epoch 77/1800\n",
            "1880/1880 [==============================] - 0s 71us/step - loss: 3.3586 - accuracy: 0.0931\n",
            "Epoch 78/1800\n",
            "1880/1880 [==============================] - 0s 68us/step - loss: 3.3282 - accuracy: 0.1117\n",
            "Epoch 79/1800\n",
            "1880/1880 [==============================] - 0s 68us/step - loss: 3.2883 - accuracy: 0.1245\n",
            "Epoch 80/1800\n",
            "1880/1880 [==============================] - 0s 69us/step - loss: 3.2915 - accuracy: 0.1277\n",
            "Epoch 81/1800\n",
            "1880/1880 [==============================] - 0s 67us/step - loss: 3.2922 - accuracy: 0.1266\n",
            "Epoch 82/1800\n",
            "1880/1880 [==============================] - 0s 67us/step - loss: 3.2938 - accuracy: 0.1085\n",
            "Epoch 83/1800\n",
            "1880/1880 [==============================] - 0s 67us/step - loss: 3.2661 - accuracy: 0.1250\n",
            "Epoch 84/1800\n",
            "1880/1880 [==============================] - 0s 66us/step - loss: 3.2678 - accuracy: 0.1170\n",
            "Epoch 85/1800\n",
            "1880/1880 [==============================] - 0s 68us/step - loss: 3.2590 - accuracy: 0.1181\n",
            "Epoch 86/1800\n",
            "1880/1880 [==============================] - 0s 68us/step - loss: 3.2728 - accuracy: 0.1223\n",
            "Epoch 87/1800\n",
            "1880/1880 [==============================] - 0s 70us/step - loss: 3.2373 - accuracy: 0.1303\n",
            "Epoch 88/1800\n",
            "1880/1880 [==============================] - 0s 68us/step - loss: 3.2633 - accuracy: 0.1218\n",
            "Epoch 89/1800\n",
            "1880/1880 [==============================] - 0s 68us/step - loss: 3.2176 - accuracy: 0.1223\n",
            "Epoch 90/1800\n",
            "1880/1880 [==============================] - 0s 68us/step - loss: 3.2110 - accuracy: 0.1319\n",
            "Epoch 91/1800\n",
            "1880/1880 [==============================] - 0s 72us/step - loss: 3.2139 - accuracy: 0.1239\n",
            "Epoch 92/1800\n",
            "1880/1880 [==============================] - 0s 71us/step - loss: 3.2003 - accuracy: 0.1282\n",
            "Epoch 93/1800\n",
            "1880/1880 [==============================] - 0s 73us/step - loss: 3.1966 - accuracy: 0.1473\n",
            "Epoch 94/1800\n",
            "1880/1880 [==============================] - 0s 70us/step - loss: 3.2019 - accuracy: 0.1223\n",
            "Epoch 95/1800\n",
            "1880/1880 [==============================] - 0s 73us/step - loss: 3.2045 - accuracy: 0.1314\n",
            "Epoch 96/1800\n",
            "1880/1880 [==============================] - 0s 71us/step - loss: 3.2010 - accuracy: 0.1399\n",
            "Epoch 97/1800\n",
            "1880/1880 [==============================] - 0s 68us/step - loss: 3.1595 - accuracy: 0.1463\n",
            "Epoch 98/1800\n",
            "1880/1880 [==============================] - 0s 71us/step - loss: 3.1540 - accuracy: 0.1489\n",
            "Epoch 99/1800\n",
            "1880/1880 [==============================] - 0s 69us/step - loss: 3.1161 - accuracy: 0.1473\n",
            "Epoch 100/1800\n",
            "1880/1880 [==============================] - 0s 72us/step - loss: 3.1334 - accuracy: 0.1420\n",
            "Epoch 101/1800\n",
            "1880/1880 [==============================] - 0s 67us/step - loss: 3.1135 - accuracy: 0.1559\n",
            "Epoch 102/1800\n",
            "1880/1880 [==============================] - 0s 70us/step - loss: 3.1352 - accuracy: 0.1505\n",
            "Epoch 103/1800\n",
            "1880/1880 [==============================] - 0s 67us/step - loss: 3.1151 - accuracy: 0.1548\n",
            "Epoch 104/1800\n",
            "1880/1880 [==============================] - 0s 66us/step - loss: 3.1065 - accuracy: 0.1559\n",
            "Epoch 105/1800\n",
            "1880/1880 [==============================] - 0s 67us/step - loss: 3.0897 - accuracy: 0.1436\n",
            "Epoch 106/1800\n",
            "1880/1880 [==============================] - 0s 70us/step - loss: 3.0864 - accuracy: 0.1628\n",
            "Epoch 107/1800\n",
            "1880/1880 [==============================] - 0s 67us/step - loss: 3.1008 - accuracy: 0.1516\n",
            "Epoch 108/1800\n",
            "1880/1880 [==============================] - 0s 72us/step - loss: 3.0750 - accuracy: 0.1559\n",
            "Epoch 109/1800\n",
            "1880/1880 [==============================] - 0s 67us/step - loss: 3.0461 - accuracy: 0.1660\n",
            "Epoch 110/1800\n",
            "1880/1880 [==============================] - 0s 73us/step - loss: 3.0559 - accuracy: 0.1649\n",
            "Epoch 111/1800\n",
            "1880/1880 [==============================] - 0s 66us/step - loss: 3.0432 - accuracy: 0.1580\n",
            "Epoch 112/1800\n",
            "1880/1880 [==============================] - 0s 66us/step - loss: 3.0273 - accuracy: 0.1622\n",
            "Epoch 113/1800\n",
            "1880/1880 [==============================] - 0s 65us/step - loss: 3.0235 - accuracy: 0.1707\n",
            "Epoch 114/1800\n",
            "1880/1880 [==============================] - 0s 65us/step - loss: 3.0304 - accuracy: 0.1569\n",
            "Epoch 115/1800\n",
            "1880/1880 [==============================] - 0s 67us/step - loss: 2.9829 - accuracy: 0.1761\n",
            "Epoch 116/1800\n",
            "1880/1880 [==============================] - 0s 69us/step - loss: 2.9861 - accuracy: 0.1878\n",
            "Epoch 117/1800\n",
            "1880/1880 [==============================] - 0s 70us/step - loss: 3.0024 - accuracy: 0.1718\n",
            "Epoch 118/1800\n",
            "1880/1880 [==============================] - 0s 70us/step - loss: 2.9808 - accuracy: 0.1915\n",
            "Epoch 119/1800\n",
            "1880/1880 [==============================] - 0s 66us/step - loss: 2.9788 - accuracy: 0.1851\n",
            "Epoch 120/1800\n",
            "1880/1880 [==============================] - 0s 67us/step - loss: 2.9625 - accuracy: 0.1755\n",
            "Epoch 121/1800\n",
            "1880/1880 [==============================] - 0s 67us/step - loss: 2.9520 - accuracy: 0.1867\n",
            "Epoch 122/1800\n",
            "1880/1880 [==============================] - 0s 68us/step - loss: 2.9467 - accuracy: 0.1830\n",
            "Epoch 123/1800\n",
            "1880/1880 [==============================] - 0s 68us/step - loss: 2.9573 - accuracy: 0.1819\n",
            "Epoch 124/1800\n",
            "1880/1880 [==============================] - 0s 74us/step - loss: 2.9632 - accuracy: 0.1734\n",
            "Epoch 125/1800\n",
            "1880/1880 [==============================] - 0s 74us/step - loss: 2.9401 - accuracy: 0.1809\n",
            "Epoch 126/1800\n",
            "1880/1880 [==============================] - 0s 67us/step - loss: 2.9290 - accuracy: 0.1968\n",
            "Epoch 127/1800\n",
            "1880/1880 [==============================] - 0s 70us/step - loss: 2.9101 - accuracy: 0.1707\n",
            "Epoch 128/1800\n",
            "1880/1880 [==============================] - 0s 67us/step - loss: 2.9090 - accuracy: 0.2016\n",
            "Epoch 129/1800\n",
            "1880/1880 [==============================] - 0s 70us/step - loss: 2.9255 - accuracy: 0.1904\n",
            "Epoch 130/1800\n",
            "1880/1880 [==============================] - 0s 67us/step - loss: 2.8871 - accuracy: 0.2037\n",
            "Epoch 131/1800\n",
            "1880/1880 [==============================] - 0s 74us/step - loss: 2.9075 - accuracy: 0.1862\n",
            "Epoch 132/1800\n",
            "1880/1880 [==============================] - 0s 67us/step - loss: 2.9122 - accuracy: 0.1872\n",
            "Epoch 133/1800\n",
            "1880/1880 [==============================] - 0s 82us/step - loss: 2.8939 - accuracy: 0.1835\n",
            "Epoch 134/1800\n",
            "1880/1880 [==============================] - 0s 73us/step - loss: 2.8781 - accuracy: 0.1910\n",
            "Epoch 135/1800\n",
            "1880/1880 [==============================] - 0s 67us/step - loss: 2.8456 - accuracy: 0.2037\n",
            "Epoch 136/1800\n",
            "1880/1880 [==============================] - 0s 68us/step - loss: 2.8246 - accuracy: 0.2218\n",
            "Epoch 137/1800\n",
            "1880/1880 [==============================] - 0s 70us/step - loss: 2.8334 - accuracy: 0.2160\n",
            "Epoch 138/1800\n",
            "1880/1880 [==============================] - 0s 70us/step - loss: 2.8526 - accuracy: 0.2080\n",
            "Epoch 139/1800\n",
            "1880/1880 [==============================] - 0s 76us/step - loss: 2.8190 - accuracy: 0.2234\n",
            "Epoch 140/1800\n",
            "1880/1880 [==============================] - 0s 71us/step - loss: 2.8507 - accuracy: 0.2191\n",
            "Epoch 141/1800\n",
            "1880/1880 [==============================] - 0s 67us/step - loss: 2.7991 - accuracy: 0.2261\n",
            "Epoch 142/1800\n",
            "1880/1880 [==============================] - 0s 68us/step - loss: 2.8196 - accuracy: 0.2213\n",
            "Epoch 143/1800\n",
            "1880/1880 [==============================] - 0s 67us/step - loss: 2.7841 - accuracy: 0.2149\n",
            "Epoch 144/1800\n",
            "1880/1880 [==============================] - 0s 69us/step - loss: 2.8331 - accuracy: 0.2027\n",
            "Epoch 145/1800\n",
            "1880/1880 [==============================] - 0s 67us/step - loss: 2.7454 - accuracy: 0.2165\n",
            "Epoch 146/1800\n",
            "1880/1880 [==============================] - 0s 68us/step - loss: 2.7828 - accuracy: 0.2138\n",
            "Epoch 147/1800\n",
            "1880/1880 [==============================] - 0s 72us/step - loss: 2.7395 - accuracy: 0.2362\n",
            "Epoch 148/1800\n",
            "1880/1880 [==============================] - 0s 73us/step - loss: 2.7462 - accuracy: 0.2277\n",
            "Epoch 149/1800\n",
            "1880/1880 [==============================] - 0s 67us/step - loss: 2.7340 - accuracy: 0.2176\n",
            "Epoch 150/1800\n",
            "1880/1880 [==============================] - 0s 65us/step - loss: 2.7543 - accuracy: 0.2218\n",
            "Epoch 151/1800\n",
            "1880/1880 [==============================] - 0s 67us/step - loss: 2.7410 - accuracy: 0.2271\n",
            "Epoch 152/1800\n",
            "1880/1880 [==============================] - 0s 69us/step - loss: 2.7289 - accuracy: 0.2277\n",
            "Epoch 153/1800\n",
            "1880/1880 [==============================] - 0s 66us/step - loss: 2.7630 - accuracy: 0.2213\n",
            "Epoch 154/1800\n",
            "1880/1880 [==============================] - 0s 71us/step - loss: 2.7471 - accuracy: 0.2314\n",
            "Epoch 155/1800\n",
            "1880/1880 [==============================] - 0s 70us/step - loss: 2.7213 - accuracy: 0.2420\n",
            "Epoch 156/1800\n",
            "1880/1880 [==============================] - 0s 70us/step - loss: 2.7072 - accuracy: 0.2415\n",
            "Epoch 157/1800\n",
            "1880/1880 [==============================] - 0s 66us/step - loss: 2.7053 - accuracy: 0.2436\n",
            "Epoch 158/1800\n",
            "1880/1880 [==============================] - 0s 69us/step - loss: 2.7069 - accuracy: 0.2415\n",
            "Epoch 159/1800\n",
            "1880/1880 [==============================] - 0s 75us/step - loss: 2.6957 - accuracy: 0.2441\n",
            "Epoch 160/1800\n",
            "1880/1880 [==============================] - 0s 71us/step - loss: 2.7208 - accuracy: 0.2271\n",
            "Epoch 161/1800\n",
            "1880/1880 [==============================] - 0s 83us/step - loss: 2.6921 - accuracy: 0.2410\n",
            "Epoch 162/1800\n",
            "1880/1880 [==============================] - 0s 88us/step - loss: 2.6732 - accuracy: 0.2564\n",
            "Epoch 163/1800\n",
            "1880/1880 [==============================] - 0s 70us/step - loss: 2.6731 - accuracy: 0.2511\n",
            "Epoch 164/1800\n",
            "1880/1880 [==============================] - 0s 68us/step - loss: 2.6643 - accuracy: 0.2543\n",
            "Epoch 165/1800\n",
            "1880/1880 [==============================] - 0s 66us/step - loss: 2.6768 - accuracy: 0.2468\n",
            "Epoch 166/1800\n",
            "1880/1880 [==============================] - 0s 68us/step - loss: 2.6477 - accuracy: 0.2638\n",
            "Epoch 167/1800\n",
            "1880/1880 [==============================] - 0s 66us/step - loss: 2.6515 - accuracy: 0.2436\n",
            "Epoch 168/1800\n",
            "1880/1880 [==============================] - 0s 66us/step - loss: 2.6483 - accuracy: 0.2489\n",
            "Epoch 169/1800\n",
            "1880/1880 [==============================] - 0s 70us/step - loss: 2.6086 - accuracy: 0.2590\n",
            "Epoch 170/1800\n",
            "1880/1880 [==============================] - 0s 67us/step - loss: 2.6189 - accuracy: 0.2755\n",
            "Epoch 171/1800\n",
            "1880/1880 [==============================] - 0s 69us/step - loss: 2.6135 - accuracy: 0.2798\n",
            "Epoch 172/1800\n",
            "1880/1880 [==============================] - 0s 66us/step - loss: 2.5641 - accuracy: 0.2702\n",
            "Epoch 173/1800\n",
            "1880/1880 [==============================] - 0s 67us/step - loss: 2.6265 - accuracy: 0.2543\n",
            "Epoch 174/1800\n",
            "1880/1880 [==============================] - 0s 68us/step - loss: 2.6461 - accuracy: 0.2580\n",
            "Epoch 175/1800\n",
            "1880/1880 [==============================] - 0s 68us/step - loss: 2.5856 - accuracy: 0.2777\n",
            "Epoch 176/1800\n",
            "1880/1880 [==============================] - 0s 65us/step - loss: 2.5813 - accuracy: 0.2750\n",
            "Epoch 177/1800\n",
            "1880/1880 [==============================] - 0s 70us/step - loss: 2.5859 - accuracy: 0.2670\n",
            "Epoch 178/1800\n",
            "1880/1880 [==============================] - 0s 72us/step - loss: 2.5739 - accuracy: 0.2654\n",
            "Epoch 179/1800\n",
            "1880/1880 [==============================] - 0s 68us/step - loss: 2.5831 - accuracy: 0.2729\n",
            "Epoch 180/1800\n",
            "1880/1880 [==============================] - 0s 66us/step - loss: 2.5923 - accuracy: 0.2495\n",
            "Epoch 181/1800\n",
            "1880/1880 [==============================] - 0s 67us/step - loss: 2.5899 - accuracy: 0.2670\n",
            "Epoch 182/1800\n",
            "1880/1880 [==============================] - 0s 67us/step - loss: 2.5531 - accuracy: 0.2638\n",
            "Epoch 183/1800\n",
            "1880/1880 [==============================] - 0s 68us/step - loss: 2.5434 - accuracy: 0.2771\n",
            "Epoch 184/1800\n",
            "1880/1880 [==============================] - 0s 70us/step - loss: 2.5554 - accuracy: 0.2787\n",
            "Epoch 185/1800\n",
            "1880/1880 [==============================] - 0s 70us/step - loss: 2.5402 - accuracy: 0.2824\n",
            "Epoch 186/1800\n",
            "1880/1880 [==============================] - 0s 71us/step - loss: 2.5512 - accuracy: 0.2723\n",
            "Epoch 187/1800\n",
            "1880/1880 [==============================] - 0s 66us/step - loss: 2.5403 - accuracy: 0.2856\n",
            "Epoch 188/1800\n",
            "1880/1880 [==============================] - 0s 65us/step - loss: 2.5388 - accuracy: 0.2809\n",
            "Epoch 189/1800\n",
            "1880/1880 [==============================] - 0s 67us/step - loss: 2.5448 - accuracy: 0.2803\n",
            "Epoch 190/1800\n",
            "1880/1880 [==============================] - 0s 67us/step - loss: 2.5155 - accuracy: 0.2878\n",
            "Epoch 191/1800\n",
            "1880/1880 [==============================] - 0s 66us/step - loss: 2.5067 - accuracy: 0.2771\n",
            "Epoch 192/1800\n",
            "1880/1880 [==============================] - 0s 66us/step - loss: 2.4865 - accuracy: 0.2824\n",
            "Epoch 193/1800\n",
            "1880/1880 [==============================] - 0s 69us/step - loss: 2.4853 - accuracy: 0.3032\n",
            "Epoch 194/1800\n",
            "1880/1880 [==============================] - 0s 74us/step - loss: 2.5031 - accuracy: 0.2968\n",
            "Epoch 195/1800\n",
            "1880/1880 [==============================] - 0s 66us/step - loss: 2.4344 - accuracy: 0.2968\n",
            "Epoch 196/1800\n",
            "1880/1880 [==============================] - 0s 65us/step - loss: 2.4871 - accuracy: 0.2883\n",
            "Epoch 197/1800\n",
            "1880/1880 [==============================] - 0s 66us/step - loss: 2.4849 - accuracy: 0.3016\n",
            "Epoch 198/1800\n",
            "1880/1880 [==============================] - 0s 67us/step - loss: 2.5162 - accuracy: 0.2888\n",
            "Epoch 199/1800\n",
            "1880/1880 [==============================] - 0s 66us/step - loss: 2.4499 - accuracy: 0.3037\n",
            "Epoch 200/1800\n",
            "1880/1880 [==============================] - 0s 67us/step - loss: 2.4557 - accuracy: 0.3059\n",
            "Epoch 201/1800\n",
            "1880/1880 [==============================] - 0s 72us/step - loss: 2.4714 - accuracy: 0.3202\n",
            "Epoch 202/1800\n",
            "1880/1880 [==============================] - 0s 72us/step - loss: 2.4291 - accuracy: 0.2963\n",
            "Epoch 203/1800\n",
            "1880/1880 [==============================] - 0s 64us/step - loss: 2.4524 - accuracy: 0.3069\n",
            "Epoch 204/1800\n",
            "1880/1880 [==============================] - 0s 66us/step - loss: 2.4436 - accuracy: 0.2957\n",
            "Epoch 205/1800\n",
            "1880/1880 [==============================] - 0s 67us/step - loss: 2.4215 - accuracy: 0.3027\n",
            "Epoch 206/1800\n",
            "1880/1880 [==============================] - 0s 67us/step - loss: 2.4310 - accuracy: 0.3043\n",
            "Epoch 207/1800\n",
            "1880/1880 [==============================] - 0s 67us/step - loss: 2.4303 - accuracy: 0.2936\n",
            "Epoch 208/1800\n",
            "1880/1880 [==============================] - 0s 66us/step - loss: 2.4155 - accuracy: 0.3138\n",
            "Epoch 209/1800\n",
            "1880/1880 [==============================] - 0s 70us/step - loss: 2.4300 - accuracy: 0.3059\n",
            "Epoch 210/1800\n",
            "1880/1880 [==============================] - 0s 69us/step - loss: 2.4168 - accuracy: 0.3106\n",
            "Epoch 211/1800\n",
            "1880/1880 [==============================] - 0s 71us/step - loss: 2.3989 - accuracy: 0.3191\n",
            "Epoch 212/1800\n",
            "1880/1880 [==============================] - 0s 65us/step - loss: 2.4019 - accuracy: 0.3085\n",
            "Epoch 213/1800\n",
            "1880/1880 [==============================] - 0s 65us/step - loss: 2.3940 - accuracy: 0.3106\n",
            "Epoch 214/1800\n",
            "1880/1880 [==============================] - 0s 67us/step - loss: 2.3709 - accuracy: 0.3176\n",
            "Epoch 215/1800\n",
            "1880/1880 [==============================] - 0s 71us/step - loss: 2.4212 - accuracy: 0.3181\n",
            "Epoch 216/1800\n",
            "1880/1880 [==============================] - 0s 70us/step - loss: 2.3804 - accuracy: 0.3255\n",
            "Epoch 217/1800\n",
            "1880/1880 [==============================] - 0s 73us/step - loss: 2.3913 - accuracy: 0.3112\n",
            "Epoch 218/1800\n",
            "1880/1880 [==============================] - 0s 70us/step - loss: 2.3716 - accuracy: 0.3048\n",
            "Epoch 219/1800\n",
            "1880/1880 [==============================] - 0s 65us/step - loss: 2.4029 - accuracy: 0.3096\n",
            "Epoch 220/1800\n",
            "1880/1880 [==============================] - 0s 67us/step - loss: 2.3661 - accuracy: 0.3149\n",
            "Epoch 221/1800\n",
            "1880/1880 [==============================] - 0s 64us/step - loss: 2.3833 - accuracy: 0.3346\n",
            "Epoch 222/1800\n",
            "1880/1880 [==============================] - 0s 69us/step - loss: 2.3375 - accuracy: 0.3261\n",
            "Epoch 223/1800\n",
            "1880/1880 [==============================] - 0s 66us/step - loss: 2.3532 - accuracy: 0.3255\n",
            "Epoch 224/1800\n",
            "1880/1880 [==============================] - 0s 68us/step - loss: 2.3692 - accuracy: 0.3287\n",
            "Epoch 225/1800\n",
            "1880/1880 [==============================] - 0s 69us/step - loss: 2.3288 - accuracy: 0.3250\n",
            "Epoch 226/1800\n",
            "1880/1880 [==============================] - 0s 65us/step - loss: 2.3385 - accuracy: 0.3271\n",
            "Epoch 227/1800\n",
            "1880/1880 [==============================] - 0s 67us/step - loss: 2.2998 - accuracy: 0.3388\n",
            "Epoch 228/1800\n",
            "1880/1880 [==============================] - 0s 66us/step - loss: 2.3366 - accuracy: 0.3213\n",
            "Epoch 229/1800\n",
            "1880/1880 [==============================] - 0s 67us/step - loss: 2.3476 - accuracy: 0.3255\n",
            "Epoch 230/1800\n",
            "1880/1880 [==============================] - 0s 66us/step - loss: 2.3363 - accuracy: 0.3399\n",
            "Epoch 231/1800\n",
            "1880/1880 [==============================] - 0s 69us/step - loss: 2.3114 - accuracy: 0.3420\n",
            "Epoch 232/1800\n",
            "1880/1880 [==============================] - 0s 71us/step - loss: 2.3225 - accuracy: 0.3441\n",
            "Epoch 233/1800\n",
            "1880/1880 [==============================] - 0s 69us/step - loss: 2.3283 - accuracy: 0.3410\n",
            "Epoch 234/1800\n",
            "1880/1880 [==============================] - 0s 67us/step - loss: 2.2919 - accuracy: 0.3404\n",
            "Epoch 235/1800\n",
            "1880/1880 [==============================] - 0s 71us/step - loss: 2.3034 - accuracy: 0.3468\n",
            "Epoch 236/1800\n",
            "1880/1880 [==============================] - 0s 70us/step - loss: 2.3058 - accuracy: 0.3468\n",
            "Epoch 237/1800\n",
            "1880/1880 [==============================] - 0s 67us/step - loss: 2.2510 - accuracy: 0.3596\n",
            "Epoch 238/1800\n",
            "1880/1880 [==============================] - 0s 68us/step - loss: 2.2813 - accuracy: 0.3505\n",
            "Epoch 239/1800\n",
            "1880/1880 [==============================] - 0s 68us/step - loss: 2.2773 - accuracy: 0.3351\n",
            "Epoch 240/1800\n",
            "1880/1880 [==============================] - 0s 75us/step - loss: 2.2504 - accuracy: 0.3521\n",
            "Epoch 241/1800\n",
            "1880/1880 [==============================] - 0s 70us/step - loss: 2.2990 - accuracy: 0.3367\n",
            "Epoch 242/1800\n",
            "1880/1880 [==============================] - 0s 68us/step - loss: 2.2839 - accuracy: 0.3484\n",
            "Epoch 243/1800\n",
            "1880/1880 [==============================] - 0s 69us/step - loss: 2.2537 - accuracy: 0.3516\n",
            "Epoch 244/1800\n",
            "1880/1880 [==============================] - 0s 68us/step - loss: 2.2535 - accuracy: 0.3484\n",
            "Epoch 245/1800\n",
            "1880/1880 [==============================] - 0s 68us/step - loss: 2.2554 - accuracy: 0.3484\n",
            "Epoch 246/1800\n",
            "1880/1880 [==============================] - 0s 67us/step - loss: 2.2611 - accuracy: 0.3426\n",
            "Epoch 247/1800\n",
            "1880/1880 [==============================] - 0s 68us/step - loss: 2.2384 - accuracy: 0.3628\n",
            "Epoch 248/1800\n",
            "1880/1880 [==============================] - 0s 72us/step - loss: 2.2492 - accuracy: 0.3468\n",
            "Epoch 249/1800\n",
            "1880/1880 [==============================] - 0s 66us/step - loss: 2.2350 - accuracy: 0.3457\n",
            "Epoch 250/1800\n",
            "1880/1880 [==============================] - 0s 67us/step - loss: 2.2026 - accuracy: 0.3622\n",
            "Epoch 251/1800\n",
            "1880/1880 [==============================] - 0s 66us/step - loss: 2.2769 - accuracy: 0.3404\n",
            "Epoch 252/1800\n",
            "1880/1880 [==============================] - 0s 69us/step - loss: 2.2068 - accuracy: 0.3707\n",
            "Epoch 253/1800\n",
            "1880/1880 [==============================] - 0s 68us/step - loss: 2.2326 - accuracy: 0.3590\n",
            "Epoch 254/1800\n",
            "1880/1880 [==============================] - 0s 65us/step - loss: 2.2132 - accuracy: 0.3612\n",
            "Epoch 255/1800\n",
            "1880/1880 [==============================] - 0s 68us/step - loss: 2.2157 - accuracy: 0.3569\n",
            "Epoch 256/1800\n",
            "1880/1880 [==============================] - 0s 80us/step - loss: 2.1914 - accuracy: 0.3622\n",
            "Epoch 257/1800\n",
            "1880/1880 [==============================] - 0s 67us/step - loss: 2.2167 - accuracy: 0.3516\n",
            "Epoch 258/1800\n",
            "1880/1880 [==============================] - 0s 68us/step - loss: 2.2049 - accuracy: 0.3596\n",
            "Epoch 259/1800\n",
            "1880/1880 [==============================] - 0s 67us/step - loss: 2.2045 - accuracy: 0.3782\n",
            "Epoch 260/1800\n",
            "1880/1880 [==============================] - 0s 66us/step - loss: 2.1831 - accuracy: 0.3676\n",
            "Epoch 261/1800\n",
            "1880/1880 [==============================] - 0s 67us/step - loss: 2.1944 - accuracy: 0.3644\n",
            "Epoch 262/1800\n",
            "1880/1880 [==============================] - 0s 68us/step - loss: 2.1996 - accuracy: 0.3681\n",
            "Epoch 263/1800\n",
            "1880/1880 [==============================] - 0s 72us/step - loss: 2.1543 - accuracy: 0.3739\n",
            "Epoch 264/1800\n",
            "1880/1880 [==============================] - 0s 69us/step - loss: 2.1681 - accuracy: 0.3612\n",
            "Epoch 265/1800\n",
            "1880/1880 [==============================] - 0s 65us/step - loss: 2.1887 - accuracy: 0.3713\n",
            "Epoch 266/1800\n",
            "1880/1880 [==============================] - 0s 69us/step - loss: 2.1867 - accuracy: 0.3596\n",
            "Epoch 267/1800\n",
            "1880/1880 [==============================] - 0s 66us/step - loss: 2.1796 - accuracy: 0.3633\n",
            "Epoch 268/1800\n",
            "1880/1880 [==============================] - 0s 65us/step - loss: 2.1631 - accuracy: 0.3723\n",
            "Epoch 269/1800\n",
            "1880/1880 [==============================] - 0s 67us/step - loss: 2.1917 - accuracy: 0.3691\n",
            "Epoch 270/1800\n",
            "1880/1880 [==============================] - 0s 66us/step - loss: 2.1822 - accuracy: 0.3612\n",
            "Epoch 271/1800\n",
            "1880/1880 [==============================] - 0s 71us/step - loss: 2.1600 - accuracy: 0.3612\n",
            "Epoch 272/1800\n",
            "1880/1880 [==============================] - 0s 72us/step - loss: 2.1523 - accuracy: 0.3750\n",
            "Epoch 273/1800\n",
            "1880/1880 [==============================] - 0s 72us/step - loss: 2.1588 - accuracy: 0.3670\n",
            "Epoch 274/1800\n",
            "1880/1880 [==============================] - 0s 68us/step - loss: 2.1551 - accuracy: 0.3681\n",
            "Epoch 275/1800\n",
            "1880/1880 [==============================] - 0s 68us/step - loss: 2.1488 - accuracy: 0.3761\n",
            "Epoch 276/1800\n",
            "1880/1880 [==============================] - 0s 70us/step - loss: 2.1339 - accuracy: 0.3819\n",
            "Epoch 277/1800\n",
            "1880/1880 [==============================] - 0s 71us/step - loss: 2.1158 - accuracy: 0.3915\n",
            "Epoch 278/1800\n",
            "1880/1880 [==============================] - 0s 69us/step - loss: 2.1136 - accuracy: 0.3835\n",
            "Epoch 279/1800\n",
            "1880/1880 [==============================] - 0s 74us/step - loss: 2.1353 - accuracy: 0.3798\n",
            "Epoch 280/1800\n",
            "1880/1880 [==============================] - 0s 65us/step - loss: 2.1170 - accuracy: 0.3867\n",
            "Epoch 281/1800\n",
            "1880/1880 [==============================] - 0s 65us/step - loss: 2.1251 - accuracy: 0.3766\n",
            "Epoch 282/1800\n",
            "1880/1880 [==============================] - 0s 67us/step - loss: 2.1243 - accuracy: 0.3851\n",
            "Epoch 283/1800\n",
            "1880/1880 [==============================] - 0s 65us/step - loss: 2.1043 - accuracy: 0.3830\n",
            "Epoch 284/1800\n",
            "1880/1880 [==============================] - 0s 67us/step - loss: 2.1141 - accuracy: 0.3899\n",
            "Epoch 285/1800\n",
            "1880/1880 [==============================] - 0s 65us/step - loss: 2.0841 - accuracy: 0.3910\n",
            "Epoch 286/1800\n",
            "1880/1880 [==============================] - 0s 66us/step - loss: 2.0970 - accuracy: 0.3777\n",
            "Epoch 287/1800\n",
            "1880/1880 [==============================] - 0s 76us/step - loss: 2.0713 - accuracy: 0.3899\n",
            "Epoch 288/1800\n",
            "1880/1880 [==============================] - 0s 67us/step - loss: 2.1392 - accuracy: 0.3729\n",
            "Epoch 289/1800\n",
            "1880/1880 [==============================] - 0s 67us/step - loss: 2.1150 - accuracy: 0.3803\n",
            "Epoch 290/1800\n",
            "1880/1880 [==============================] - 0s 66us/step - loss: 2.1028 - accuracy: 0.3872\n",
            "Epoch 291/1800\n",
            "1880/1880 [==============================] - 0s 66us/step - loss: 2.0746 - accuracy: 0.3851\n",
            "Epoch 292/1800\n",
            "1880/1880 [==============================] - 0s 69us/step - loss: 2.0934 - accuracy: 0.3819\n",
            "Epoch 293/1800\n",
            "1880/1880 [==============================] - 0s 69us/step - loss: 2.0673 - accuracy: 0.3989\n",
            "Epoch 294/1800\n",
            "1880/1880 [==============================] - 0s 69us/step - loss: 2.0778 - accuracy: 0.4005\n",
            "Epoch 295/1800\n",
            "1880/1880 [==============================] - 0s 74us/step - loss: 2.0294 - accuracy: 0.4133\n",
            "Epoch 296/1800\n",
            "1880/1880 [==============================] - 0s 70us/step - loss: 2.0741 - accuracy: 0.3803\n",
            "Epoch 297/1800\n",
            "1880/1880 [==============================] - 0s 68us/step - loss: 2.0953 - accuracy: 0.3819\n",
            "Epoch 298/1800\n",
            "1880/1880 [==============================] - 0s 74us/step - loss: 2.0695 - accuracy: 0.3915\n",
            "Epoch 299/1800\n",
            "1880/1880 [==============================] - 0s 66us/step - loss: 2.0669 - accuracy: 0.4000\n",
            "Epoch 300/1800\n",
            "1880/1880 [==============================] - 0s 68us/step - loss: 2.0578 - accuracy: 0.4011\n",
            "Epoch 301/1800\n",
            "1880/1880 [==============================] - 0s 68us/step - loss: 2.0620 - accuracy: 0.4043\n",
            "Epoch 302/1800\n",
            "1880/1880 [==============================] - 0s 81us/step - loss: 2.0577 - accuracy: 0.4064\n",
            "Epoch 303/1800\n",
            "1880/1880 [==============================] - 0s 69us/step - loss: 2.0540 - accuracy: 0.3968\n",
            "Epoch 304/1800\n",
            "1880/1880 [==============================] - 0s 68us/step - loss: 2.0528 - accuracy: 0.4133\n",
            "Epoch 305/1800\n",
            "1880/1880 [==============================] - 0s 70us/step - loss: 2.0894 - accuracy: 0.3840\n",
            "Epoch 306/1800\n",
            "1880/1880 [==============================] - 0s 69us/step - loss: 2.0274 - accuracy: 0.4027\n",
            "Epoch 307/1800\n",
            "1880/1880 [==============================] - 0s 67us/step - loss: 2.0335 - accuracy: 0.4106\n",
            "Epoch 308/1800\n",
            "1880/1880 [==============================] - 0s 68us/step - loss: 2.0423 - accuracy: 0.4101\n",
            "Epoch 309/1800\n",
            "1880/1880 [==============================] - 0s 67us/step - loss: 2.0197 - accuracy: 0.3989\n",
            "Epoch 310/1800\n",
            "1880/1880 [==============================] - 0s 73us/step - loss: 2.0459 - accuracy: 0.4021\n",
            "Epoch 311/1800\n",
            "1880/1880 [==============================] - 0s 67us/step - loss: 2.0397 - accuracy: 0.3936\n",
            "Epoch 312/1800\n",
            "1880/1880 [==============================] - 0s 67us/step - loss: 2.0075 - accuracy: 0.4154\n",
            "Epoch 313/1800\n",
            "1880/1880 [==============================] - 0s 68us/step - loss: 2.0362 - accuracy: 0.4059\n",
            "Epoch 314/1800\n",
            "1880/1880 [==============================] - 0s 66us/step - loss: 2.0422 - accuracy: 0.4069\n",
            "Epoch 315/1800\n",
            "1880/1880 [==============================] - 0s 68us/step - loss: 2.0361 - accuracy: 0.4144\n",
            "Epoch 316/1800\n",
            "1880/1880 [==============================] - 0s 69us/step - loss: 2.0177 - accuracy: 0.4186\n",
            "Epoch 317/1800\n",
            "1880/1880 [==============================] - 0s 70us/step - loss: 1.9660 - accuracy: 0.4245\n",
            "Epoch 318/1800\n",
            "1880/1880 [==============================] - 0s 75us/step - loss: 2.0464 - accuracy: 0.3952\n",
            "Epoch 319/1800\n",
            "1880/1880 [==============================] - 0s 73us/step - loss: 1.9673 - accuracy: 0.4293\n",
            "Epoch 320/1800\n",
            "1880/1880 [==============================] - 0s 68us/step - loss: 1.9627 - accuracy: 0.4335\n",
            "Epoch 321/1800\n",
            "1880/1880 [==============================] - 0s 66us/step - loss: 1.9951 - accuracy: 0.4122\n",
            "Epoch 322/1800\n",
            "1880/1880 [==============================] - 0s 68us/step - loss: 1.9925 - accuracy: 0.4027\n",
            "Epoch 323/1800\n",
            "1880/1880 [==============================] - 0s 68us/step - loss: 1.9860 - accuracy: 0.4181\n",
            "Epoch 324/1800\n",
            "1880/1880 [==============================] - 0s 71us/step - loss: 1.9579 - accuracy: 0.4181\n",
            "Epoch 325/1800\n",
            "1880/1880 [==============================] - 0s 75us/step - loss: 1.9778 - accuracy: 0.4117\n",
            "Epoch 326/1800\n",
            "1880/1880 [==============================] - 0s 68us/step - loss: 1.9508 - accuracy: 0.4388\n",
            "Epoch 327/1800\n",
            "1880/1880 [==============================] - 0s 68us/step - loss: 1.9550 - accuracy: 0.4261\n",
            "Epoch 328/1800\n",
            "1880/1880 [==============================] - 0s 66us/step - loss: 1.9916 - accuracy: 0.4043\n",
            "Epoch 329/1800\n",
            "1880/1880 [==============================] - 0s 64us/step - loss: 1.9983 - accuracy: 0.4154\n",
            "Epoch 330/1800\n",
            "1880/1880 [==============================] - 0s 66us/step - loss: 1.9663 - accuracy: 0.4356\n",
            "Epoch 331/1800\n",
            "1880/1880 [==============================] - 0s 68us/step - loss: 1.9640 - accuracy: 0.4053\n",
            "Epoch 332/1800\n",
            "1880/1880 [==============================] - 0s 67us/step - loss: 1.9622 - accuracy: 0.4255\n",
            "Epoch 333/1800\n",
            "1880/1880 [==============================] - 0s 73us/step - loss: 1.9515 - accuracy: 0.4229\n",
            "Epoch 334/1800\n",
            "1880/1880 [==============================] - 0s 65us/step - loss: 1.9213 - accuracy: 0.4404\n",
            "Epoch 335/1800\n",
            "1880/1880 [==============================] - 0s 65us/step - loss: 1.9262 - accuracy: 0.4399\n",
            "Epoch 336/1800\n",
            "1880/1880 [==============================] - 0s 65us/step - loss: 1.9594 - accuracy: 0.4202\n",
            "Epoch 337/1800\n",
            "1880/1880 [==============================] - 0s 69us/step - loss: 1.9544 - accuracy: 0.4309\n",
            "Epoch 338/1800\n",
            "1880/1880 [==============================] - 0s 76us/step - loss: 1.9104 - accuracy: 0.4426\n",
            "Epoch 339/1800\n",
            "1880/1880 [==============================] - 0s 66us/step - loss: 1.9649 - accuracy: 0.4277\n",
            "Epoch 340/1800\n",
            "1880/1880 [==============================] - 0s 71us/step - loss: 1.9282 - accuracy: 0.4340\n",
            "Epoch 341/1800\n",
            "1880/1880 [==============================] - 0s 77us/step - loss: 1.9295 - accuracy: 0.4372\n",
            "Epoch 342/1800\n",
            "1880/1880 [==============================] - 0s 65us/step - loss: 1.9416 - accuracy: 0.4441\n",
            "Epoch 343/1800\n",
            "1880/1880 [==============================] - 0s 66us/step - loss: 1.9287 - accuracy: 0.4399\n",
            "Epoch 344/1800\n",
            "1880/1880 [==============================] - 0s 65us/step - loss: 1.9080 - accuracy: 0.4213\n",
            "Epoch 345/1800\n",
            "1880/1880 [==============================] - 0s 67us/step - loss: 1.9222 - accuracy: 0.4484\n",
            "Epoch 346/1800\n",
            "1880/1880 [==============================] - 0s 65us/step - loss: 1.9186 - accuracy: 0.4372\n",
            "Epoch 347/1800\n",
            "1880/1880 [==============================] - 0s 68us/step - loss: 1.8868 - accuracy: 0.4479\n",
            "Epoch 348/1800\n",
            "1880/1880 [==============================] - 0s 66us/step - loss: 1.8883 - accuracy: 0.4404\n",
            "Epoch 349/1800\n",
            "1880/1880 [==============================] - 0s 75us/step - loss: 1.8895 - accuracy: 0.4330\n",
            "Epoch 350/1800\n",
            "1880/1880 [==============================] - 0s 65us/step - loss: 1.9422 - accuracy: 0.4410\n",
            "Epoch 351/1800\n",
            "1880/1880 [==============================] - 0s 67us/step - loss: 1.9134 - accuracy: 0.4287\n",
            "Epoch 352/1800\n",
            "1880/1880 [==============================] - 0s 66us/step - loss: 1.8908 - accuracy: 0.4410\n",
            "Epoch 353/1800\n",
            "1880/1880 [==============================] - 0s 66us/step - loss: 1.9285 - accuracy: 0.4404\n",
            "Epoch 354/1800\n",
            "1880/1880 [==============================] - 0s 69us/step - loss: 1.8741 - accuracy: 0.4596\n",
            "Epoch 355/1800\n",
            "1880/1880 [==============================] - 0s 69us/step - loss: 1.8612 - accuracy: 0.4521\n",
            "Epoch 356/1800\n",
            "1880/1880 [==============================] - 0s 72us/step - loss: 1.9254 - accuracy: 0.4314\n",
            "Epoch 357/1800\n",
            "1880/1880 [==============================] - 0s 74us/step - loss: 1.8910 - accuracy: 0.4436\n",
            "Epoch 358/1800\n",
            "1880/1880 [==============================] - 0s 71us/step - loss: 1.9029 - accuracy: 0.4330\n",
            "Epoch 359/1800\n",
            "1880/1880 [==============================] - 0s 72us/step - loss: 1.9040 - accuracy: 0.4569\n",
            "Epoch 360/1800\n",
            "1880/1880 [==============================] - 0s 72us/step - loss: 1.8930 - accuracy: 0.4410\n",
            "Epoch 361/1800\n",
            "1880/1880 [==============================] - 0s 66us/step - loss: 1.8947 - accuracy: 0.4500\n",
            "Epoch 362/1800\n",
            "1880/1880 [==============================] - 0s 69us/step - loss: 1.8928 - accuracy: 0.4436\n",
            "Epoch 363/1800\n",
            "1880/1880 [==============================] - 0s 69us/step - loss: 1.8941 - accuracy: 0.4484\n",
            "Epoch 364/1800\n",
            "1880/1880 [==============================] - 0s 79us/step - loss: 1.8909 - accuracy: 0.4505\n",
            "Epoch 365/1800\n",
            "1880/1880 [==============================] - 0s 67us/step - loss: 1.8997 - accuracy: 0.4495\n",
            "Epoch 366/1800\n",
            "1880/1880 [==============================] - 0s 67us/step - loss: 1.8672 - accuracy: 0.4495\n",
            "Epoch 367/1800\n",
            "1880/1880 [==============================] - 0s 66us/step - loss: 1.8529 - accuracy: 0.4495\n",
            "Epoch 368/1800\n",
            "1880/1880 [==============================] - 0s 80us/step - loss: 1.8699 - accuracy: 0.4633\n",
            "Epoch 369/1800\n",
            "1880/1880 [==============================] - 0s 68us/step - loss: 1.8244 - accuracy: 0.4612\n",
            "Epoch 370/1800\n",
            "1880/1880 [==============================] - 0s 67us/step - loss: 1.8354 - accuracy: 0.4707\n",
            "Epoch 371/1800\n",
            "1880/1880 [==============================] - 0s 70us/step - loss: 1.8298 - accuracy: 0.4622\n",
            "Epoch 372/1800\n",
            "1880/1880 [==============================] - 0s 71us/step - loss: 1.8682 - accuracy: 0.4463\n",
            "Epoch 373/1800\n",
            "1880/1880 [==============================] - 0s 66us/step - loss: 1.8582 - accuracy: 0.4452\n",
            "Epoch 374/1800\n",
            "1880/1880 [==============================] - 0s 65us/step - loss: 1.8303 - accuracy: 0.4473\n",
            "Epoch 375/1800\n",
            "1880/1880 [==============================] - 0s 66us/step - loss: 1.8191 - accuracy: 0.4654\n",
            "Epoch 376/1800\n",
            "1880/1880 [==============================] - 0s 65us/step - loss: 1.8584 - accuracy: 0.4516\n",
            "Epoch 377/1800\n",
            "1880/1880 [==============================] - 0s 65us/step - loss: 1.7979 - accuracy: 0.4660\n",
            "Epoch 378/1800\n",
            "1880/1880 [==============================] - 0s 66us/step - loss: 1.8510 - accuracy: 0.4676\n",
            "Epoch 379/1800\n",
            "1880/1880 [==============================] - 0s 70us/step - loss: 1.8740 - accuracy: 0.4521\n",
            "Epoch 380/1800\n",
            "1880/1880 [==============================] - 0s 69us/step - loss: 1.8290 - accuracy: 0.4718\n",
            "Epoch 381/1800\n",
            "1880/1880 [==============================] - 0s 66us/step - loss: 1.8387 - accuracy: 0.4559\n",
            "Epoch 382/1800\n",
            "1880/1880 [==============================] - 0s 66us/step - loss: 1.8409 - accuracy: 0.4543\n",
            "Epoch 383/1800\n",
            "1880/1880 [==============================] - 0s 72us/step - loss: 1.8202 - accuracy: 0.4665\n",
            "Epoch 384/1800\n",
            "1880/1880 [==============================] - 0s 68us/step - loss: 1.7848 - accuracy: 0.4622\n",
            "Epoch 385/1800\n",
            "1880/1880 [==============================] - 0s 68us/step - loss: 1.8151 - accuracy: 0.4638\n",
            "Epoch 386/1800\n",
            "1880/1880 [==============================] - 0s 68us/step - loss: 1.8128 - accuracy: 0.4713\n",
            "Epoch 387/1800\n",
            "1880/1880 [==============================] - 0s 71us/step - loss: 1.8243 - accuracy: 0.4681\n",
            "Epoch 388/1800\n",
            "1880/1880 [==============================] - 0s 70us/step - loss: 1.8343 - accuracy: 0.4612\n",
            "Epoch 389/1800\n",
            "1880/1880 [==============================] - 0s 67us/step - loss: 1.8265 - accuracy: 0.4612\n",
            "Epoch 390/1800\n",
            "1880/1880 [==============================] - 0s 66us/step - loss: 1.8215 - accuracy: 0.4729\n",
            "Epoch 391/1800\n",
            "1880/1880 [==============================] - 0s 67us/step - loss: 1.8103 - accuracy: 0.4670\n",
            "Epoch 392/1800\n",
            "1880/1880 [==============================] - 0s 69us/step - loss: 1.8204 - accuracy: 0.4553\n",
            "Epoch 393/1800\n",
            "1880/1880 [==============================] - 0s 66us/step - loss: 1.8345 - accuracy: 0.4633\n",
            "Epoch 394/1800\n",
            "1880/1880 [==============================] - 0s 66us/step - loss: 1.8050 - accuracy: 0.4649\n",
            "Epoch 395/1800\n",
            "1880/1880 [==============================] - 0s 72us/step - loss: 1.7922 - accuracy: 0.4670\n",
            "Epoch 396/1800\n",
            "1880/1880 [==============================] - 0s 66us/step - loss: 1.8465 - accuracy: 0.4500\n",
            "Epoch 397/1800\n",
            "1880/1880 [==============================] - 0s 66us/step - loss: 1.7896 - accuracy: 0.4713\n",
            "Epoch 398/1800\n",
            "1880/1880 [==============================] - 0s 65us/step - loss: 1.8070 - accuracy: 0.4606\n",
            "Epoch 399/1800\n",
            "1880/1880 [==============================] - 0s 67us/step - loss: 1.7814 - accuracy: 0.4766\n",
            "Epoch 400/1800\n",
            "1880/1880 [==============================] - 0s 68us/step - loss: 1.7662 - accuracy: 0.4819\n",
            "Epoch 401/1800\n",
            "1880/1880 [==============================] - 0s 65us/step - loss: 1.8040 - accuracy: 0.4718\n",
            "Epoch 402/1800\n",
            "1880/1880 [==============================] - 0s 66us/step - loss: 1.7785 - accuracy: 0.4654\n",
            "Epoch 403/1800\n",
            "1880/1880 [==============================] - 0s 76us/step - loss: 1.7610 - accuracy: 0.4830\n",
            "Epoch 404/1800\n",
            "1880/1880 [==============================] - 0s 67us/step - loss: 1.7801 - accuracy: 0.4904\n",
            "Epoch 405/1800\n",
            "1880/1880 [==============================] - 0s 66us/step - loss: 1.7919 - accuracy: 0.4617\n",
            "Epoch 406/1800\n",
            "1880/1880 [==============================] - 0s 67us/step - loss: 1.7554 - accuracy: 0.4920\n",
            "Epoch 407/1800\n",
            "1880/1880 [==============================] - 0s 65us/step - loss: 1.7471 - accuracy: 0.4824\n",
            "Epoch 408/1800\n",
            "1880/1880 [==============================] - 0s 67us/step - loss: 1.7791 - accuracy: 0.4867\n",
            "Epoch 409/1800\n",
            "1880/1880 [==============================] - 0s 67us/step - loss: 1.7679 - accuracy: 0.4755\n",
            "Epoch 410/1800\n",
            "1880/1880 [==============================] - 0s 71us/step - loss: 1.7453 - accuracy: 0.4723\n",
            "Epoch 411/1800\n",
            "1880/1880 [==============================] - 0s 70us/step - loss: 1.7687 - accuracy: 0.4878\n",
            "Epoch 412/1800\n",
            "1880/1880 [==============================] - 0s 74us/step - loss: 1.7547 - accuracy: 0.4612\n",
            "Epoch 413/1800\n",
            "1880/1880 [==============================] - 0s 71us/step - loss: 1.7855 - accuracy: 0.4750\n",
            "Epoch 414/1800\n",
            "1880/1880 [==============================] - 0s 68us/step - loss: 1.7206 - accuracy: 0.4894\n",
            "Epoch 415/1800\n",
            "1880/1880 [==============================] - 0s 67us/step - loss: 1.7457 - accuracy: 0.4867\n",
            "Epoch 416/1800\n",
            "1880/1880 [==============================] - 0s 68us/step - loss: 1.7292 - accuracy: 0.4830\n",
            "Epoch 417/1800\n",
            "1880/1880 [==============================] - 0s 66us/step - loss: 1.7367 - accuracy: 0.4819\n",
            "Epoch 418/1800\n",
            "1880/1880 [==============================] - 0s 68us/step - loss: 1.7181 - accuracy: 0.4910\n",
            "Epoch 419/1800\n",
            "1880/1880 [==============================] - 0s 70us/step - loss: 1.7253 - accuracy: 0.5011\n",
            "Epoch 420/1800\n",
            "1880/1880 [==============================] - 0s 65us/step - loss: 1.7296 - accuracy: 0.4856\n",
            "Epoch 421/1800\n",
            "1880/1880 [==============================] - 0s 66us/step - loss: 1.7483 - accuracy: 0.4713\n",
            "Epoch 422/1800\n",
            "1880/1880 [==============================] - 0s 66us/step - loss: 1.7472 - accuracy: 0.4777\n",
            "Epoch 423/1800\n",
            "1880/1880 [==============================] - 0s 66us/step - loss: 1.7189 - accuracy: 0.5011\n",
            "Epoch 424/1800\n",
            "1880/1880 [==============================] - 0s 66us/step - loss: 1.7154 - accuracy: 0.4894\n",
            "Epoch 425/1800\n",
            "1880/1880 [==============================] - 0s 65us/step - loss: 1.7145 - accuracy: 0.4888\n",
            "Epoch 426/1800\n",
            "1880/1880 [==============================] - 0s 71us/step - loss: 1.7327 - accuracy: 0.4973\n",
            "Epoch 427/1800\n",
            "1880/1880 [==============================] - 0s 71us/step - loss: 1.7358 - accuracy: 0.4915\n",
            "Epoch 428/1800\n",
            "1880/1880 [==============================] - 0s 66us/step - loss: 1.7242 - accuracy: 0.4798\n",
            "Epoch 429/1800\n",
            "1880/1880 [==============================] - 0s 66us/step - loss: 1.7122 - accuracy: 0.4936\n",
            "Epoch 430/1800\n",
            "1880/1880 [==============================] - 0s 67us/step - loss: 1.7094 - accuracy: 0.4910\n",
            "Epoch 431/1800\n",
            "1880/1880 [==============================] - 0s 67us/step - loss: 1.6832 - accuracy: 0.4968\n",
            "Epoch 432/1800\n",
            "1880/1880 [==============================] - 0s 66us/step - loss: 1.7248 - accuracy: 0.4809\n",
            "Epoch 433/1800\n",
            "1880/1880 [==============================] - 0s 66us/step - loss: 1.6770 - accuracy: 0.4968\n",
            "Epoch 434/1800\n",
            "1880/1880 [==============================] - 0s 69us/step - loss: 1.6995 - accuracy: 0.4872\n",
            "Epoch 435/1800\n",
            "1880/1880 [==============================] - 0s 72us/step - loss: 1.7250 - accuracy: 0.4936\n",
            "Epoch 436/1800\n",
            "1880/1880 [==============================] - 0s 68us/step - loss: 1.6863 - accuracy: 0.5074\n",
            "Epoch 437/1800\n",
            "1880/1880 [==============================] - 0s 71us/step - loss: 1.6759 - accuracy: 0.4984\n",
            "Epoch 438/1800\n",
            "1880/1880 [==============================] - 0s 71us/step - loss: 1.7441 - accuracy: 0.4713\n",
            "Epoch 439/1800\n",
            "1880/1880 [==============================] - 0s 68us/step - loss: 1.6736 - accuracy: 0.5128\n",
            "Epoch 440/1800\n",
            "1880/1880 [==============================] - 0s 65us/step - loss: 1.6644 - accuracy: 0.5133\n",
            "Epoch 441/1800\n",
            "1880/1880 [==============================] - 0s 68us/step - loss: 1.6908 - accuracy: 0.5021\n",
            "Epoch 442/1800\n",
            "1880/1880 [==============================] - 0s 73us/step - loss: 1.6937 - accuracy: 0.5053\n",
            "Epoch 443/1800\n",
            "1880/1880 [==============================] - 0s 68us/step - loss: 1.6952 - accuracy: 0.5053\n",
            "Epoch 444/1800\n",
            "1880/1880 [==============================] - 0s 67us/step - loss: 1.6692 - accuracy: 0.4824\n",
            "Epoch 445/1800\n",
            "1880/1880 [==============================] - 0s 67us/step - loss: 1.6687 - accuracy: 0.4984\n",
            "Epoch 446/1800\n",
            "1880/1880 [==============================] - 0s 66us/step - loss: 1.6940 - accuracy: 0.4995\n",
            "Epoch 447/1800\n",
            "1880/1880 [==============================] - 0s 66us/step - loss: 1.6793 - accuracy: 0.5133\n",
            "Epoch 448/1800\n",
            "1880/1880 [==============================] - 0s 64us/step - loss: 1.6496 - accuracy: 0.5090\n",
            "Epoch 449/1800\n",
            "1880/1880 [==============================] - 0s 69us/step - loss: 1.6746 - accuracy: 0.5117\n",
            "Epoch 450/1800\n",
            "1880/1880 [==============================] - 0s 70us/step - loss: 1.6548 - accuracy: 0.5037\n",
            "Epoch 451/1800\n",
            "1880/1880 [==============================] - 0s 64us/step - loss: 1.6966 - accuracy: 0.4963\n",
            "Epoch 452/1800\n",
            "1880/1880 [==============================] - 0s 67us/step - loss: 1.6320 - accuracy: 0.5048\n",
            "Epoch 453/1800\n",
            "1880/1880 [==============================] - 0s 67us/step - loss: 1.6453 - accuracy: 0.5037\n",
            "Epoch 454/1800\n",
            "1880/1880 [==============================] - 0s 68us/step - loss: 1.6722 - accuracy: 0.5021\n",
            "Epoch 455/1800\n",
            "1880/1880 [==============================] - 0s 65us/step - loss: 1.6998 - accuracy: 0.4963\n",
            "Epoch 456/1800\n",
            "1880/1880 [==============================] - 0s 66us/step - loss: 1.6496 - accuracy: 0.5069\n",
            "Epoch 457/1800\n",
            "1880/1880 [==============================] - 0s 69us/step - loss: 1.6557 - accuracy: 0.5043\n",
            "Epoch 458/1800\n",
            "1880/1880 [==============================] - 0s 70us/step - loss: 1.6394 - accuracy: 0.5144\n",
            "Epoch 459/1800\n",
            "1880/1880 [==============================] - 0s 65us/step - loss: 1.6118 - accuracy: 0.5271\n",
            "Epoch 460/1800\n",
            "1880/1880 [==============================] - 0s 69us/step - loss: 1.6672 - accuracy: 0.5085\n",
            "Epoch 461/1800\n",
            "1880/1880 [==============================] - 0s 68us/step - loss: 1.6327 - accuracy: 0.5154\n",
            "Epoch 462/1800\n",
            "1880/1880 [==============================] - 0s 63us/step - loss: 1.6453 - accuracy: 0.5176\n",
            "Epoch 463/1800\n",
            "1880/1880 [==============================] - 0s 69us/step - loss: 1.6435 - accuracy: 0.4995\n",
            "Epoch 464/1800\n",
            "1880/1880 [==============================] - 0s 75us/step - loss: 1.6360 - accuracy: 0.5090\n",
            "Epoch 465/1800\n",
            "1880/1880 [==============================] - 0s 69us/step - loss: 1.6016 - accuracy: 0.5261\n",
            "Epoch 466/1800\n",
            "1880/1880 [==============================] - 0s 66us/step - loss: 1.5971 - accuracy: 0.5303\n",
            "Epoch 467/1800\n",
            "1880/1880 [==============================] - 0s 65us/step - loss: 1.6341 - accuracy: 0.5250\n",
            "Epoch 468/1800\n",
            "1880/1880 [==============================] - 0s 65us/step - loss: 1.5807 - accuracy: 0.5298\n",
            "Epoch 469/1800\n",
            "1880/1880 [==============================] - 0s 64us/step - loss: 1.5758 - accuracy: 0.5234\n",
            "Epoch 470/1800\n",
            "1880/1880 [==============================] - 0s 66us/step - loss: 1.6384 - accuracy: 0.5133\n",
            "Epoch 471/1800\n",
            "1880/1880 [==============================] - 0s 65us/step - loss: 1.6097 - accuracy: 0.5160\n",
            "Epoch 472/1800\n",
            "1880/1880 [==============================] - 0s 65us/step - loss: 1.5943 - accuracy: 0.5138\n",
            "Epoch 473/1800\n",
            "1880/1880 [==============================] - 0s 68us/step - loss: 1.6248 - accuracy: 0.5069\n",
            "Epoch 474/1800\n",
            "1880/1880 [==============================] - 0s 68us/step - loss: 1.5891 - accuracy: 0.5138\n",
            "Epoch 475/1800\n",
            "1880/1880 [==============================] - 0s 64us/step - loss: 1.6138 - accuracy: 0.5223\n",
            "Epoch 476/1800\n",
            "1880/1880 [==============================] - 0s 68us/step - loss: 1.5978 - accuracy: 0.5271\n",
            "Epoch 477/1800\n",
            "1880/1880 [==============================] - 0s 67us/step - loss: 1.5989 - accuracy: 0.5383\n",
            "Epoch 478/1800\n",
            "1880/1880 [==============================] - 0s 65us/step - loss: 1.6344 - accuracy: 0.5197\n",
            "Epoch 479/1800\n",
            "1880/1880 [==============================] - 0s 66us/step - loss: 1.5934 - accuracy: 0.5186\n",
            "Epoch 480/1800\n",
            "1880/1880 [==============================] - 0s 65us/step - loss: 1.6213 - accuracy: 0.5117\n",
            "Epoch 481/1800\n",
            "1880/1880 [==============================] - 0s 69us/step - loss: 1.5916 - accuracy: 0.5197\n",
            "Epoch 482/1800\n",
            "1880/1880 [==============================] - 0s 70us/step - loss: 1.5794 - accuracy: 0.5298\n",
            "Epoch 483/1800\n",
            "1880/1880 [==============================] - 0s 68us/step - loss: 1.5662 - accuracy: 0.5394\n",
            "Epoch 484/1800\n",
            "1880/1880 [==============================] - 0s 68us/step - loss: 1.6069 - accuracy: 0.5112\n",
            "Epoch 485/1800\n",
            "1880/1880 [==============================] - 0s 68us/step - loss: 1.5937 - accuracy: 0.5176\n",
            "Epoch 486/1800\n",
            "1880/1880 [==============================] - 0s 66us/step - loss: 1.5954 - accuracy: 0.5261\n",
            "Epoch 487/1800\n",
            "1880/1880 [==============================] - 0s 65us/step - loss: 1.6020 - accuracy: 0.5112\n",
            "Epoch 488/1800\n",
            "1880/1880 [==============================] - 0s 69us/step - loss: 1.5792 - accuracy: 0.5239\n",
            "Epoch 489/1800\n",
            "1880/1880 [==============================] - 0s 68us/step - loss: 1.5907 - accuracy: 0.5154\n",
            "Epoch 490/1800\n",
            "1880/1880 [==============================] - 0s 69us/step - loss: 1.5746 - accuracy: 0.5181\n",
            "Epoch 491/1800\n",
            "1880/1880 [==============================] - 0s 67us/step - loss: 1.5738 - accuracy: 0.5229\n",
            "Epoch 492/1800\n",
            "1880/1880 [==============================] - 0s 66us/step - loss: 1.6744 - accuracy: 0.5191\n",
            "Epoch 493/1800\n",
            "1880/1880 [==============================] - 0s 66us/step - loss: 1.5765 - accuracy: 0.5335\n",
            "Epoch 494/1800\n",
            "1880/1880 [==============================] - 0s 64us/step - loss: 1.5836 - accuracy: 0.5229\n",
            "Epoch 495/1800\n",
            "1880/1880 [==============================] - 0s 64us/step - loss: 1.5719 - accuracy: 0.5234\n",
            "Epoch 496/1800\n",
            "1880/1880 [==============================] - 0s 66us/step - loss: 1.5419 - accuracy: 0.5340\n",
            "Epoch 497/1800\n",
            "1880/1880 [==============================] - 0s 69us/step - loss: 1.5873 - accuracy: 0.5324\n",
            "Epoch 498/1800\n",
            "1880/1880 [==============================] - 0s 69us/step - loss: 1.5831 - accuracy: 0.5202\n",
            "Epoch 499/1800\n",
            "1880/1880 [==============================] - 0s 67us/step - loss: 1.5580 - accuracy: 0.5436\n",
            "Epoch 500/1800\n",
            "1880/1880 [==============================] - 0s 65us/step - loss: 1.5559 - accuracy: 0.5319\n",
            "Epoch 501/1800\n",
            "1880/1880 [==============================] - 0s 65us/step - loss: 1.5364 - accuracy: 0.5314\n",
            "Epoch 502/1800\n",
            "1880/1880 [==============================] - 0s 65us/step - loss: 1.5573 - accuracy: 0.5324\n",
            "Epoch 503/1800\n",
            "1880/1880 [==============================] - 0s 64us/step - loss: 1.5433 - accuracy: 0.5229\n",
            "Epoch 504/1800\n",
            "1880/1880 [==============================] - 0s 66us/step - loss: 1.5311 - accuracy: 0.5426\n",
            "Epoch 505/1800\n",
            "1880/1880 [==============================] - 0s 72us/step - loss: 1.5368 - accuracy: 0.5426\n",
            "Epoch 506/1800\n",
            "1880/1880 [==============================] - 0s 71us/step - loss: 1.5506 - accuracy: 0.5378\n",
            "Epoch 507/1800\n",
            "1880/1880 [==============================] - 0s 65us/step - loss: 1.5746 - accuracy: 0.5346\n",
            "Epoch 508/1800\n",
            "1880/1880 [==============================] - 0s 65us/step - loss: 1.5532 - accuracy: 0.5138\n",
            "Epoch 509/1800\n",
            "1880/1880 [==============================] - 0s 67us/step - loss: 1.5435 - accuracy: 0.5319\n",
            "Epoch 510/1800\n",
            "1880/1880 [==============================] - 0s 71us/step - loss: 1.5178 - accuracy: 0.5410\n",
            "Epoch 511/1800\n",
            "1880/1880 [==============================] - 0s 66us/step - loss: 1.5398 - accuracy: 0.5335\n",
            "Epoch 512/1800\n",
            "1880/1880 [==============================] - 0s 68us/step - loss: 1.5557 - accuracy: 0.5319\n",
            "Epoch 513/1800\n",
            "1880/1880 [==============================] - 0s 68us/step - loss: 1.5300 - accuracy: 0.5426\n",
            "Epoch 514/1800\n",
            "1880/1880 [==============================] - 0s 69us/step - loss: 1.5121 - accuracy: 0.5293\n",
            "Epoch 515/1800\n",
            "1880/1880 [==============================] - 0s 66us/step - loss: 1.5330 - accuracy: 0.5378\n",
            "Epoch 516/1800\n",
            "1880/1880 [==============================] - 0s 72us/step - loss: 1.5114 - accuracy: 0.5463\n",
            "Epoch 517/1800\n",
            "1880/1880 [==============================] - 0s 73us/step - loss: 1.5296 - accuracy: 0.5372\n",
            "Epoch 518/1800\n",
            "1880/1880 [==============================] - 0s 72us/step - loss: 1.5138 - accuracy: 0.5479\n",
            "Epoch 519/1800\n",
            "1880/1880 [==============================] - 0s 72us/step - loss: 1.5110 - accuracy: 0.5452\n",
            "Epoch 520/1800\n",
            "1880/1880 [==============================] - 0s 75us/step - loss: 1.5018 - accuracy: 0.5420\n",
            "Epoch 521/1800\n",
            "1880/1880 [==============================] - 0s 74us/step - loss: 1.4778 - accuracy: 0.5548\n",
            "Epoch 522/1800\n",
            "1880/1880 [==============================] - 0s 71us/step - loss: 1.4875 - accuracy: 0.5548\n",
            "Epoch 523/1800\n",
            "1880/1880 [==============================] - 0s 71us/step - loss: 1.5179 - accuracy: 0.5479\n",
            "Epoch 524/1800\n",
            "1880/1880 [==============================] - 0s 70us/step - loss: 1.5061 - accuracy: 0.5415\n",
            "Epoch 525/1800\n",
            "1880/1880 [==============================] - 0s 72us/step - loss: 1.5255 - accuracy: 0.5436\n",
            "Epoch 526/1800\n",
            "1880/1880 [==============================] - 0s 70us/step - loss: 1.4774 - accuracy: 0.5404\n",
            "Epoch 527/1800\n",
            "1880/1880 [==============================] - 0s 73us/step - loss: 1.4856 - accuracy: 0.5436\n",
            "Epoch 528/1800\n",
            "1880/1880 [==============================] - 0s 70us/step - loss: 1.4893 - accuracy: 0.5479\n",
            "Epoch 529/1800\n",
            "1880/1880 [==============================] - 0s 75us/step - loss: 1.5208 - accuracy: 0.5298\n",
            "Epoch 530/1800\n",
            "1880/1880 [==============================] - 0s 71us/step - loss: 1.5066 - accuracy: 0.5596\n",
            "Epoch 531/1800\n",
            "1880/1880 [==============================] - 0s 72us/step - loss: 1.4965 - accuracy: 0.5500\n",
            "Epoch 532/1800\n",
            "1880/1880 [==============================] - 0s 73us/step - loss: 1.4948 - accuracy: 0.5527\n",
            "Epoch 533/1800\n",
            "1880/1880 [==============================] - 0s 74us/step - loss: 1.5007 - accuracy: 0.5314\n",
            "Epoch 534/1800\n",
            "1880/1880 [==============================] - 0s 70us/step - loss: 1.5016 - accuracy: 0.5500\n",
            "Epoch 535/1800\n",
            "1880/1880 [==============================] - 0s 73us/step - loss: 1.4881 - accuracy: 0.5505\n",
            "Epoch 536/1800\n",
            "1880/1880 [==============================] - 0s 76us/step - loss: 1.4765 - accuracy: 0.5516\n",
            "Epoch 537/1800\n",
            "1880/1880 [==============================] - 0s 73us/step - loss: 1.4948 - accuracy: 0.5399\n",
            "Epoch 538/1800\n",
            "1880/1880 [==============================] - 0s 71us/step - loss: 1.4694 - accuracy: 0.5564\n",
            "Epoch 539/1800\n",
            "1880/1880 [==============================] - 0s 68us/step - loss: 1.4627 - accuracy: 0.5676\n",
            "Epoch 540/1800\n",
            "1880/1880 [==============================] - 0s 70us/step - loss: 1.4546 - accuracy: 0.5601\n",
            "Epoch 541/1800\n",
            "1880/1880 [==============================] - 0s 70us/step - loss: 1.4423 - accuracy: 0.5676\n",
            "Epoch 542/1800\n",
            "1880/1880 [==============================] - 0s 73us/step - loss: 1.4698 - accuracy: 0.5606\n",
            "Epoch 543/1800\n",
            "1880/1880 [==============================] - 0s 71us/step - loss: 1.4511 - accuracy: 0.5537\n",
            "Epoch 544/1800\n",
            "1880/1880 [==============================] - 0s 76us/step - loss: 1.4639 - accuracy: 0.5622\n",
            "Epoch 545/1800\n",
            "1880/1880 [==============================] - 0s 71us/step - loss: 1.4472 - accuracy: 0.5569\n",
            "Epoch 546/1800\n",
            "1880/1880 [==============================] - 0s 71us/step - loss: 1.4730 - accuracy: 0.5527\n",
            "Epoch 547/1800\n",
            "1880/1880 [==============================] - 0s 71us/step - loss: 1.4482 - accuracy: 0.5569\n",
            "Epoch 548/1800\n",
            "1880/1880 [==============================] - 0s 73us/step - loss: 1.4213 - accuracy: 0.5729\n",
            "Epoch 549/1800\n",
            "1880/1880 [==============================] - 0s 78us/step - loss: 1.4682 - accuracy: 0.5473\n",
            "Epoch 550/1800\n",
            "1880/1880 [==============================] - 0s 69us/step - loss: 1.4926 - accuracy: 0.5495\n",
            "Epoch 551/1800\n",
            "1880/1880 [==============================] - 0s 75us/step - loss: 1.4548 - accuracy: 0.5622\n",
            "Epoch 552/1800\n",
            "1880/1880 [==============================] - 0s 74us/step - loss: 1.4832 - accuracy: 0.5452\n",
            "Epoch 553/1800\n",
            "1880/1880 [==============================] - 0s 72us/step - loss: 1.4375 - accuracy: 0.5697\n",
            "Epoch 554/1800\n",
            "1880/1880 [==============================] - 0s 69us/step - loss: 1.4732 - accuracy: 0.5580\n",
            "Epoch 555/1800\n",
            "1880/1880 [==============================] - 0s 73us/step - loss: 1.4544 - accuracy: 0.5622\n",
            "Epoch 556/1800\n",
            "1880/1880 [==============================] - 0s 73us/step - loss: 1.4333 - accuracy: 0.5691\n",
            "Epoch 557/1800\n",
            "1880/1880 [==============================] - 0s 76us/step - loss: 1.4479 - accuracy: 0.5761\n",
            "Epoch 558/1800\n",
            "1880/1880 [==============================] - 0s 75us/step - loss: 1.4396 - accuracy: 0.5601\n",
            "Epoch 559/1800\n",
            "1880/1880 [==============================] - 0s 72us/step - loss: 1.4659 - accuracy: 0.5484\n",
            "Epoch 560/1800\n",
            "1880/1880 [==============================] - 0s 72us/step - loss: 1.4647 - accuracy: 0.5521\n",
            "Epoch 561/1800\n",
            "1880/1880 [==============================] - 0s 69us/step - loss: 1.4150 - accuracy: 0.5713\n",
            "Epoch 562/1800\n",
            "1880/1880 [==============================] - 0s 72us/step - loss: 1.4367 - accuracy: 0.5644\n",
            "Epoch 563/1800\n",
            "1880/1880 [==============================] - 0s 69us/step - loss: 1.4548 - accuracy: 0.5681\n",
            "Epoch 564/1800\n",
            "1880/1880 [==============================] - 0s 74us/step - loss: 1.4440 - accuracy: 0.5495\n",
            "Epoch 565/1800\n",
            "1880/1880 [==============================] - 0s 71us/step - loss: 1.4237 - accuracy: 0.5734\n",
            "Epoch 566/1800\n",
            "1880/1880 [==============================] - 0s 76us/step - loss: 1.3829 - accuracy: 0.5723\n",
            "Epoch 567/1800\n",
            "1880/1880 [==============================] - 0s 74us/step - loss: 1.4299 - accuracy: 0.5734\n",
            "Epoch 568/1800\n",
            "1880/1880 [==============================] - 0s 69us/step - loss: 1.4149 - accuracy: 0.5739\n",
            "Epoch 569/1800\n",
            "1880/1880 [==============================] - 0s 71us/step - loss: 1.4065 - accuracy: 0.5766\n",
            "Epoch 570/1800\n",
            "1880/1880 [==============================] - 0s 74us/step - loss: 1.4530 - accuracy: 0.5660\n",
            "Epoch 571/1800\n",
            "1880/1880 [==============================] - 0s 73us/step - loss: 1.3960 - accuracy: 0.5766\n",
            "Epoch 572/1800\n",
            "1880/1880 [==============================] - 0s 70us/step - loss: 1.4118 - accuracy: 0.5777\n",
            "Epoch 573/1800\n",
            "1880/1880 [==============================] - 0s 75us/step - loss: 1.4167 - accuracy: 0.5809\n",
            "Epoch 574/1800\n",
            "1880/1880 [==============================] - 0s 72us/step - loss: 1.3853 - accuracy: 0.5718\n",
            "Epoch 575/1800\n",
            "1880/1880 [==============================] - 0s 69us/step - loss: 1.3881 - accuracy: 0.5782\n",
            "Epoch 576/1800\n",
            "1880/1880 [==============================] - 0s 72us/step - loss: 1.3745 - accuracy: 0.5761\n",
            "Epoch 577/1800\n",
            "1880/1880 [==============================] - 0s 74us/step - loss: 1.4059 - accuracy: 0.5553\n",
            "Epoch 578/1800\n",
            "1880/1880 [==============================] - 0s 72us/step - loss: 1.3880 - accuracy: 0.5660\n",
            "Epoch 579/1800\n",
            "1880/1880 [==============================] - 0s 76us/step - loss: 1.3724 - accuracy: 0.5777\n",
            "Epoch 580/1800\n",
            "1880/1880 [==============================] - 0s 80us/step - loss: 1.4096 - accuracy: 0.5697\n",
            "Epoch 581/1800\n",
            "1880/1880 [==============================] - 0s 72us/step - loss: 1.3909 - accuracy: 0.5819\n",
            "Epoch 582/1800\n",
            "1880/1880 [==============================] - 0s 70us/step - loss: 1.3497 - accuracy: 0.5824\n",
            "Epoch 583/1800\n",
            "1880/1880 [==============================] - 0s 71us/step - loss: 1.3934 - accuracy: 0.5729\n",
            "Epoch 584/1800\n",
            "1880/1880 [==============================] - 0s 71us/step - loss: 1.4167 - accuracy: 0.5734\n",
            "Epoch 585/1800\n",
            "1880/1880 [==============================] - 0s 70us/step - loss: 1.3612 - accuracy: 0.5734\n",
            "Epoch 586/1800\n",
            "1880/1880 [==============================] - 0s 72us/step - loss: 1.3867 - accuracy: 0.5777\n",
            "Epoch 587/1800\n",
            "1880/1880 [==============================] - 0s 72us/step - loss: 1.3866 - accuracy: 0.5745\n",
            "Epoch 588/1800\n",
            "1880/1880 [==============================] - 0s 76us/step - loss: 1.3748 - accuracy: 0.5787\n",
            "Epoch 589/1800\n",
            "1880/1880 [==============================] - 0s 70us/step - loss: 1.4022 - accuracy: 0.5702\n",
            "Epoch 590/1800\n",
            "1880/1880 [==============================] - 0s 72us/step - loss: 1.3704 - accuracy: 0.5941\n",
            "Epoch 591/1800\n",
            "1880/1880 [==============================] - 0s 67us/step - loss: 1.3467 - accuracy: 0.5824\n",
            "Epoch 592/1800\n",
            "1880/1880 [==============================] - 0s 68us/step - loss: 1.3827 - accuracy: 0.5718\n",
            "Epoch 593/1800\n",
            "1880/1880 [==============================] - 0s 69us/step - loss: 1.3552 - accuracy: 0.5931\n",
            "Epoch 594/1800\n",
            "1880/1880 [==============================] - 0s 67us/step - loss: 1.3730 - accuracy: 0.5771\n",
            "Epoch 595/1800\n",
            "1880/1880 [==============================] - 0s 71us/step - loss: 1.3395 - accuracy: 0.5920\n",
            "Epoch 596/1800\n",
            "1880/1880 [==============================] - 0s 67us/step - loss: 1.3561 - accuracy: 0.5867\n",
            "Epoch 597/1800\n",
            "1880/1880 [==============================] - 0s 67us/step - loss: 1.3259 - accuracy: 0.5957\n",
            "Epoch 598/1800\n",
            "1880/1880 [==============================] - 0s 68us/step - loss: 1.3801 - accuracy: 0.5649\n",
            "Epoch 599/1800\n",
            "1880/1880 [==============================] - 0s 68us/step - loss: 1.4144 - accuracy: 0.5745\n",
            "Epoch 600/1800\n",
            "1880/1880 [==============================] - 0s 66us/step - loss: 1.3814 - accuracy: 0.5936\n",
            "Epoch 601/1800\n",
            "1880/1880 [==============================] - 0s 72us/step - loss: 1.3670 - accuracy: 0.5729\n",
            "Epoch 602/1800\n",
            "1880/1880 [==============================] - 0s 66us/step - loss: 1.3515 - accuracy: 0.5894\n",
            "Epoch 603/1800\n",
            "1880/1880 [==============================] - 0s 70us/step - loss: 1.3567 - accuracy: 0.5973\n",
            "Epoch 604/1800\n",
            "1880/1880 [==============================] - 0s 66us/step - loss: 1.4204 - accuracy: 0.5628\n",
            "Epoch 605/1800\n",
            "1880/1880 [==============================] - 0s 64us/step - loss: 1.3488 - accuracy: 0.5830\n",
            "Epoch 606/1800\n",
            "1880/1880 [==============================] - 0s 66us/step - loss: 1.3841 - accuracy: 0.5681\n",
            "Epoch 607/1800\n",
            "1880/1880 [==============================] - 0s 69us/step - loss: 1.3556 - accuracy: 0.5899\n",
            "Epoch 608/1800\n",
            "1880/1880 [==============================] - 0s 67us/step - loss: 1.3562 - accuracy: 0.5904\n",
            "Epoch 609/1800\n",
            "1880/1880 [==============================] - 0s 69us/step - loss: 1.3488 - accuracy: 0.5803\n",
            "Epoch 610/1800\n",
            "1880/1880 [==============================] - 0s 68us/step - loss: 1.3573 - accuracy: 0.5729\n",
            "Epoch 611/1800\n",
            "1880/1880 [==============================] - 0s 70us/step - loss: 1.3791 - accuracy: 0.5819\n",
            "Epoch 612/1800\n",
            "1880/1880 [==============================] - 0s 64us/step - loss: 1.3589 - accuracy: 0.5835\n",
            "Epoch 613/1800\n",
            "1880/1880 [==============================] - 0s 66us/step - loss: 1.3677 - accuracy: 0.5824\n",
            "Epoch 614/1800\n",
            "1880/1880 [==============================] - 0s 66us/step - loss: 1.3567 - accuracy: 0.5872\n",
            "Epoch 615/1800\n",
            "1880/1880 [==============================] - 0s 65us/step - loss: 1.3380 - accuracy: 0.5846\n",
            "Epoch 616/1800\n",
            "1880/1880 [==============================] - 0s 69us/step - loss: 1.3510 - accuracy: 0.5824\n",
            "Epoch 617/1800\n",
            "1880/1880 [==============================] - 0s 67us/step - loss: 1.3049 - accuracy: 0.6005\n",
            "Epoch 618/1800\n",
            "1880/1880 [==============================] - 0s 67us/step - loss: 1.3353 - accuracy: 0.5750\n",
            "Epoch 619/1800\n",
            "1880/1880 [==============================] - 0s 69us/step - loss: 1.3527 - accuracy: 0.5904\n",
            "Epoch 620/1800\n",
            "1880/1880 [==============================] - 0s 65us/step - loss: 1.3300 - accuracy: 0.5920\n",
            "Epoch 621/1800\n",
            "1880/1880 [==============================] - 0s 67us/step - loss: 1.3468 - accuracy: 0.5761\n",
            "Epoch 622/1800\n",
            "1880/1880 [==============================] - 0s 65us/step - loss: 1.3670 - accuracy: 0.5883\n",
            "Epoch 623/1800\n",
            "1880/1880 [==============================] - 0s 65us/step - loss: 1.3318 - accuracy: 0.6032\n",
            "Epoch 624/1800\n",
            "1880/1880 [==============================] - 0s 65us/step - loss: 1.3225 - accuracy: 0.6016\n",
            "Epoch 625/1800\n",
            "1880/1880 [==============================] - 0s 68us/step - loss: 1.3170 - accuracy: 0.6000\n",
            "Epoch 626/1800\n",
            "1880/1880 [==============================] - 0s 67us/step - loss: 1.3074 - accuracy: 0.5968\n",
            "Epoch 627/1800\n",
            "1880/1880 [==============================] - 0s 81us/step - loss: 1.3330 - accuracy: 0.5830\n",
            "Epoch 628/1800\n",
            "1880/1880 [==============================] - 0s 70us/step - loss: 1.3212 - accuracy: 0.5872\n",
            "Epoch 629/1800\n",
            "1880/1880 [==============================] - 0s 66us/step - loss: 1.3309 - accuracy: 0.5931\n",
            "Epoch 630/1800\n",
            "1880/1880 [==============================] - 0s 67us/step - loss: 1.3349 - accuracy: 0.5926\n",
            "Epoch 631/1800\n",
            "1880/1880 [==============================] - 0s 65us/step - loss: 1.3000 - accuracy: 0.5979\n",
            "Epoch 632/1800\n",
            "1880/1880 [==============================] - 0s 70us/step - loss: 1.3133 - accuracy: 0.5862\n",
            "Epoch 633/1800\n",
            "1880/1880 [==============================] - 0s 63us/step - loss: 1.3093 - accuracy: 0.6021\n",
            "Epoch 634/1800\n",
            "1880/1880 [==============================] - 0s 66us/step - loss: 1.3090 - accuracy: 0.5931\n",
            "Epoch 635/1800\n",
            "1880/1880 [==============================] - 0s 71us/step - loss: 1.2490 - accuracy: 0.6117\n",
            "Epoch 636/1800\n",
            "1880/1880 [==============================] - 0s 64us/step - loss: 1.2855 - accuracy: 0.6090\n",
            "Epoch 637/1800\n",
            "1880/1880 [==============================] - 0s 64us/step - loss: 1.3580 - accuracy: 0.5840\n",
            "Epoch 638/1800\n",
            "1880/1880 [==============================] - 0s 65us/step - loss: 1.2977 - accuracy: 0.5904\n",
            "Epoch 639/1800\n",
            "1880/1880 [==============================] - 0s 65us/step - loss: 1.3066 - accuracy: 0.5931\n",
            "Epoch 640/1800\n",
            "1880/1880 [==============================] - 0s 68us/step - loss: 1.2895 - accuracy: 0.6090\n",
            "Epoch 641/1800\n",
            "1880/1880 [==============================] - 0s 69us/step - loss: 1.2408 - accuracy: 0.6250\n",
            "Epoch 642/1800\n",
            "1880/1880 [==============================] - 0s 66us/step - loss: 1.2689 - accuracy: 0.6250\n",
            "Epoch 643/1800\n",
            "1880/1880 [==============================] - 0s 69us/step - loss: 1.2803 - accuracy: 0.6069\n",
            "Epoch 644/1800\n",
            "1880/1880 [==============================] - 0s 66us/step - loss: 1.3783 - accuracy: 0.5809\n",
            "Epoch 645/1800\n",
            "1880/1880 [==============================] - 0s 65us/step - loss: 1.3978 - accuracy: 0.5830\n",
            "Epoch 646/1800\n",
            "1880/1880 [==============================] - 0s 67us/step - loss: 1.2729 - accuracy: 0.6064\n",
            "Epoch 647/1800\n",
            "1880/1880 [==============================] - 0s 65us/step - loss: 1.3193 - accuracy: 0.5899\n",
            "Epoch 648/1800\n",
            "1880/1880 [==============================] - 0s 67us/step - loss: 1.2967 - accuracy: 0.6016\n",
            "Epoch 649/1800\n",
            "1880/1880 [==============================] - 0s 66us/step - loss: 1.2693 - accuracy: 0.6149\n",
            "Epoch 650/1800\n",
            "1880/1880 [==============================] - 0s 67us/step - loss: 1.2864 - accuracy: 0.6032\n",
            "Epoch 651/1800\n",
            "1880/1880 [==============================] - 0s 70us/step - loss: 1.2487 - accuracy: 0.6160\n",
            "Epoch 652/1800\n",
            "1880/1880 [==============================] - 0s 64us/step - loss: 1.3037 - accuracy: 0.6016\n",
            "Epoch 653/1800\n",
            "1880/1880 [==============================] - 0s 66us/step - loss: 1.3212 - accuracy: 0.5803\n",
            "Epoch 654/1800\n",
            "1880/1880 [==============================] - 0s 65us/step - loss: 1.3032 - accuracy: 0.5941\n",
            "Epoch 655/1800\n",
            "1880/1880 [==============================] - 0s 71us/step - loss: 1.2546 - accuracy: 0.6085\n",
            "Epoch 656/1800\n",
            "1880/1880 [==============================] - 0s 69us/step - loss: 1.3033 - accuracy: 0.6000\n",
            "Epoch 657/1800\n",
            "1880/1880 [==============================] - 0s 66us/step - loss: 1.2864 - accuracy: 0.5984\n",
            "Epoch 658/1800\n",
            "1880/1880 [==============================] - 0s 67us/step - loss: 1.2765 - accuracy: 0.6090\n",
            "Epoch 659/1800\n",
            "1880/1880 [==============================] - 0s 70us/step - loss: 1.2897 - accuracy: 0.5979\n",
            "Epoch 660/1800\n",
            "1880/1880 [==============================] - 0s 66us/step - loss: 1.2595 - accuracy: 0.6101\n",
            "Epoch 661/1800\n",
            "1880/1880 [==============================] - 0s 67us/step - loss: 1.3822 - accuracy: 0.5856\n",
            "Epoch 662/1800\n",
            "1880/1880 [==============================] - 0s 67us/step - loss: 1.2478 - accuracy: 0.6197\n",
            "Epoch 663/1800\n",
            "1880/1880 [==============================] - 0s 65us/step - loss: 1.2487 - accuracy: 0.6016\n",
            "Epoch 664/1800\n",
            "1880/1880 [==============================] - 0s 70us/step - loss: 1.2319 - accuracy: 0.6133\n",
            "Epoch 665/1800\n",
            "1880/1880 [==============================] - 0s 66us/step - loss: 1.2816 - accuracy: 0.5989\n",
            "Epoch 666/1800\n",
            "1880/1880 [==============================] - 0s 66us/step - loss: 1.2421 - accuracy: 0.6176\n",
            "Epoch 667/1800\n",
            "1880/1880 [==============================] - 0s 67us/step - loss: 1.2350 - accuracy: 0.6085\n",
            "Epoch 668/1800\n",
            "1880/1880 [==============================] - 0s 64us/step - loss: 1.2676 - accuracy: 0.6064\n",
            "Epoch 669/1800\n",
            "1880/1880 [==============================] - 0s 66us/step - loss: 1.2281 - accuracy: 0.6229\n",
            "Epoch 670/1800\n",
            "1880/1880 [==============================] - 0s 68us/step - loss: 1.2139 - accuracy: 0.6165\n",
            "Epoch 671/1800\n",
            "1880/1880 [==============================] - 0s 67us/step - loss: 1.2470 - accuracy: 0.6165\n",
            "Epoch 672/1800\n",
            "1880/1880 [==============================] - 0s 69us/step - loss: 1.2369 - accuracy: 0.6138\n",
            "Epoch 673/1800\n",
            "1880/1880 [==============================] - 0s 65us/step - loss: 1.2487 - accuracy: 0.6133\n",
            "Epoch 674/1800\n",
            "1880/1880 [==============================] - 0s 69us/step - loss: 1.2960 - accuracy: 0.6059\n",
            "Epoch 675/1800\n",
            "1880/1880 [==============================] - 0s 71us/step - loss: 1.2611 - accuracy: 0.6112\n",
            "Epoch 676/1800\n",
            "1880/1880 [==============================] - 0s 64us/step - loss: 1.2581 - accuracy: 0.6016\n",
            "Epoch 677/1800\n",
            "1880/1880 [==============================] - 0s 69us/step - loss: 1.2304 - accuracy: 0.6287\n",
            "Epoch 678/1800\n",
            "1880/1880 [==============================] - 0s 65us/step - loss: 1.2174 - accuracy: 0.6314\n",
            "Epoch 679/1800\n",
            "1880/1880 [==============================] - 0s 64us/step - loss: 1.2562 - accuracy: 0.6021\n",
            "Epoch 680/1800\n",
            "1880/1880 [==============================] - 0s 69us/step - loss: 1.2476 - accuracy: 0.6149\n",
            "Epoch 681/1800\n",
            "1880/1880 [==============================] - 0s 65us/step - loss: 1.2379 - accuracy: 0.6128\n",
            "Epoch 682/1800\n",
            "1880/1880 [==============================] - 0s 64us/step - loss: 1.2671 - accuracy: 0.5984\n",
            "Epoch 683/1800\n",
            "1880/1880 [==============================] - 0s 68us/step - loss: 1.2328 - accuracy: 0.6064\n",
            "Epoch 684/1800\n",
            "1880/1880 [==============================] - 0s 63us/step - loss: 1.2234 - accuracy: 0.6239\n",
            "Epoch 685/1800\n",
            "1880/1880 [==============================] - 0s 66us/step - loss: 1.2534 - accuracy: 0.6154\n",
            "Epoch 686/1800\n",
            "1880/1880 [==============================] - 0s 64us/step - loss: 1.2320 - accuracy: 0.6170\n",
            "Epoch 687/1800\n",
            "1880/1880 [==============================] - 0s 65us/step - loss: 1.2299 - accuracy: 0.6005\n",
            "Epoch 688/1800\n",
            "1880/1880 [==============================] - 0s 70us/step - loss: 1.2514 - accuracy: 0.6059\n",
            "Epoch 689/1800\n",
            "1880/1880 [==============================] - 0s 66us/step - loss: 1.2187 - accuracy: 0.6037\n",
            "Epoch 690/1800\n",
            "1880/1880 [==============================] - 0s 64us/step - loss: 1.2623 - accuracy: 0.6000\n",
            "Epoch 691/1800\n",
            "1880/1880 [==============================] - 0s 68us/step - loss: 1.2269 - accuracy: 0.6229\n",
            "Epoch 692/1800\n",
            "1880/1880 [==============================] - 0s 67us/step - loss: 1.2037 - accuracy: 0.6197\n",
            "Epoch 693/1800\n",
            "1880/1880 [==============================] - 0s 66us/step - loss: 1.2031 - accuracy: 0.6309\n",
            "Epoch 694/1800\n",
            "1880/1880 [==============================] - 0s 66us/step - loss: 1.1852 - accuracy: 0.6239\n",
            "Epoch 695/1800\n",
            "1880/1880 [==============================] - 0s 65us/step - loss: 1.2925 - accuracy: 0.5936\n",
            "Epoch 696/1800\n",
            "1880/1880 [==============================] - 0s 67us/step - loss: 1.2295 - accuracy: 0.6122\n",
            "Epoch 697/1800\n",
            "1880/1880 [==============================] - 0s 67us/step - loss: 1.2160 - accuracy: 0.6250\n",
            "Epoch 698/1800\n",
            "1880/1880 [==============================] - 0s 69us/step - loss: 1.2545 - accuracy: 0.6282\n",
            "Epoch 699/1800\n",
            "1880/1880 [==============================] - 0s 70us/step - loss: 1.2116 - accuracy: 0.6191\n",
            "Epoch 700/1800\n",
            "1880/1880 [==============================] - 0s 66us/step - loss: 1.1839 - accuracy: 0.6298\n",
            "Epoch 701/1800\n",
            "1880/1880 [==============================] - 0s 66us/step - loss: 1.2029 - accuracy: 0.6112\n",
            "Epoch 702/1800\n",
            "1880/1880 [==============================] - 0s 67us/step - loss: 1.2116 - accuracy: 0.6255\n",
            "Epoch 703/1800\n",
            "1880/1880 [==============================] - 0s 67us/step - loss: 1.2313 - accuracy: 0.6080\n",
            "Epoch 704/1800\n",
            "1880/1880 [==============================] - 0s 71us/step - loss: 1.2105 - accuracy: 0.6324\n",
            "Epoch 705/1800\n",
            "1880/1880 [==============================] - 0s 65us/step - loss: 1.1977 - accuracy: 0.6250\n",
            "Epoch 706/1800\n",
            "1880/1880 [==============================] - 0s 68us/step - loss: 1.2029 - accuracy: 0.6340\n",
            "Epoch 707/1800\n",
            "1880/1880 [==============================] - 0s 69us/step - loss: 1.1910 - accuracy: 0.6367\n",
            "Epoch 708/1800\n",
            "1880/1880 [==============================] - 0s 66us/step - loss: 1.1819 - accuracy: 0.6378\n",
            "Epoch 709/1800\n",
            "1880/1880 [==============================] - 0s 74us/step - loss: 1.2264 - accuracy: 0.6181\n",
            "Epoch 710/1800\n",
            "1880/1880 [==============================] - 0s 67us/step - loss: 1.1925 - accuracy: 0.6404\n",
            "Epoch 711/1800\n",
            "1880/1880 [==============================] - 0s 69us/step - loss: 1.2118 - accuracy: 0.6309\n",
            "Epoch 712/1800\n",
            "1880/1880 [==============================] - 0s 65us/step - loss: 1.1977 - accuracy: 0.6335\n",
            "Epoch 713/1800\n",
            "1880/1880 [==============================] - 0s 67us/step - loss: 1.1915 - accuracy: 0.6330\n",
            "Epoch 714/1800\n",
            "1880/1880 [==============================] - 0s 66us/step - loss: 1.1847 - accuracy: 0.6351\n",
            "Epoch 715/1800\n",
            "1880/1880 [==============================] - 0s 69us/step - loss: 1.1933 - accuracy: 0.6293\n",
            "Epoch 716/1800\n",
            "1880/1880 [==============================] - 0s 67us/step - loss: 1.1556 - accuracy: 0.6330\n",
            "Epoch 717/1800\n",
            "1880/1880 [==============================] - 0s 65us/step - loss: 1.1781 - accuracy: 0.6372\n",
            "Epoch 718/1800\n",
            "1880/1880 [==============================] - 0s 68us/step - loss: 1.1599 - accuracy: 0.6383\n",
            "Epoch 719/1800\n",
            "1880/1880 [==============================] - 0s 73us/step - loss: 1.1731 - accuracy: 0.6309\n",
            "Epoch 720/1800\n",
            "1880/1880 [==============================] - 0s 67us/step - loss: 1.1637 - accuracy: 0.6489\n",
            "Epoch 721/1800\n",
            "1880/1880 [==============================] - 0s 66us/step - loss: 1.1249 - accuracy: 0.6394\n",
            "Epoch 722/1800\n",
            "1880/1880 [==============================] - 0s 67us/step - loss: 1.1941 - accuracy: 0.6309\n",
            "Epoch 723/1800\n",
            "1880/1880 [==============================] - 0s 71us/step - loss: 1.1901 - accuracy: 0.6218\n",
            "Epoch 724/1800\n",
            "1880/1880 [==============================] - 0s 65us/step - loss: 1.1684 - accuracy: 0.6362\n",
            "Epoch 725/1800\n",
            "1880/1880 [==============================] - 0s 66us/step - loss: 1.1736 - accuracy: 0.6335\n",
            "Epoch 726/1800\n",
            "1880/1880 [==============================] - 0s 65us/step - loss: 1.2575 - accuracy: 0.6197\n",
            "Epoch 727/1800\n",
            "1880/1880 [==============================] - 0s 67us/step - loss: 1.1567 - accuracy: 0.6404\n",
            "Epoch 728/1800\n",
            "1880/1880 [==============================] - 0s 66us/step - loss: 1.1785 - accuracy: 0.6250\n",
            "Epoch 729/1800\n",
            "1880/1880 [==============================] - 0s 67us/step - loss: 1.1420 - accuracy: 0.6410\n",
            "Epoch 730/1800\n",
            "1880/1880 [==============================] - 0s 67us/step - loss: 1.2031 - accuracy: 0.6266\n",
            "Epoch 731/1800\n",
            "1880/1880 [==============================] - 0s 70us/step - loss: 1.1442 - accuracy: 0.6420\n",
            "Epoch 732/1800\n",
            "1880/1880 [==============================] - 0s 64us/step - loss: 1.1295 - accuracy: 0.6426\n",
            "Epoch 733/1800\n",
            "1880/1880 [==============================] - 0s 69us/step - loss: 1.1553 - accuracy: 0.6410\n",
            "Epoch 734/1800\n",
            "1880/1880 [==============================] - 0s 65us/step - loss: 1.1602 - accuracy: 0.6266\n",
            "Epoch 735/1800\n",
            "1880/1880 [==============================] - 0s 72us/step - loss: 1.1382 - accuracy: 0.6351\n",
            "Epoch 736/1800\n",
            "1880/1880 [==============================] - 0s 66us/step - loss: 1.1548 - accuracy: 0.6441\n",
            "Epoch 737/1800\n",
            "1880/1880 [==============================] - 0s 65us/step - loss: 1.1638 - accuracy: 0.6420\n",
            "Epoch 738/1800\n",
            "1880/1880 [==============================] - 0s 68us/step - loss: 1.1244 - accuracy: 0.6564\n",
            "Epoch 739/1800\n",
            "1880/1880 [==============================] - 0s 71us/step - loss: 1.1502 - accuracy: 0.6399\n",
            "Epoch 740/1800\n",
            "1880/1880 [==============================] - 0s 68us/step - loss: 1.1359 - accuracy: 0.6356\n",
            "Epoch 741/1800\n",
            "1880/1880 [==============================] - 0s 64us/step - loss: 1.1170 - accuracy: 0.6457\n",
            "Epoch 742/1800\n",
            "1880/1880 [==============================] - 0s 65us/step - loss: 1.1841 - accuracy: 0.6378\n",
            "Epoch 743/1800\n",
            "1880/1880 [==============================] - 0s 69us/step - loss: 1.1805 - accuracy: 0.6197\n",
            "Epoch 744/1800\n",
            "1880/1880 [==============================] - 0s 67us/step - loss: 1.2190 - accuracy: 0.6298\n",
            "Epoch 745/1800\n",
            "1880/1880 [==============================] - 0s 66us/step - loss: 1.1557 - accuracy: 0.6404\n",
            "Epoch 746/1800\n",
            "1880/1880 [==============================] - 0s 71us/step - loss: 1.1736 - accuracy: 0.6404\n",
            "Epoch 747/1800\n",
            "1880/1880 [==============================] - 0s 68us/step - loss: 1.1458 - accuracy: 0.6452\n",
            "Epoch 748/1800\n",
            "1880/1880 [==============================] - 0s 67us/step - loss: 1.1464 - accuracy: 0.6282\n",
            "Epoch 749/1800\n",
            "1880/1880 [==============================] - 0s 68us/step - loss: 1.1346 - accuracy: 0.6495\n",
            "Epoch 750/1800\n",
            "1880/1880 [==============================] - 0s 69us/step - loss: 1.1545 - accuracy: 0.6340\n",
            "Epoch 751/1800\n",
            "1880/1880 [==============================] - 0s 71us/step - loss: 1.1543 - accuracy: 0.6372\n",
            "Epoch 752/1800\n",
            "1880/1880 [==============================] - 0s 67us/step - loss: 1.1276 - accuracy: 0.6500\n",
            "Epoch 753/1800\n",
            "1880/1880 [==============================] - 0s 69us/step - loss: 1.1361 - accuracy: 0.6457\n",
            "Epoch 754/1800\n",
            "1880/1880 [==============================] - 0s 73us/step - loss: 1.0898 - accuracy: 0.6670\n",
            "Epoch 755/1800\n",
            "1880/1880 [==============================] - 0s 67us/step - loss: 1.1139 - accuracy: 0.6543\n",
            "Epoch 756/1800\n",
            "1880/1880 [==============================] - 0s 66us/step - loss: 1.1756 - accuracy: 0.6245\n",
            "Epoch 757/1800\n",
            "1880/1880 [==============================] - 0s 67us/step - loss: 1.1426 - accuracy: 0.6420\n",
            "Epoch 758/1800\n",
            "1880/1880 [==============================] - 0s 70us/step - loss: 1.1290 - accuracy: 0.6441\n",
            "Epoch 759/1800\n",
            "1880/1880 [==============================] - 0s 66us/step - loss: 1.0739 - accuracy: 0.6633\n",
            "Epoch 760/1800\n",
            "1880/1880 [==============================] - 0s 69us/step - loss: 1.0899 - accuracy: 0.6505\n",
            "Epoch 761/1800\n",
            "1880/1880 [==============================] - 0s 70us/step - loss: 1.0885 - accuracy: 0.6633\n",
            "Epoch 762/1800\n",
            "1880/1880 [==============================] - 0s 71us/step - loss: 1.0928 - accuracy: 0.6585\n",
            "Epoch 763/1800\n",
            "1880/1880 [==============================] - 0s 70us/step - loss: 1.1445 - accuracy: 0.6489\n",
            "Epoch 764/1800\n",
            "1880/1880 [==============================] - 0s 66us/step - loss: 1.1304 - accuracy: 0.6335\n",
            "Epoch 765/1800\n",
            "1880/1880 [==============================] - 0s 66us/step - loss: 1.1496 - accuracy: 0.6410\n",
            "Epoch 766/1800\n",
            "1880/1880 [==============================] - 0s 74us/step - loss: 1.1368 - accuracy: 0.6511\n",
            "Epoch 767/1800\n",
            "1880/1880 [==============================] - 0s 65us/step - loss: 1.1228 - accuracy: 0.6367\n",
            "Epoch 768/1800\n",
            "1880/1880 [==============================] - 0s 66us/step - loss: 1.0960 - accuracy: 0.6532\n",
            "Epoch 769/1800\n",
            "1880/1880 [==============================] - 0s 66us/step - loss: 1.0968 - accuracy: 0.6505\n",
            "Epoch 770/1800\n",
            "1880/1880 [==============================] - 0s 72us/step - loss: 1.0862 - accuracy: 0.6601\n",
            "Epoch 771/1800\n",
            "1880/1880 [==============================] - 0s 67us/step - loss: 1.1445 - accuracy: 0.6436\n",
            "Epoch 772/1800\n",
            "1880/1880 [==============================] - 0s 65us/step - loss: 1.0894 - accuracy: 0.6521\n",
            "Epoch 773/1800\n",
            "1880/1880 [==============================] - 0s 65us/step - loss: 1.1105 - accuracy: 0.6569\n",
            "Epoch 774/1800\n",
            "1880/1880 [==============================] - 0s 70us/step - loss: 1.1226 - accuracy: 0.6484\n",
            "Epoch 775/1800\n",
            "1880/1880 [==============================] - 0s 67us/step - loss: 1.0755 - accuracy: 0.6580\n",
            "Epoch 776/1800\n",
            "1880/1880 [==============================] - 0s 65us/step - loss: 1.0659 - accuracy: 0.6559\n",
            "Epoch 777/1800\n",
            "1880/1880 [==============================] - 0s 66us/step - loss: 1.0865 - accuracy: 0.6644\n",
            "Epoch 778/1800\n",
            "1880/1880 [==============================] - 0s 69us/step - loss: 1.0744 - accuracy: 0.6670\n",
            "Epoch 779/1800\n",
            "1880/1880 [==============================] - 0s 64us/step - loss: 1.0720 - accuracy: 0.6585\n",
            "Epoch 780/1800\n",
            "1880/1880 [==============================] - 0s 68us/step - loss: 1.0798 - accuracy: 0.6612\n",
            "Epoch 781/1800\n",
            "1880/1880 [==============================] - 0s 71us/step - loss: 1.0583 - accuracy: 0.6676\n",
            "Epoch 782/1800\n",
            "1880/1880 [==============================] - 0s 72us/step - loss: 1.0683 - accuracy: 0.6739\n",
            "Epoch 783/1800\n",
            "1880/1880 [==============================] - 0s 67us/step - loss: 1.0738 - accuracy: 0.6580\n",
            "Epoch 784/1800\n",
            "1880/1880 [==============================] - 0s 65us/step - loss: 1.0594 - accuracy: 0.6601\n",
            "Epoch 785/1800\n",
            "1880/1880 [==============================] - 0s 67us/step - loss: 1.0625 - accuracy: 0.6654\n",
            "Epoch 786/1800\n",
            "1880/1880 [==============================] - 0s 66us/step - loss: 1.0817 - accuracy: 0.6638\n",
            "Epoch 787/1800\n",
            "1880/1880 [==============================] - 0s 66us/step - loss: 1.0555 - accuracy: 0.6723\n",
            "Epoch 788/1800\n",
            "1880/1880 [==============================] - 0s 65us/step - loss: 1.0878 - accuracy: 0.6606\n",
            "Epoch 789/1800\n",
            "1880/1880 [==============================] - 0s 68us/step - loss: 1.0393 - accuracy: 0.6771\n",
            "Epoch 790/1800\n",
            "1880/1880 [==============================] - 0s 79us/step - loss: 1.0812 - accuracy: 0.6612\n",
            "Epoch 791/1800\n",
            "1880/1880 [==============================] - 0s 66us/step - loss: 1.0627 - accuracy: 0.6665\n",
            "Epoch 792/1800\n",
            "1880/1880 [==============================] - 0s 65us/step - loss: 1.1003 - accuracy: 0.6617\n",
            "Epoch 793/1800\n",
            "1880/1880 [==============================] - 0s 71us/step - loss: 1.1076 - accuracy: 0.6484\n",
            "Epoch 794/1800\n",
            "1880/1880 [==============================] - 0s 69us/step - loss: 1.0537 - accuracy: 0.6548\n",
            "Epoch 795/1800\n",
            "1880/1880 [==============================] - 0s 65us/step - loss: 1.0671 - accuracy: 0.6559\n",
            "Epoch 796/1800\n",
            "1880/1880 [==============================] - 0s 67us/step - loss: 1.0298 - accuracy: 0.6777\n",
            "Epoch 797/1800\n",
            "1880/1880 [==============================] - 0s 67us/step - loss: 1.0597 - accuracy: 0.6686\n",
            "Epoch 798/1800\n",
            "1880/1880 [==============================] - 0s 69us/step - loss: 1.0955 - accuracy: 0.6543\n",
            "Epoch 799/1800\n",
            "1880/1880 [==============================] - 0s 71us/step - loss: 1.0417 - accuracy: 0.6723\n",
            "Epoch 800/1800\n",
            "1880/1880 [==============================] - 0s 67us/step - loss: 1.0398 - accuracy: 0.6702\n",
            "Epoch 801/1800\n",
            "1880/1880 [==============================] - 0s 76us/step - loss: 1.0402 - accuracy: 0.6702\n",
            "Epoch 802/1800\n",
            "1880/1880 [==============================] - 0s 70us/step - loss: 1.0607 - accuracy: 0.6686\n",
            "Epoch 803/1800\n",
            "1880/1880 [==============================] - 0s 67us/step - loss: 1.0542 - accuracy: 0.6809\n",
            "Epoch 804/1800\n",
            "1880/1880 [==============================] - 0s 65us/step - loss: 1.0588 - accuracy: 0.6638\n",
            "Epoch 805/1800\n",
            "1880/1880 [==============================] - 0s 67us/step - loss: 1.0814 - accuracy: 0.6553\n",
            "Epoch 806/1800\n",
            "1880/1880 [==============================] - 0s 66us/step - loss: 1.0900 - accuracy: 0.6489\n",
            "Epoch 807/1800\n",
            "1880/1880 [==============================] - 0s 69us/step - loss: 1.0602 - accuracy: 0.6739\n",
            "Epoch 808/1800\n",
            "1880/1880 [==============================] - 0s 66us/step - loss: 1.0678 - accuracy: 0.6590\n",
            "Epoch 809/1800\n",
            "1880/1880 [==============================] - 0s 68us/step - loss: 1.0787 - accuracy: 0.6559\n",
            "Epoch 810/1800\n",
            "1880/1880 [==============================] - 0s 66us/step - loss: 1.1050 - accuracy: 0.6660\n",
            "Epoch 811/1800\n",
            "1880/1880 [==============================] - 0s 66us/step - loss: 1.0304 - accuracy: 0.6739\n",
            "Epoch 812/1800\n",
            "1880/1880 [==============================] - 0s 67us/step - loss: 1.0636 - accuracy: 0.6638\n",
            "Epoch 813/1800\n",
            "1880/1880 [==============================] - 0s 68us/step - loss: 1.0498 - accuracy: 0.6580\n",
            "Epoch 814/1800\n",
            "1880/1880 [==============================] - 0s 68us/step - loss: 1.0441 - accuracy: 0.6660\n",
            "Epoch 815/1800\n",
            "1880/1880 [==============================] - 0s 67us/step - loss: 1.0577 - accuracy: 0.6681\n",
            "Epoch 816/1800\n",
            "1880/1880 [==============================] - 0s 66us/step - loss: 1.0286 - accuracy: 0.6686\n",
            "Epoch 817/1800\n",
            "1880/1880 [==============================] - 0s 72us/step - loss: 1.0351 - accuracy: 0.6638\n",
            "Epoch 818/1800\n",
            "1880/1880 [==============================] - 0s 65us/step - loss: 1.0665 - accuracy: 0.6654\n",
            "Epoch 819/1800\n",
            "1880/1880 [==============================] - 0s 72us/step - loss: 1.0136 - accuracy: 0.6878\n",
            "Epoch 820/1800\n",
            "1880/1880 [==============================] - 0s 66us/step - loss: 1.0456 - accuracy: 0.6697\n",
            "Epoch 821/1800\n",
            "1880/1880 [==============================] - 0s 65us/step - loss: 1.0072 - accuracy: 0.6771\n",
            "Epoch 822/1800\n",
            "1880/1880 [==============================] - 0s 71us/step - loss: 1.0395 - accuracy: 0.6739\n",
            "Epoch 823/1800\n",
            "1880/1880 [==============================] - 0s 72us/step - loss: 1.1240 - accuracy: 0.6532\n",
            "Epoch 824/1800\n",
            "1880/1880 [==============================] - 0s 65us/step - loss: 1.0224 - accuracy: 0.6793\n",
            "Epoch 825/1800\n",
            "1880/1880 [==============================] - 0s 68us/step - loss: 1.0491 - accuracy: 0.6665\n",
            "Epoch 826/1800\n",
            "1880/1880 [==============================] - 0s 66us/step - loss: 1.0161 - accuracy: 0.6681\n",
            "Epoch 827/1800\n",
            "1880/1880 [==============================] - 0s 66us/step - loss: 1.0011 - accuracy: 0.6814\n",
            "Epoch 828/1800\n",
            "1880/1880 [==============================] - 0s 69us/step - loss: 1.0388 - accuracy: 0.6777\n",
            "Epoch 829/1800\n",
            "1880/1880 [==============================] - 0s 66us/step - loss: 1.0292 - accuracy: 0.6835\n",
            "Epoch 830/1800\n",
            "1880/1880 [==============================] - 0s 77us/step - loss: 1.0091 - accuracy: 0.6862\n",
            "Epoch 831/1800\n",
            "1880/1880 [==============================] - 0s 69us/step - loss: 1.0234 - accuracy: 0.6835\n",
            "Epoch 832/1800\n",
            "1880/1880 [==============================] - 0s 70us/step - loss: 1.0293 - accuracy: 0.6819\n",
            "Epoch 833/1800\n",
            "1880/1880 [==============================] - 0s 72us/step - loss: 0.9979 - accuracy: 0.7005\n",
            "Epoch 834/1800\n",
            "1880/1880 [==============================] - 0s 68us/step - loss: 1.0194 - accuracy: 0.6771\n",
            "Epoch 835/1800\n",
            "1880/1880 [==============================] - 0s 67us/step - loss: 1.0286 - accuracy: 0.6809\n",
            "Epoch 836/1800\n",
            "1880/1880 [==============================] - 0s 65us/step - loss: 1.0304 - accuracy: 0.6654\n",
            "Epoch 837/1800\n",
            "1880/1880 [==============================] - 0s 69us/step - loss: 1.0409 - accuracy: 0.6691\n",
            "Epoch 838/1800\n",
            "1880/1880 [==============================] - 0s 68us/step - loss: 1.0072 - accuracy: 0.6702\n",
            "Epoch 839/1800\n",
            "1880/1880 [==============================] - 0s 65us/step - loss: 0.9852 - accuracy: 0.6936\n",
            "Epoch 840/1800\n",
            "1880/1880 [==============================] - 0s 70us/step - loss: 0.9894 - accuracy: 0.6888\n",
            "Epoch 841/1800\n",
            "1880/1880 [==============================] - 0s 64us/step - loss: 0.9848 - accuracy: 0.6878\n",
            "Epoch 842/1800\n",
            "1880/1880 [==============================] - 0s 64us/step - loss: 1.0022 - accuracy: 0.6867\n",
            "Epoch 843/1800\n",
            "1880/1880 [==============================] - 0s 70us/step - loss: 0.9923 - accuracy: 0.6878\n",
            "Epoch 844/1800\n",
            "1880/1880 [==============================] - 0s 66us/step - loss: 1.0142 - accuracy: 0.6777\n",
            "Epoch 845/1800\n",
            "1880/1880 [==============================] - 0s 69us/step - loss: 1.0188 - accuracy: 0.6840\n",
            "Epoch 846/1800\n",
            "1880/1880 [==============================] - 0s 65us/step - loss: 1.0015 - accuracy: 0.6739\n",
            "Epoch 847/1800\n",
            "1880/1880 [==============================] - 0s 64us/step - loss: 1.0421 - accuracy: 0.6660\n",
            "Epoch 848/1800\n",
            "1880/1880 [==============================] - 0s 70us/step - loss: 0.9863 - accuracy: 0.6915\n",
            "Epoch 849/1800\n",
            "1880/1880 [==============================] - 0s 66us/step - loss: 0.9747 - accuracy: 0.6862\n",
            "Epoch 850/1800\n",
            "1880/1880 [==============================] - 0s 65us/step - loss: 0.9975 - accuracy: 0.6947\n",
            "Epoch 851/1800\n",
            "1880/1880 [==============================] - 0s 65us/step - loss: 1.0235 - accuracy: 0.6782\n",
            "Epoch 852/1800\n",
            "1880/1880 [==============================] - 0s 66us/step - loss: 0.9615 - accuracy: 0.6883\n",
            "Epoch 853/1800\n",
            "1880/1880 [==============================] - 0s 70us/step - loss: 0.9908 - accuracy: 0.6755\n",
            "Epoch 854/1800\n",
            "1880/1880 [==============================] - 0s 64us/step - loss: 0.9609 - accuracy: 0.6979\n",
            "Epoch 855/1800\n",
            "1880/1880 [==============================] - 0s 65us/step - loss: 1.0301 - accuracy: 0.6718\n",
            "Epoch 856/1800\n",
            "1880/1880 [==============================] - 0s 69us/step - loss: 1.1121 - accuracy: 0.6633\n",
            "Epoch 857/1800\n",
            "1880/1880 [==============================] - 0s 67us/step - loss: 1.0328 - accuracy: 0.6702\n",
            "Epoch 858/1800\n",
            "1880/1880 [==============================] - 0s 67us/step - loss: 0.9844 - accuracy: 0.6840\n",
            "Epoch 859/1800\n",
            "1880/1880 [==============================] - 0s 66us/step - loss: 1.0174 - accuracy: 0.6862\n",
            "Epoch 860/1800\n",
            "1880/1880 [==============================] - 0s 65us/step - loss: 1.0048 - accuracy: 0.6878\n",
            "Epoch 861/1800\n",
            "1880/1880 [==============================] - 0s 71us/step - loss: 1.0240 - accuracy: 0.6755\n",
            "Epoch 862/1800\n",
            "1880/1880 [==============================] - 0s 66us/step - loss: 0.9877 - accuracy: 0.6894\n",
            "Epoch 863/1800\n",
            "1880/1880 [==============================] - 0s 68us/step - loss: 0.9975 - accuracy: 0.6739\n",
            "Epoch 864/1800\n",
            "1880/1880 [==============================] - 0s 71us/step - loss: 0.9878 - accuracy: 0.6819\n",
            "Epoch 865/1800\n",
            "1880/1880 [==============================] - 0s 65us/step - loss: 0.9863 - accuracy: 0.6830\n",
            "Epoch 866/1800\n",
            "1880/1880 [==============================] - 0s 64us/step - loss: 0.9500 - accuracy: 0.7117\n",
            "Epoch 867/1800\n",
            "1880/1880 [==============================] - 0s 66us/step - loss: 0.9646 - accuracy: 0.6840\n",
            "Epoch 868/1800\n",
            "1880/1880 [==============================] - 0s 69us/step - loss: 0.9584 - accuracy: 0.6915\n",
            "Epoch 869/1800\n",
            "1880/1880 [==============================] - 0s 68us/step - loss: 0.9568 - accuracy: 0.6947\n",
            "Epoch 870/1800\n",
            "1880/1880 [==============================] - 0s 71us/step - loss: 0.9587 - accuracy: 0.7053\n",
            "Epoch 871/1800\n",
            "1880/1880 [==============================] - 0s 67us/step - loss: 0.9458 - accuracy: 0.6878\n",
            "Epoch 872/1800\n",
            "1880/1880 [==============================] - 0s 74us/step - loss: 0.9787 - accuracy: 0.6941\n",
            "Epoch 873/1800\n",
            "1880/1880 [==============================] - 0s 66us/step - loss: 0.9785 - accuracy: 0.6941\n",
            "Epoch 874/1800\n",
            "1880/1880 [==============================] - 0s 68us/step - loss: 1.0249 - accuracy: 0.6840\n",
            "Epoch 875/1800\n",
            "1880/1880 [==============================] - 0s 67us/step - loss: 0.9779 - accuracy: 0.6888\n",
            "Epoch 876/1800\n",
            "1880/1880 [==============================] - 0s 66us/step - loss: 0.9955 - accuracy: 0.6793\n",
            "Epoch 877/1800\n",
            "1880/1880 [==============================] - 0s 68us/step - loss: 0.9558 - accuracy: 0.6926\n",
            "Epoch 878/1800\n",
            "1880/1880 [==============================] - 0s 66us/step - loss: 0.9755 - accuracy: 0.6904\n",
            "Epoch 879/1800\n",
            "1880/1880 [==============================] - 0s 66us/step - loss: 0.9696 - accuracy: 0.6883\n",
            "Epoch 880/1800\n",
            "1880/1880 [==============================] - 0s 69us/step - loss: 0.9499 - accuracy: 0.6957\n",
            "Epoch 881/1800\n",
            "1880/1880 [==============================] - 0s 68us/step - loss: 0.9759 - accuracy: 0.6777\n",
            "Epoch 882/1800\n",
            "1880/1880 [==============================] - 0s 66us/step - loss: 0.9363 - accuracy: 0.7021\n",
            "Epoch 883/1800\n",
            "1880/1880 [==============================] - 0s 68us/step - loss: 0.9535 - accuracy: 0.6968\n",
            "Epoch 884/1800\n",
            "1880/1880 [==============================] - 0s 67us/step - loss: 0.9520 - accuracy: 0.6989\n",
            "Epoch 885/1800\n",
            "1880/1880 [==============================] - 0s 67us/step - loss: 0.9516 - accuracy: 0.6856\n",
            "Epoch 886/1800\n",
            "1880/1880 [==============================] - 0s 66us/step - loss: 0.9530 - accuracy: 0.6926\n",
            "Epoch 887/1800\n",
            "1880/1880 [==============================] - 0s 66us/step - loss: 0.9130 - accuracy: 0.7074\n",
            "Epoch 888/1800\n",
            "1880/1880 [==============================] - 0s 70us/step - loss: 0.9984 - accuracy: 0.6846\n",
            "Epoch 889/1800\n",
            "1880/1880 [==============================] - 0s 65us/step - loss: 0.9420 - accuracy: 0.7037\n",
            "Epoch 890/1800\n",
            "1880/1880 [==============================] - 0s 67us/step - loss: 0.9649 - accuracy: 0.6910\n",
            "Epoch 891/1800\n",
            "1880/1880 [==============================] - 0s 66us/step - loss: 1.0168 - accuracy: 0.6766\n",
            "Epoch 892/1800\n",
            "1880/1880 [==============================] - 0s 65us/step - loss: 1.0223 - accuracy: 0.6915\n",
            "Epoch 893/1800\n",
            "1880/1880 [==============================] - 0s 68us/step - loss: 0.9369 - accuracy: 0.6915\n",
            "Epoch 894/1800\n",
            "1880/1880 [==============================] - 0s 65us/step - loss: 0.9431 - accuracy: 0.6910\n",
            "Epoch 895/1800\n",
            "1880/1880 [==============================] - 0s 67us/step - loss: 0.9457 - accuracy: 0.7053\n",
            "Epoch 896/1800\n",
            "1880/1880 [==============================] - 0s 69us/step - loss: 0.9237 - accuracy: 0.7117\n",
            "Epoch 897/1800\n",
            "1880/1880 [==============================] - 0s 64us/step - loss: 0.9817 - accuracy: 0.6957\n",
            "Epoch 898/1800\n",
            "1880/1880 [==============================] - 0s 65us/step - loss: 0.9514 - accuracy: 0.6957\n",
            "Epoch 899/1800\n",
            "1880/1880 [==============================] - 0s 66us/step - loss: 0.9738 - accuracy: 0.6979\n",
            "Epoch 900/1800\n",
            "1880/1880 [==============================] - 0s 65us/step - loss: 0.9850 - accuracy: 0.7005\n",
            "Epoch 901/1800\n",
            "1880/1880 [==============================] - 0s 70us/step - loss: 0.9529 - accuracy: 0.6888\n",
            "Epoch 902/1800\n",
            "1880/1880 [==============================] - 0s 67us/step - loss: 0.9805 - accuracy: 0.6968\n",
            "Epoch 903/1800\n",
            "1880/1880 [==============================] - 0s 62us/step - loss: 0.9346 - accuracy: 0.7069\n",
            "Epoch 904/1800\n",
            "1880/1880 [==============================] - 0s 69us/step - loss: 0.9434 - accuracy: 0.6915\n",
            "Epoch 905/1800\n",
            "1880/1880 [==============================] - 0s 66us/step - loss: 0.9140 - accuracy: 0.7021\n",
            "Epoch 906/1800\n",
            "1880/1880 [==============================] - 0s 69us/step - loss: 0.9401 - accuracy: 0.6910\n",
            "Epoch 907/1800\n",
            "1880/1880 [==============================] - 0s 66us/step - loss: 0.8769 - accuracy: 0.7170\n",
            "Epoch 908/1800\n",
            "1880/1880 [==============================] - 0s 69us/step - loss: 0.9573 - accuracy: 0.7016\n",
            "Epoch 909/1800\n",
            "1880/1880 [==============================] - 0s 65us/step - loss: 0.9773 - accuracy: 0.6745\n",
            "Epoch 910/1800\n",
            "1880/1880 [==============================] - 0s 64us/step - loss: 0.9519 - accuracy: 0.7011\n",
            "Epoch 911/1800\n",
            "1880/1880 [==============================] - 0s 65us/step - loss: 0.9671 - accuracy: 0.6989\n",
            "Epoch 912/1800\n",
            "1880/1880 [==============================] - 0s 70us/step - loss: 0.9173 - accuracy: 0.7106\n",
            "Epoch 913/1800\n",
            "1880/1880 [==============================] - 0s 64us/step - loss: 0.9307 - accuracy: 0.7117\n",
            "Epoch 914/1800\n",
            "1880/1880 [==============================] - 0s 66us/step - loss: 0.9188 - accuracy: 0.7085\n",
            "Epoch 915/1800\n",
            "1880/1880 [==============================] - 0s 66us/step - loss: 0.9620 - accuracy: 0.6947\n",
            "Epoch 916/1800\n",
            "1880/1880 [==============================] - 0s 63us/step - loss: 0.9298 - accuracy: 0.7080\n",
            "Epoch 917/1800\n",
            "1880/1880 [==============================] - 0s 70us/step - loss: 0.9019 - accuracy: 0.7144\n",
            "Epoch 918/1800\n",
            "1880/1880 [==============================] - 0s 65us/step - loss: 0.9416 - accuracy: 0.6963\n",
            "Epoch 919/1800\n",
            "1880/1880 [==============================] - 0s 66us/step - loss: 0.9103 - accuracy: 0.7043\n",
            "Epoch 920/1800\n",
            "1880/1880 [==============================] - 0s 70us/step - loss: 0.9207 - accuracy: 0.7101\n",
            "Epoch 921/1800\n",
            "1880/1880 [==============================] - 0s 66us/step - loss: 0.9401 - accuracy: 0.6973\n",
            "Epoch 922/1800\n",
            "1880/1880 [==============================] - 0s 66us/step - loss: 0.9165 - accuracy: 0.6840\n",
            "Epoch 923/1800\n",
            "1880/1880 [==============================] - 0s 65us/step - loss: 0.9208 - accuracy: 0.7176\n",
            "Epoch 924/1800\n",
            "1880/1880 [==============================] - 0s 68us/step - loss: 0.9356 - accuracy: 0.6952\n",
            "Epoch 925/1800\n",
            "1880/1880 [==============================] - 0s 66us/step - loss: 0.8772 - accuracy: 0.7160\n",
            "Epoch 926/1800\n",
            "1880/1880 [==============================] - 0s 64us/step - loss: 0.9132 - accuracy: 0.7106\n",
            "Epoch 927/1800\n",
            "1880/1880 [==============================] - 0s 66us/step - loss: 0.9305 - accuracy: 0.7149\n",
            "Epoch 928/1800\n",
            "1880/1880 [==============================] - 0s 74us/step - loss: 0.9222 - accuracy: 0.7011\n",
            "Epoch 929/1800\n",
            "1880/1880 [==============================] - 0s 67us/step - loss: 0.9175 - accuracy: 0.7053\n",
            "Epoch 930/1800\n",
            "1880/1880 [==============================] - 0s 64us/step - loss: 0.8921 - accuracy: 0.7202\n",
            "Epoch 931/1800\n",
            "1880/1880 [==============================] - 0s 66us/step - loss: 0.8802 - accuracy: 0.7181\n",
            "Epoch 932/1800\n",
            "1880/1880 [==============================] - 0s 66us/step - loss: 0.9332 - accuracy: 0.7106\n",
            "Epoch 933/1800\n",
            "1880/1880 [==============================] - 0s 64us/step - loss: 0.9304 - accuracy: 0.7048\n",
            "Epoch 934/1800\n",
            "1880/1880 [==============================] - 0s 64us/step - loss: 0.8500 - accuracy: 0.7176\n",
            "Epoch 935/1800\n",
            "1880/1880 [==============================] - 0s 66us/step - loss: 0.9517 - accuracy: 0.7000\n",
            "Epoch 936/1800\n",
            "1880/1880 [==============================] - 0s 70us/step - loss: 0.9385 - accuracy: 0.7027\n",
            "Epoch 937/1800\n",
            "1880/1880 [==============================] - 0s 68us/step - loss: 0.9049 - accuracy: 0.7085\n",
            "Epoch 938/1800\n",
            "1880/1880 [==============================] - 0s 65us/step - loss: 0.8960 - accuracy: 0.7245\n",
            "Epoch 939/1800\n",
            "1880/1880 [==============================] - 0s 70us/step - loss: 0.8615 - accuracy: 0.7287\n",
            "Epoch 940/1800\n",
            "1880/1880 [==============================] - 0s 68us/step - loss: 0.9043 - accuracy: 0.7229\n",
            "Epoch 941/1800\n",
            "1880/1880 [==============================] - 0s 65us/step - loss: 0.9183 - accuracy: 0.6995\n",
            "Epoch 942/1800\n",
            "1880/1880 [==============================] - 0s 65us/step - loss: 0.9217 - accuracy: 0.7053\n",
            "Epoch 943/1800\n",
            "1880/1880 [==============================] - 0s 65us/step - loss: 0.9332 - accuracy: 0.6936\n",
            "Epoch 944/1800\n",
            "1880/1880 [==============================] - 0s 68us/step - loss: 0.9019 - accuracy: 0.7133\n",
            "Epoch 945/1800\n",
            "1880/1880 [==============================] - 0s 67us/step - loss: 0.9069 - accuracy: 0.7069\n",
            "Epoch 946/1800\n",
            "1880/1880 [==============================] - 0s 63us/step - loss: 0.8568 - accuracy: 0.7255\n",
            "Epoch 947/1800\n",
            "1880/1880 [==============================] - 0s 64us/step - loss: 0.8953 - accuracy: 0.7181\n",
            "Epoch 948/1800\n",
            "1880/1880 [==============================] - 0s 71us/step - loss: 0.9229 - accuracy: 0.7016\n",
            "Epoch 949/1800\n",
            "1880/1880 [==============================] - 0s 66us/step - loss: 0.9060 - accuracy: 0.6952\n",
            "Epoch 950/1800\n",
            "1880/1880 [==============================] - 0s 67us/step - loss: 0.8705 - accuracy: 0.7191\n",
            "Epoch 951/1800\n",
            "1880/1880 [==============================] - 0s 66us/step - loss: 0.8984 - accuracy: 0.7186\n",
            "Epoch 952/1800\n",
            "1880/1880 [==============================] - 0s 69us/step - loss: 0.8713 - accuracy: 0.7101\n",
            "Epoch 953/1800\n",
            "1880/1880 [==============================] - 0s 67us/step - loss: 0.8768 - accuracy: 0.7160\n",
            "Epoch 954/1800\n",
            "1880/1880 [==============================] - 0s 65us/step - loss: 0.8965 - accuracy: 0.7186\n",
            "Epoch 955/1800\n",
            "1880/1880 [==============================] - 0s 67us/step - loss: 0.8691 - accuracy: 0.7059\n",
            "Epoch 956/1800\n",
            "1880/1880 [==============================] - 0s 75us/step - loss: 0.9023 - accuracy: 0.7059\n",
            "Epoch 957/1800\n",
            "1880/1880 [==============================] - 0s 66us/step - loss: 0.8868 - accuracy: 0.7144\n",
            "Epoch 958/1800\n",
            "1880/1880 [==============================] - 0s 64us/step - loss: 0.9538 - accuracy: 0.6963\n",
            "Epoch 959/1800\n",
            "1880/1880 [==============================] - 0s 65us/step - loss: 0.8837 - accuracy: 0.7133\n",
            "Epoch 960/1800\n",
            "1880/1880 [==============================] - 0s 73us/step - loss: 0.8897 - accuracy: 0.7112\n",
            "Epoch 961/1800\n",
            "1880/1880 [==============================] - 0s 65us/step - loss: 0.9078 - accuracy: 0.7239\n",
            "Epoch 962/1800\n",
            "1880/1880 [==============================] - 0s 64us/step - loss: 0.8483 - accuracy: 0.7293\n",
            "Epoch 963/1800\n",
            "1880/1880 [==============================] - 0s 62us/step - loss: 0.9138 - accuracy: 0.7191\n",
            "Epoch 964/1800\n",
            "1880/1880 [==============================] - 0s 68us/step - loss: 0.8472 - accuracy: 0.7261\n",
            "Epoch 965/1800\n",
            "1880/1880 [==============================] - 0s 65us/step - loss: 0.8565 - accuracy: 0.7154\n",
            "Epoch 966/1800\n",
            "1880/1880 [==============================] - 0s 64us/step - loss: 0.8632 - accuracy: 0.7059\n",
            "Epoch 967/1800\n",
            "1880/1880 [==============================] - 0s 64us/step - loss: 0.8920 - accuracy: 0.7016\n",
            "Epoch 968/1800\n",
            "1880/1880 [==============================] - 0s 70us/step - loss: 0.8246 - accuracy: 0.7383\n",
            "Epoch 969/1800\n",
            "1880/1880 [==============================] - 0s 66us/step - loss: 0.8530 - accuracy: 0.7218\n",
            "Epoch 970/1800\n",
            "1880/1880 [==============================] - 0s 67us/step - loss: 0.8749 - accuracy: 0.7165\n",
            "Epoch 971/1800\n",
            "1880/1880 [==============================] - 0s 69us/step - loss: 0.8802 - accuracy: 0.7149\n",
            "Epoch 972/1800\n",
            "1880/1880 [==============================] - 0s 71us/step - loss: 0.8438 - accuracy: 0.7255\n",
            "Epoch 973/1800\n",
            "1880/1880 [==============================] - 0s 66us/step - loss: 0.8557 - accuracy: 0.7191\n",
            "Epoch 974/1800\n",
            "1880/1880 [==============================] - 0s 64us/step - loss: 0.8821 - accuracy: 0.7122\n",
            "Epoch 975/1800\n",
            "1880/1880 [==============================] - 0s 67us/step - loss: 0.8793 - accuracy: 0.7101\n",
            "Epoch 976/1800\n",
            "1880/1880 [==============================] - 0s 71us/step - loss: 0.9568 - accuracy: 0.7059\n",
            "Epoch 977/1800\n",
            "1880/1880 [==============================] - 0s 64us/step - loss: 0.8089 - accuracy: 0.7415\n",
            "Epoch 978/1800\n",
            "1880/1880 [==============================] - 0s 68us/step - loss: 0.9032 - accuracy: 0.7096\n",
            "Epoch 979/1800\n",
            "1880/1880 [==============================] - 0s 65us/step - loss: 0.8455 - accuracy: 0.7277\n",
            "Epoch 980/1800\n",
            "1880/1880 [==============================] - 0s 68us/step - loss: 0.9061 - accuracy: 0.7080\n",
            "Epoch 981/1800\n",
            "1880/1880 [==============================] - 0s 66us/step - loss: 0.8496 - accuracy: 0.7303\n",
            "Epoch 982/1800\n",
            "1880/1880 [==============================] - 0s 66us/step - loss: 0.8947 - accuracy: 0.7207\n",
            "Epoch 983/1800\n",
            "1880/1880 [==============================] - 0s 66us/step - loss: 0.8829 - accuracy: 0.7154\n",
            "Epoch 984/1800\n",
            "1880/1880 [==============================] - 0s 71us/step - loss: 0.8294 - accuracy: 0.7303\n",
            "Epoch 985/1800\n",
            "1880/1880 [==============================] - 0s 64us/step - loss: 0.8839 - accuracy: 0.7197\n",
            "Epoch 986/1800\n",
            "1880/1880 [==============================] - 0s 68us/step - loss: 0.9132 - accuracy: 0.7176\n",
            "Epoch 987/1800\n",
            "1880/1880 [==============================] - 0s 64us/step - loss: 0.8619 - accuracy: 0.7197\n",
            "Epoch 988/1800\n",
            "1880/1880 [==============================] - 0s 67us/step - loss: 0.8566 - accuracy: 0.7261\n",
            "Epoch 989/1800\n",
            "1880/1880 [==============================] - 0s 65us/step - loss: 0.8170 - accuracy: 0.7372\n",
            "Epoch 990/1800\n",
            "1880/1880 [==============================] - 0s 65us/step - loss: 0.8717 - accuracy: 0.7144\n",
            "Epoch 991/1800\n",
            "1880/1880 [==============================] - 0s 66us/step - loss: 0.8627 - accuracy: 0.7245\n",
            "Epoch 992/1800\n",
            "1880/1880 [==============================] - 0s 73us/step - loss: 0.8393 - accuracy: 0.7239\n",
            "Epoch 993/1800\n",
            "1880/1880 [==============================] - 0s 66us/step - loss: 0.8403 - accuracy: 0.7431\n",
            "Epoch 994/1800\n",
            "1880/1880 [==============================] - 0s 63us/step - loss: 0.8172 - accuracy: 0.7473\n",
            "Epoch 995/1800\n",
            "1880/1880 [==============================] - 0s 64us/step - loss: 0.8562 - accuracy: 0.7282\n",
            "Epoch 996/1800\n",
            "1880/1880 [==============================] - 0s 67us/step - loss: 0.8112 - accuracy: 0.7431\n",
            "Epoch 997/1800\n",
            "1880/1880 [==============================] - 0s 65us/step - loss: 0.8107 - accuracy: 0.7362\n",
            "Epoch 998/1800\n",
            "1880/1880 [==============================] - 0s 64us/step - loss: 0.9107 - accuracy: 0.7101\n",
            "Epoch 999/1800\n",
            "1880/1880 [==============================] - 0s 65us/step - loss: 0.8500 - accuracy: 0.7186\n",
            "Epoch 1000/1800\n",
            "1880/1880 [==============================] - 0s 70us/step - loss: 0.8463 - accuracy: 0.7191\n",
            "Epoch 1001/1800\n",
            "1880/1880 [==============================] - 0s 64us/step - loss: 0.8547 - accuracy: 0.7277\n",
            "Epoch 1002/1800\n",
            "1880/1880 [==============================] - 0s 66us/step - loss: 0.8708 - accuracy: 0.7197\n",
            "Epoch 1003/1800\n",
            "1880/1880 [==============================] - 0s 64us/step - loss: 0.8381 - accuracy: 0.7340\n",
            "Epoch 1004/1800\n",
            "1880/1880 [==============================] - 0s 69us/step - loss: 2.0373 - accuracy: 0.6952\n",
            "Epoch 1005/1800\n",
            "1880/1880 [==============================] - 0s 64us/step - loss: 2.1004 - accuracy: 0.4888\n",
            "Epoch 1006/1800\n",
            "1880/1880 [==============================] - 0s 66us/step - loss: 1.3877 - accuracy: 0.5755\n",
            "Epoch 1007/1800\n",
            "1880/1880 [==============================] - 0s 67us/step - loss: 1.3139 - accuracy: 0.6043\n",
            "Epoch 1008/1800\n",
            "1880/1880 [==============================] - 0s 75us/step - loss: 1.2546 - accuracy: 0.6032\n",
            "Epoch 1009/1800\n",
            "1880/1880 [==============================] - 0s 65us/step - loss: 1.1770 - accuracy: 0.6181\n",
            "Epoch 1010/1800\n",
            "1880/1880 [==============================] - 0s 65us/step - loss: 1.1048 - accuracy: 0.6441\n",
            "Epoch 1011/1800\n",
            "1880/1880 [==============================] - 0s 65us/step - loss: 1.2078 - accuracy: 0.6117\n",
            "Epoch 1012/1800\n",
            "1880/1880 [==============================] - 0s 69us/step - loss: 1.1540 - accuracy: 0.6410\n",
            "Epoch 1013/1800\n",
            "1880/1880 [==============================] - 0s 67us/step - loss: 0.9991 - accuracy: 0.6904\n",
            "Epoch 1014/1800\n",
            "1880/1880 [==============================] - 0s 67us/step - loss: 0.9932 - accuracy: 0.6846\n",
            "Epoch 1015/1800\n",
            "1880/1880 [==============================] - 0s 66us/step - loss: 0.9724 - accuracy: 0.6830\n",
            "Epoch 1016/1800\n",
            "1880/1880 [==============================] - 0s 70us/step - loss: 0.9584 - accuracy: 0.7011\n",
            "Epoch 1017/1800\n",
            "1880/1880 [==============================] - 0s 63us/step - loss: 0.9902 - accuracy: 0.6814\n",
            "Epoch 1018/1800\n",
            "1880/1880 [==============================] - 0s 65us/step - loss: 0.9901 - accuracy: 0.6835\n",
            "Epoch 1019/1800\n",
            "1880/1880 [==============================] - 0s 65us/step - loss: 1.0534 - accuracy: 0.6771\n",
            "Epoch 1020/1800\n",
            "1880/1880 [==============================] - 0s 71us/step - loss: 0.9796 - accuracy: 0.6840\n",
            "Epoch 1021/1800\n",
            "1880/1880 [==============================] - 0s 65us/step - loss: 0.9858 - accuracy: 0.6745\n",
            "Epoch 1022/1800\n",
            "1880/1880 [==============================] - 0s 64us/step - loss: 0.9452 - accuracy: 0.6920\n",
            "Epoch 1023/1800\n",
            "1880/1880 [==============================] - 0s 68us/step - loss: 0.9316 - accuracy: 0.6984\n",
            "Epoch 1024/1800\n",
            "1880/1880 [==============================] - 0s 72us/step - loss: 0.9165 - accuracy: 0.7032\n",
            "Epoch 1025/1800\n",
            "1880/1880 [==============================] - 0s 65us/step - loss: 0.9465 - accuracy: 0.6973\n",
            "Epoch 1026/1800\n",
            "1880/1880 [==============================] - 0s 67us/step - loss: 0.9241 - accuracy: 0.6995\n",
            "Epoch 1027/1800\n",
            "1880/1880 [==============================] - 0s 70us/step - loss: 0.9431 - accuracy: 0.7027\n",
            "Epoch 1028/1800\n",
            "1880/1880 [==============================] - 0s 65us/step - loss: 0.9237 - accuracy: 0.7011\n",
            "Epoch 1029/1800\n",
            "1880/1880 [==============================] - 0s 68us/step - loss: 0.9091 - accuracy: 0.7080\n",
            "Epoch 1030/1800\n",
            "1880/1880 [==============================] - 0s 66us/step - loss: 0.9313 - accuracy: 0.6931\n",
            "Epoch 1031/1800\n",
            "1880/1880 [==============================] - 0s 68us/step - loss: 0.9417 - accuracy: 0.6931\n",
            "Epoch 1032/1800\n",
            "1880/1880 [==============================] - 0s 69us/step - loss: 0.8825 - accuracy: 0.7117\n",
            "Epoch 1033/1800\n",
            "1880/1880 [==============================] - 0s 66us/step - loss: 0.9124 - accuracy: 0.7213\n",
            "Epoch 1034/1800\n",
            "1880/1880 [==============================] - 0s 66us/step - loss: 0.8971 - accuracy: 0.7085\n",
            "Epoch 1035/1800\n",
            "1880/1880 [==============================] - 0s 68us/step - loss: 0.9061 - accuracy: 0.7160\n",
            "Epoch 1036/1800\n",
            "1880/1880 [==============================] - 0s 65us/step - loss: 0.8793 - accuracy: 0.7191\n",
            "Epoch 1037/1800\n",
            "1880/1880 [==============================] - 0s 68us/step - loss: 0.8867 - accuracy: 0.7229\n",
            "Epoch 1038/1800\n",
            "1880/1880 [==============================] - 0s 73us/step - loss: 0.9177 - accuracy: 0.7149\n",
            "Epoch 1039/1800\n",
            "1880/1880 [==============================] - 0s 68us/step - loss: 0.9254 - accuracy: 0.7032\n",
            "Epoch 1040/1800\n",
            "1880/1880 [==============================] - 0s 67us/step - loss: 0.8707 - accuracy: 0.7255\n",
            "Epoch 1041/1800\n",
            "1880/1880 [==============================] - 0s 65us/step - loss: 0.9027 - accuracy: 0.7176\n",
            "Epoch 1042/1800\n",
            "1880/1880 [==============================] - 0s 65us/step - loss: 0.9069 - accuracy: 0.7117\n",
            "Epoch 1043/1800\n",
            "1880/1880 [==============================] - 0s 69us/step - loss: 0.9006 - accuracy: 0.7186\n",
            "Epoch 1044/1800\n",
            "1880/1880 [==============================] - 0s 65us/step - loss: 0.9060 - accuracy: 0.7090\n",
            "Epoch 1045/1800\n",
            "1880/1880 [==============================] - 0s 69us/step - loss: 0.8963 - accuracy: 0.7170\n",
            "Epoch 1046/1800\n",
            "1880/1880 [==============================] - 0s 67us/step - loss: 0.8909 - accuracy: 0.7101\n",
            "Epoch 1047/1800\n",
            "1880/1880 [==============================] - 0s 65us/step - loss: 0.9285 - accuracy: 0.7144\n",
            "Epoch 1048/1800\n",
            "1880/1880 [==============================] - 0s 71us/step - loss: 0.8880 - accuracy: 0.7117\n",
            "Epoch 1049/1800\n",
            "1880/1880 [==============================] - 0s 66us/step - loss: 0.8737 - accuracy: 0.7154\n",
            "Epoch 1050/1800\n",
            "1880/1880 [==============================] - 0s 65us/step - loss: 0.8622 - accuracy: 0.7330\n",
            "Epoch 1051/1800\n",
            "1880/1880 [==============================] - 0s 65us/step - loss: 0.8836 - accuracy: 0.7096\n",
            "Epoch 1052/1800\n",
            "1880/1880 [==============================] - 0s 64us/step - loss: 0.8852 - accuracy: 0.7287\n",
            "Epoch 1053/1800\n",
            "1880/1880 [==============================] - 0s 64us/step - loss: 0.8763 - accuracy: 0.7032\n",
            "Epoch 1054/1800\n",
            "1880/1880 [==============================] - 0s 67us/step - loss: 0.8813 - accuracy: 0.7053\n",
            "Epoch 1055/1800\n",
            "1880/1880 [==============================] - 0s 72us/step - loss: 0.9119 - accuracy: 0.7069\n",
            "Epoch 1056/1800\n",
            "1880/1880 [==============================] - 0s 70us/step - loss: 0.8399 - accuracy: 0.7282\n",
            "Epoch 1057/1800\n",
            "1880/1880 [==============================] - 0s 66us/step - loss: 0.8721 - accuracy: 0.7170\n",
            "Epoch 1058/1800\n",
            "1880/1880 [==============================] - 0s 65us/step - loss: 0.8649 - accuracy: 0.7293\n",
            "Epoch 1059/1800\n",
            "1880/1880 [==============================] - 0s 67us/step - loss: 0.8749 - accuracy: 0.7144\n",
            "Epoch 1060/1800\n",
            "1880/1880 [==============================] - 0s 65us/step - loss: 0.8755 - accuracy: 0.7160\n",
            "Epoch 1061/1800\n",
            "1880/1880 [==============================] - 0s 65us/step - loss: 0.8552 - accuracy: 0.7255\n",
            "Epoch 1062/1800\n",
            "1880/1880 [==============================] - 0s 65us/step - loss: 0.8620 - accuracy: 0.7255\n",
            "Epoch 1063/1800\n",
            "1880/1880 [==============================] - 0s 65us/step - loss: 0.8335 - accuracy: 0.7287\n",
            "Epoch 1064/1800\n",
            "1880/1880 [==============================] - 0s 73us/step - loss: 0.8758 - accuracy: 0.7080\n",
            "Epoch 1065/1800\n",
            "1880/1880 [==============================] - 0s 64us/step - loss: 0.8873 - accuracy: 0.7170\n",
            "Epoch 1066/1800\n",
            "1880/1880 [==============================] - 0s 66us/step - loss: 0.8444 - accuracy: 0.7383\n",
            "Epoch 1067/1800\n",
            "1880/1880 [==============================] - 0s 68us/step - loss: 0.8869 - accuracy: 0.7234\n",
            "Epoch 1068/1800\n",
            "1880/1880 [==============================] - 0s 68us/step - loss: 0.8594 - accuracy: 0.7218\n",
            "Epoch 1069/1800\n",
            "1880/1880 [==============================] - 0s 63us/step - loss: 0.8440 - accuracy: 0.7287\n",
            "Epoch 1070/1800\n",
            "1880/1880 [==============================] - 0s 67us/step - loss: 0.8419 - accuracy: 0.7234\n",
            "Epoch 1071/1800\n",
            "1880/1880 [==============================] - 0s 66us/step - loss: 0.8721 - accuracy: 0.7059\n",
            "Epoch 1072/1800\n",
            "1880/1880 [==============================] - 0s 69us/step - loss: 0.8313 - accuracy: 0.7245\n",
            "Epoch 1073/1800\n",
            "1880/1880 [==============================] - 0s 64us/step - loss: 0.8302 - accuracy: 0.7383\n",
            "Epoch 1074/1800\n",
            "1880/1880 [==============================] - 0s 65us/step - loss: 0.8375 - accuracy: 0.7266\n",
            "Epoch 1075/1800\n",
            "1880/1880 [==============================] - 0s 68us/step - loss: 0.7876 - accuracy: 0.7452\n",
            "Epoch 1076/1800\n",
            "1880/1880 [==============================] - 0s 67us/step - loss: 0.8895 - accuracy: 0.7207\n",
            "Epoch 1077/1800\n",
            "1880/1880 [==============================] - 0s 66us/step - loss: 0.8552 - accuracy: 0.7213\n",
            "Epoch 1078/1800\n",
            "1880/1880 [==============================] - 0s 71us/step - loss: 0.8294 - accuracy: 0.7261\n",
            "Epoch 1079/1800\n",
            "1880/1880 [==============================] - 0s 67us/step - loss: 0.8394 - accuracy: 0.7218\n",
            "Epoch 1080/1800\n",
            "1880/1880 [==============================] - 0s 68us/step - loss: 0.8495 - accuracy: 0.7144\n",
            "Epoch 1081/1800\n",
            "1880/1880 [==============================] - 0s 65us/step - loss: 0.8419 - accuracy: 0.7319\n",
            "Epoch 1082/1800\n",
            "1880/1880 [==============================] - 0s 64us/step - loss: 0.7812 - accuracy: 0.7585\n",
            "Epoch 1083/1800\n",
            "1880/1880 [==============================] - 0s 67us/step - loss: 1.0305 - accuracy: 0.7186\n",
            "Epoch 1084/1800\n",
            "1880/1880 [==============================] - 0s 63us/step - loss: 0.8314 - accuracy: 0.7282\n",
            "Epoch 1085/1800\n",
            "1880/1880 [==============================] - 0s 63us/step - loss: 0.8319 - accuracy: 0.7356\n",
            "Epoch 1086/1800\n",
            "1880/1880 [==============================] - 0s 63us/step - loss: 0.8484 - accuracy: 0.7266\n",
            "Epoch 1087/1800\n",
            "1880/1880 [==============================] - 0s 63us/step - loss: 0.8181 - accuracy: 0.7394\n",
            "Epoch 1088/1800\n",
            "1880/1880 [==============================] - 0s 68us/step - loss: 0.8061 - accuracy: 0.7420\n",
            "Epoch 1089/1800\n",
            "1880/1880 [==============================] - 0s 64us/step - loss: 0.8324 - accuracy: 0.7117\n",
            "Epoch 1090/1800\n",
            "1880/1880 [==============================] - 0s 64us/step - loss: 0.7953 - accuracy: 0.7511\n",
            "Epoch 1091/1800\n",
            "1880/1880 [==============================] - 0s 68us/step - loss: 0.8189 - accuracy: 0.7346\n",
            "Epoch 1092/1800\n",
            "1880/1880 [==============================] - 0s 65us/step - loss: 0.8545 - accuracy: 0.7165\n",
            "Epoch 1093/1800\n",
            "1880/1880 [==============================] - 0s 68us/step - loss: 0.8909 - accuracy: 0.7080\n",
            "Epoch 1094/1800\n",
            "1880/1880 [==============================] - 0s 67us/step - loss: 0.8170 - accuracy: 0.7383\n",
            "Epoch 1095/1800\n",
            "1880/1880 [==============================] - 0s 64us/step - loss: 0.8165 - accuracy: 0.7388\n",
            "Epoch 1096/1800\n",
            "1880/1880 [==============================] - 0s 70us/step - loss: 0.8490 - accuracy: 0.7324\n",
            "Epoch 1097/1800\n",
            "1880/1880 [==============================] - 0s 65us/step - loss: 0.8295 - accuracy: 0.7356\n",
            "Epoch 1098/1800\n",
            "1880/1880 [==============================] - 0s 62us/step - loss: 0.8483 - accuracy: 0.7218\n",
            "Epoch 1099/1800\n",
            "1880/1880 [==============================] - 0s 68us/step - loss: 0.8368 - accuracy: 0.7181\n",
            "Epoch 1100/1800\n",
            "1880/1880 [==============================] - 0s 67us/step - loss: 0.8268 - accuracy: 0.7229\n",
            "Epoch 1101/1800\n",
            "1880/1880 [==============================] - 0s 66us/step - loss: 0.8310 - accuracy: 0.7309\n",
            "Epoch 1102/1800\n",
            "1880/1880 [==============================] - 0s 67us/step - loss: 0.8019 - accuracy: 0.7447\n",
            "Epoch 1103/1800\n",
            "1880/1880 [==============================] - 0s 66us/step - loss: 0.8365 - accuracy: 0.7261\n",
            "Epoch 1104/1800\n",
            "1880/1880 [==============================] - 0s 68us/step - loss: 0.8151 - accuracy: 0.7394\n",
            "Epoch 1105/1800\n",
            "1880/1880 [==============================] - 0s 64us/step - loss: 0.8262 - accuracy: 0.7351\n",
            "Epoch 1106/1800\n",
            "1880/1880 [==============================] - 0s 64us/step - loss: 0.8269 - accuracy: 0.7362\n",
            "Epoch 1107/1800\n",
            "1880/1880 [==============================] - 0s 66us/step - loss: 0.8146 - accuracy: 0.7394\n",
            "Epoch 1108/1800\n",
            "1880/1880 [==============================] - 0s 65us/step - loss: 0.8091 - accuracy: 0.7367\n",
            "Epoch 1109/1800\n",
            "1880/1880 [==============================] - 0s 65us/step - loss: 0.8048 - accuracy: 0.7404\n",
            "Epoch 1110/1800\n",
            "1880/1880 [==============================] - 0s 67us/step - loss: 0.7796 - accuracy: 0.7420\n",
            "Epoch 1111/1800\n",
            "1880/1880 [==============================] - 0s 65us/step - loss: 0.7993 - accuracy: 0.7452\n",
            "Epoch 1112/1800\n",
            "1880/1880 [==============================] - 0s 71us/step - loss: 0.8066 - accuracy: 0.7330\n",
            "Epoch 1113/1800\n",
            "1880/1880 [==============================] - 0s 64us/step - loss: 0.7869 - accuracy: 0.7457\n",
            "Epoch 1114/1800\n",
            "1880/1880 [==============================] - 0s 68us/step - loss: 0.7784 - accuracy: 0.7511\n",
            "Epoch 1115/1800\n",
            "1880/1880 [==============================] - 0s 68us/step - loss: 0.7704 - accuracy: 0.7489\n",
            "Epoch 1116/1800\n",
            "1880/1880 [==============================] - 0s 64us/step - loss: 0.7741 - accuracy: 0.7521\n",
            "Epoch 1117/1800\n",
            "1880/1880 [==============================] - 0s 66us/step - loss: 0.7741 - accuracy: 0.7457\n",
            "Epoch 1118/1800\n",
            "1880/1880 [==============================] - 0s 66us/step - loss: 0.7635 - accuracy: 0.7559\n",
            "Epoch 1119/1800\n",
            "1880/1880 [==============================] - 0s 65us/step - loss: 0.8055 - accuracy: 0.7372\n",
            "Epoch 1120/1800\n",
            "1880/1880 [==============================] - 0s 69us/step - loss: 0.7643 - accuracy: 0.7415\n",
            "Epoch 1121/1800\n",
            "1880/1880 [==============================] - 0s 71us/step - loss: 0.7606 - accuracy: 0.7436\n",
            "Epoch 1122/1800\n",
            "1880/1880 [==============================] - 0s 69us/step - loss: 0.7715 - accuracy: 0.7479\n",
            "Epoch 1123/1800\n",
            "1880/1880 [==============================] - 0s 67us/step - loss: 0.7532 - accuracy: 0.7622\n",
            "Epoch 1124/1800\n",
            "1880/1880 [==============================] - 0s 69us/step - loss: 0.7782 - accuracy: 0.7495\n",
            "Epoch 1125/1800\n",
            "1880/1880 [==============================] - 0s 68us/step - loss: 0.7884 - accuracy: 0.7404\n",
            "Epoch 1126/1800\n",
            "1880/1880 [==============================] - 0s 65us/step - loss: 0.8114 - accuracy: 0.7282\n",
            "Epoch 1127/1800\n",
            "1880/1880 [==============================] - 0s 68us/step - loss: 0.7895 - accuracy: 0.7590\n",
            "Epoch 1128/1800\n",
            "1880/1880 [==============================] - 0s 70us/step - loss: 0.7750 - accuracy: 0.7516\n",
            "Epoch 1129/1800\n",
            "1880/1880 [==============================] - 0s 67us/step - loss: 0.7696 - accuracy: 0.7601\n",
            "Epoch 1130/1800\n",
            "1880/1880 [==============================] - 0s 65us/step - loss: 0.7793 - accuracy: 0.7468\n",
            "Epoch 1131/1800\n",
            "1880/1880 [==============================] - 0s 68us/step - loss: 0.7521 - accuracy: 0.7606\n",
            "Epoch 1132/1800\n",
            "1880/1880 [==============================] - 0s 66us/step - loss: 0.7645 - accuracy: 0.7628\n",
            "Epoch 1133/1800\n",
            "1880/1880 [==============================] - 0s 67us/step - loss: 0.7744 - accuracy: 0.7505\n",
            "Epoch 1134/1800\n",
            "1880/1880 [==============================] - 0s 65us/step - loss: 0.7817 - accuracy: 0.7543\n",
            "Epoch 1135/1800\n",
            "1880/1880 [==============================] - 0s 66us/step - loss: 0.7830 - accuracy: 0.7394\n",
            "Epoch 1136/1800\n",
            "1880/1880 [==============================] - 0s 66us/step - loss: 0.7584 - accuracy: 0.7574\n",
            "Epoch 1137/1800\n",
            "1880/1880 [==============================] - 0s 65us/step - loss: 0.7656 - accuracy: 0.7489\n",
            "Epoch 1138/1800\n",
            "1880/1880 [==============================] - 0s 64us/step - loss: 0.7762 - accuracy: 0.7399\n",
            "Epoch 1139/1800\n",
            "1880/1880 [==============================] - 0s 68us/step - loss: 0.7478 - accuracy: 0.7580\n",
            "Epoch 1140/1800\n",
            "1880/1880 [==============================] - 0s 67us/step - loss: 0.7576 - accuracy: 0.7452\n",
            "Epoch 1141/1800\n",
            "1880/1880 [==============================] - 0s 66us/step - loss: 0.7631 - accuracy: 0.7665\n",
            "Epoch 1142/1800\n",
            "1880/1880 [==============================] - 0s 66us/step - loss: 0.7569 - accuracy: 0.7601\n",
            "Epoch 1143/1800\n",
            "1880/1880 [==============================] - 0s 67us/step - loss: 0.7783 - accuracy: 0.7521\n",
            "Epoch 1144/1800\n",
            "1880/1880 [==============================] - 0s 73us/step - loss: 0.7761 - accuracy: 0.7500\n",
            "Epoch 1145/1800\n",
            "1880/1880 [==============================] - 0s 65us/step - loss: 0.7598 - accuracy: 0.7537\n",
            "Epoch 1146/1800\n",
            "1880/1880 [==============================] - 0s 68us/step - loss: 0.7552 - accuracy: 0.7527\n",
            "Epoch 1147/1800\n",
            "1880/1880 [==============================] - 0s 66us/step - loss: 0.7571 - accuracy: 0.7537\n",
            "Epoch 1148/1800\n",
            "1880/1880 [==============================] - 0s 67us/step - loss: 0.7804 - accuracy: 0.7415\n",
            "Epoch 1149/1800\n",
            "1880/1880 [==============================] - 0s 67us/step - loss: 0.7492 - accuracy: 0.7574\n",
            "Epoch 1150/1800\n",
            "1880/1880 [==============================] - 0s 64us/step - loss: 0.7499 - accuracy: 0.7580\n",
            "Epoch 1151/1800\n",
            "1880/1880 [==============================] - 0s 64us/step - loss: 0.7559 - accuracy: 0.7543\n",
            "Epoch 1152/1800\n",
            "1880/1880 [==============================] - 0s 69us/step - loss: 0.7563 - accuracy: 0.7532\n",
            "Epoch 1153/1800\n",
            "1880/1880 [==============================] - 0s 65us/step - loss: 0.7599 - accuracy: 0.7479\n",
            "Epoch 1154/1800\n",
            "1880/1880 [==============================] - 0s 68us/step - loss: 1.3754 - accuracy: 0.6979\n",
            "Epoch 1155/1800\n",
            "1880/1880 [==============================] - 0s 66us/step - loss: 0.9247 - accuracy: 0.7021\n",
            "Epoch 1156/1800\n",
            "1880/1880 [==============================] - 0s 66us/step - loss: 0.8414 - accuracy: 0.7213\n",
            "Epoch 1157/1800\n",
            "1880/1880 [==============================] - 0s 66us/step - loss: 0.7927 - accuracy: 0.7410\n",
            "Epoch 1158/1800\n",
            "1880/1880 [==============================] - 0s 65us/step - loss: 0.7704 - accuracy: 0.7457\n",
            "Epoch 1159/1800\n",
            "1880/1880 [==============================] - 0s 64us/step - loss: 0.8313 - accuracy: 0.7303\n",
            "Epoch 1160/1800\n",
            "1880/1880 [==============================] - 0s 70us/step - loss: 0.8118 - accuracy: 0.7346\n",
            "Epoch 1161/1800\n",
            "1880/1880 [==============================] - 0s 65us/step - loss: 0.8201 - accuracy: 0.7426\n",
            "Epoch 1162/1800\n",
            "1880/1880 [==============================] - 0s 66us/step - loss: 0.8074 - accuracy: 0.7383\n",
            "Epoch 1163/1800\n",
            "1880/1880 [==============================] - 0s 65us/step - loss: 0.7733 - accuracy: 0.7362\n",
            "Epoch 1164/1800\n",
            "1880/1880 [==============================] - 0s 65us/step - loss: 0.7366 - accuracy: 0.7686\n",
            "Epoch 1165/1800\n",
            "1880/1880 [==============================] - 0s 67us/step - loss: 0.7617 - accuracy: 0.7511\n",
            "Epoch 1166/1800\n",
            "1880/1880 [==============================] - 0s 64us/step - loss: 0.7731 - accuracy: 0.7505\n",
            "Epoch 1167/1800\n",
            "1880/1880 [==============================] - 0s 64us/step - loss: 0.7366 - accuracy: 0.7676\n",
            "Epoch 1168/1800\n",
            "1880/1880 [==============================] - 0s 72us/step - loss: 0.7714 - accuracy: 0.7622\n",
            "Epoch 1169/1800\n",
            "1880/1880 [==============================] - 0s 67us/step - loss: 0.7415 - accuracy: 0.7527\n",
            "Epoch 1170/1800\n",
            "1880/1880 [==============================] - 0s 69us/step - loss: 0.7750 - accuracy: 0.7473\n",
            "Epoch 1171/1800\n",
            "1880/1880 [==============================] - 0s 65us/step - loss: 0.7386 - accuracy: 0.7622\n",
            "Epoch 1172/1800\n",
            "1880/1880 [==============================] - 0s 65us/step - loss: 0.7609 - accuracy: 0.7463\n",
            "Epoch 1173/1800\n",
            "1880/1880 [==============================] - 0s 70us/step - loss: 0.7606 - accuracy: 0.7612\n",
            "Epoch 1174/1800\n",
            "1880/1880 [==============================] - 0s 66us/step - loss: 0.7480 - accuracy: 0.7521\n",
            "Epoch 1175/1800\n",
            "1880/1880 [==============================] - 0s 68us/step - loss: 0.7134 - accuracy: 0.7590\n",
            "Epoch 1176/1800\n",
            "1880/1880 [==============================] - 0s 72us/step - loss: 0.7225 - accuracy: 0.7654\n",
            "Epoch 1177/1800\n",
            "1880/1880 [==============================] - 0s 64us/step - loss: 0.7144 - accuracy: 0.7622\n",
            "Epoch 1178/1800\n",
            "1880/1880 [==============================] - 0s 66us/step - loss: 0.7100 - accuracy: 0.7622\n",
            "Epoch 1179/1800\n",
            "1880/1880 [==============================] - 0s 66us/step - loss: 0.7408 - accuracy: 0.7537\n",
            "Epoch 1180/1800\n",
            "1880/1880 [==============================] - 0s 66us/step - loss: 0.7318 - accuracy: 0.7628\n",
            "Epoch 1181/1800\n",
            "1880/1880 [==============================] - 0s 64us/step - loss: 0.7143 - accuracy: 0.7505\n",
            "Epoch 1182/1800\n",
            "1880/1880 [==============================] - 0s 63us/step - loss: 0.6987 - accuracy: 0.7670\n",
            "Epoch 1183/1800\n",
            "1880/1880 [==============================] - 0s 67us/step - loss: 0.7270 - accuracy: 0.7606\n",
            "Epoch 1184/1800\n",
            "1880/1880 [==============================] - 0s 70us/step - loss: 0.8142 - accuracy: 0.7426\n",
            "Epoch 1185/1800\n",
            "1880/1880 [==============================] - 0s 63us/step - loss: 0.7472 - accuracy: 0.7527\n",
            "Epoch 1186/1800\n",
            "1880/1880 [==============================] - 0s 67us/step - loss: 0.7745 - accuracy: 0.7628\n",
            "Epoch 1187/1800\n",
            "1880/1880 [==============================] - 0s 63us/step - loss: 0.7635 - accuracy: 0.7473\n",
            "Epoch 1188/1800\n",
            "1880/1880 [==============================] - 0s 65us/step - loss: 0.7856 - accuracy: 0.7548\n",
            "Epoch 1189/1800\n",
            "1880/1880 [==============================] - 0s 64us/step - loss: 0.7331 - accuracy: 0.7723\n",
            "Epoch 1190/1800\n",
            "1880/1880 [==============================] - 0s 65us/step - loss: 0.7802 - accuracy: 0.7399\n",
            "Epoch 1191/1800\n",
            "1880/1880 [==============================] - 0s 63us/step - loss: 0.7544 - accuracy: 0.7654\n",
            "Epoch 1192/1800\n",
            "1880/1880 [==============================] - 0s 69us/step - loss: 0.7430 - accuracy: 0.7606\n",
            "Epoch 1193/1800\n",
            "1880/1880 [==============================] - 0s 63us/step - loss: 0.7170 - accuracy: 0.7612\n",
            "Epoch 1194/1800\n",
            "1880/1880 [==============================] - 0s 71us/step - loss: 0.7407 - accuracy: 0.7559\n",
            "Epoch 1195/1800\n",
            "1880/1880 [==============================] - 0s 64us/step - loss: 0.6814 - accuracy: 0.7840\n",
            "Epoch 1196/1800\n",
            "1880/1880 [==============================] - 0s 64us/step - loss: 0.7165 - accuracy: 0.7686\n",
            "Epoch 1197/1800\n",
            "1880/1880 [==============================] - 0s 63us/step - loss: 0.7231 - accuracy: 0.7681\n",
            "Epoch 1198/1800\n",
            "1880/1880 [==============================] - 0s 64us/step - loss: 0.7355 - accuracy: 0.7670\n",
            "Epoch 1199/1800\n",
            "1880/1880 [==============================] - 0s 62us/step - loss: 0.7423 - accuracy: 0.7521\n",
            "Epoch 1200/1800\n",
            "1880/1880 [==============================] - 0s 67us/step - loss: 0.7615 - accuracy: 0.7585\n",
            "Epoch 1201/1800\n",
            "1880/1880 [==============================] - 0s 64us/step - loss: 0.7436 - accuracy: 0.7617\n",
            "Epoch 1202/1800\n",
            "1880/1880 [==============================] - 0s 65us/step - loss: 0.7385 - accuracy: 0.7612\n",
            "Epoch 1203/1800\n",
            "1880/1880 [==============================] - 0s 69us/step - loss: 0.6854 - accuracy: 0.7718\n",
            "Epoch 1204/1800\n",
            "1880/1880 [==============================] - 0s 67us/step - loss: 0.6874 - accuracy: 0.7681\n",
            "Epoch 1205/1800\n",
            "1880/1880 [==============================] - 0s 66us/step - loss: 0.7198 - accuracy: 0.7628\n",
            "Epoch 1206/1800\n",
            "1880/1880 [==============================] - 0s 65us/step - loss: 0.6933 - accuracy: 0.7713\n",
            "Epoch 1207/1800\n",
            "1880/1880 [==============================] - 0s 65us/step - loss: 0.7221 - accuracy: 0.7665\n",
            "Epoch 1208/1800\n",
            "1880/1880 [==============================] - 0s 71us/step - loss: 0.7282 - accuracy: 0.7574\n",
            "Epoch 1209/1800\n",
            "1880/1880 [==============================] - 0s 67us/step - loss: 0.7166 - accuracy: 0.7606\n",
            "Epoch 1210/1800\n",
            "1880/1880 [==============================] - 0s 74us/step - loss: 0.7124 - accuracy: 0.7697\n",
            "Epoch 1211/1800\n",
            "1880/1880 [==============================] - 0s 67us/step - loss: 0.7332 - accuracy: 0.7596\n",
            "Epoch 1212/1800\n",
            "1880/1880 [==============================] - 0s 68us/step - loss: 0.7401 - accuracy: 0.7596\n",
            "Epoch 1213/1800\n",
            "1880/1880 [==============================] - 0s 64us/step - loss: 0.7125 - accuracy: 0.7590\n",
            "Epoch 1214/1800\n",
            "1880/1880 [==============================] - 0s 66us/step - loss: 0.6834 - accuracy: 0.7798\n",
            "Epoch 1215/1800\n",
            "1880/1880 [==============================] - 0s 72us/step - loss: 0.7174 - accuracy: 0.7649\n",
            "Epoch 1216/1800\n",
            "1880/1880 [==============================] - 0s 73us/step - loss: 0.7165 - accuracy: 0.7702\n",
            "Epoch 1217/1800\n",
            "1880/1880 [==============================] - 0s 64us/step - loss: 0.7033 - accuracy: 0.7612\n",
            "Epoch 1218/1800\n",
            "1880/1880 [==============================] - 0s 67us/step - loss: 0.7336 - accuracy: 0.7606\n",
            "Epoch 1219/1800\n",
            "1880/1880 [==============================] - 0s 65us/step - loss: 0.7598 - accuracy: 0.7431\n",
            "Epoch 1220/1800\n",
            "1880/1880 [==============================] - 0s 66us/step - loss: 0.7360 - accuracy: 0.7505\n",
            "Epoch 1221/1800\n",
            "1880/1880 [==============================] - 0s 64us/step - loss: 0.7617 - accuracy: 0.7447\n",
            "Epoch 1222/1800\n",
            "1880/1880 [==============================] - 0s 66us/step - loss: 0.7035 - accuracy: 0.7686\n",
            "Epoch 1223/1800\n",
            "1880/1880 [==============================] - 0s 64us/step - loss: 0.7018 - accuracy: 0.7761\n",
            "Epoch 1224/1800\n",
            "1880/1880 [==============================] - 0s 68us/step - loss: 0.7084 - accuracy: 0.7702\n",
            "Epoch 1225/1800\n",
            "1880/1880 [==============================] - 0s 66us/step - loss: 0.7193 - accuracy: 0.7729\n",
            "Epoch 1226/1800\n",
            "1880/1880 [==============================] - 0s 69us/step - loss: 0.6907 - accuracy: 0.7872\n",
            "Epoch 1227/1800\n",
            "1880/1880 [==============================] - 0s 68us/step - loss: 0.7257 - accuracy: 0.7617\n",
            "Epoch 1228/1800\n",
            "1880/1880 [==============================] - 0s 65us/step - loss: 0.7319 - accuracy: 0.7527\n",
            "Epoch 1229/1800\n",
            "1880/1880 [==============================] - 0s 65us/step - loss: 0.7159 - accuracy: 0.7707\n",
            "Epoch 1230/1800\n",
            "1880/1880 [==============================] - 0s 66us/step - loss: 0.6932 - accuracy: 0.7739\n",
            "Epoch 1231/1800\n",
            "1880/1880 [==============================] - 0s 66us/step - loss: 0.7093 - accuracy: 0.7622\n",
            "Epoch 1232/1800\n",
            "1880/1880 [==============================] - 0s 72us/step - loss: 0.7092 - accuracy: 0.7670\n",
            "Epoch 1233/1800\n",
            "1880/1880 [==============================] - 0s 66us/step - loss: 0.6838 - accuracy: 0.7782\n",
            "Epoch 1234/1800\n",
            "1880/1880 [==============================] - 0s 68us/step - loss: 0.7305 - accuracy: 0.7670\n",
            "Epoch 1235/1800\n",
            "1880/1880 [==============================] - 0s 67us/step - loss: 0.6999 - accuracy: 0.7777\n",
            "Epoch 1236/1800\n",
            "1880/1880 [==============================] - 0s 68us/step - loss: 0.7109 - accuracy: 0.7681\n",
            "Epoch 1237/1800\n",
            "1880/1880 [==============================] - 0s 67us/step - loss: 0.7324 - accuracy: 0.7660\n",
            "Epoch 1238/1800\n",
            "1880/1880 [==============================] - 0s 70us/step - loss: 0.6858 - accuracy: 0.7729\n",
            "Epoch 1239/1800\n",
            "1880/1880 [==============================] - 0s 66us/step - loss: 0.6963 - accuracy: 0.7707\n",
            "Epoch 1240/1800\n",
            "1880/1880 [==============================] - 0s 71us/step - loss: 0.6964 - accuracy: 0.7697\n",
            "Epoch 1241/1800\n",
            "1880/1880 [==============================] - 0s 65us/step - loss: 0.6650 - accuracy: 0.7835\n",
            "Epoch 1242/1800\n",
            "1880/1880 [==============================] - 0s 67us/step - loss: 0.7185 - accuracy: 0.7516\n",
            "Epoch 1243/1800\n",
            "1880/1880 [==============================] - 0s 66us/step - loss: 0.6935 - accuracy: 0.7713\n",
            "Epoch 1244/1800\n",
            "1880/1880 [==============================] - 0s 65us/step - loss: 0.7160 - accuracy: 0.7574\n",
            "Epoch 1245/1800\n",
            "1880/1880 [==============================] - 0s 64us/step - loss: 0.6964 - accuracy: 0.7782\n",
            "Epoch 1246/1800\n",
            "1880/1880 [==============================] - 0s 65us/step - loss: 0.6637 - accuracy: 0.7824\n",
            "Epoch 1247/1800\n",
            "1880/1880 [==============================] - 0s 65us/step - loss: 0.6767 - accuracy: 0.7782\n",
            "Epoch 1248/1800\n",
            "1880/1880 [==============================] - 0s 67us/step - loss: 0.6448 - accuracy: 0.7787\n",
            "Epoch 1249/1800\n",
            "1880/1880 [==============================] - 0s 63us/step - loss: 0.6359 - accuracy: 0.7899\n",
            "Epoch 1250/1800\n",
            "1880/1880 [==============================] - 0s 67us/step - loss: 0.6601 - accuracy: 0.7771\n",
            "Epoch 1251/1800\n",
            "1880/1880 [==============================] - 0s 68us/step - loss: 0.6902 - accuracy: 0.7681\n",
            "Epoch 1252/1800\n",
            "1880/1880 [==============================] - 0s 68us/step - loss: 0.7064 - accuracy: 0.7649\n",
            "Epoch 1253/1800\n",
            "1880/1880 [==============================] - 0s 66us/step - loss: 0.7613 - accuracy: 0.7660\n",
            "Epoch 1254/1800\n",
            "1880/1880 [==============================] - 0s 66us/step - loss: 0.7178 - accuracy: 0.7665\n",
            "Epoch 1255/1800\n",
            "1880/1880 [==============================] - 0s 65us/step - loss: 0.6818 - accuracy: 0.7782\n",
            "Epoch 1256/1800\n",
            "1880/1880 [==============================] - 0s 68us/step - loss: 0.6766 - accuracy: 0.7745\n",
            "Epoch 1257/1800\n",
            "1880/1880 [==============================] - 0s 64us/step - loss: 0.6513 - accuracy: 0.7830\n",
            "Epoch 1258/1800\n",
            "1880/1880 [==============================] - 0s 69us/step - loss: 0.6894 - accuracy: 0.7718\n",
            "Epoch 1259/1800\n",
            "1880/1880 [==============================] - 0s 66us/step - loss: 0.6466 - accuracy: 0.7830\n",
            "Epoch 1260/1800\n",
            "1880/1880 [==============================] - 0s 67us/step - loss: 0.6912 - accuracy: 0.7750\n",
            "Epoch 1261/1800\n",
            "1880/1880 [==============================] - 0s 67us/step - loss: 0.7087 - accuracy: 0.7707\n",
            "Epoch 1262/1800\n",
            "1880/1880 [==============================] - 0s 69us/step - loss: 0.7109 - accuracy: 0.7628\n",
            "Epoch 1263/1800\n",
            "1880/1880 [==============================] - 0s 64us/step - loss: 0.6926 - accuracy: 0.7766\n",
            "Epoch 1264/1800\n",
            "1880/1880 [==============================] - 0s 67us/step - loss: 0.6867 - accuracy: 0.7723\n",
            "Epoch 1265/1800\n",
            "1880/1880 [==============================] - 0s 66us/step - loss: 0.6499 - accuracy: 0.7888\n",
            "Epoch 1266/1800\n",
            "1880/1880 [==============================] - 0s 69us/step - loss: 0.7189 - accuracy: 0.7612\n",
            "Epoch 1267/1800\n",
            "1880/1880 [==============================] - 0s 72us/step - loss: 0.6707 - accuracy: 0.7899\n",
            "Epoch 1268/1800\n",
            "1880/1880 [==============================] - 0s 68us/step - loss: 0.7262 - accuracy: 0.7580\n",
            "Epoch 1269/1800\n",
            "1880/1880 [==============================] - 0s 66us/step - loss: 0.6695 - accuracy: 0.7862\n",
            "Epoch 1270/1800\n",
            "1880/1880 [==============================] - 0s 67us/step - loss: 0.6516 - accuracy: 0.7936\n",
            "Epoch 1271/1800\n",
            "1880/1880 [==============================] - 0s 66us/step - loss: 0.6982 - accuracy: 0.7697\n",
            "Epoch 1272/1800\n",
            "1880/1880 [==============================] - 0s 71us/step - loss: 0.6505 - accuracy: 0.7872\n",
            "Epoch 1273/1800\n",
            "1880/1880 [==============================] - 0s 64us/step - loss: 0.6484 - accuracy: 0.7952\n",
            "Epoch 1274/1800\n",
            "1880/1880 [==============================] - 0s 69us/step - loss: 0.6314 - accuracy: 0.7952\n",
            "Epoch 1275/1800\n",
            "1880/1880 [==============================] - 0s 68us/step - loss: 0.6677 - accuracy: 0.7947\n",
            "Epoch 1276/1800\n",
            "1880/1880 [==============================] - 0s 64us/step - loss: 0.6532 - accuracy: 0.7851\n",
            "Epoch 1277/1800\n",
            "1880/1880 [==============================] - 0s 66us/step - loss: 0.6571 - accuracy: 0.7819\n",
            "Epoch 1278/1800\n",
            "1880/1880 [==============================] - 0s 65us/step - loss: 0.6880 - accuracy: 0.7840\n",
            "Epoch 1279/1800\n",
            "1880/1880 [==============================] - 0s 63us/step - loss: 0.6547 - accuracy: 0.7670\n",
            "Epoch 1280/1800\n",
            "1880/1880 [==============================] - 0s 69us/step - loss: 0.6471 - accuracy: 0.7883\n",
            "Epoch 1281/1800\n",
            "1880/1880 [==============================] - 0s 65us/step - loss: 0.6705 - accuracy: 0.7782\n",
            "Epoch 1282/1800\n",
            "1880/1880 [==============================] - 0s 71us/step - loss: 0.7248 - accuracy: 0.7702\n",
            "Epoch 1283/1800\n",
            "1880/1880 [==============================] - 0s 65us/step - loss: 0.6470 - accuracy: 0.7851\n",
            "Epoch 1284/1800\n",
            "1880/1880 [==============================] - 0s 64us/step - loss: 0.6398 - accuracy: 0.7739\n",
            "Epoch 1285/1800\n",
            "1880/1880 [==============================] - 0s 64us/step - loss: 0.6670 - accuracy: 0.7920\n",
            "Epoch 1286/1800\n",
            "1880/1880 [==============================] - 0s 67us/step - loss: 0.6584 - accuracy: 0.7915\n",
            "Epoch 1287/1800\n",
            "1880/1880 [==============================] - 0s 72us/step - loss: 0.6454 - accuracy: 0.7867\n",
            "Epoch 1288/1800\n",
            "1880/1880 [==============================] - 0s 70us/step - loss: 0.6059 - accuracy: 0.8027\n",
            "Epoch 1289/1800\n",
            "1880/1880 [==============================] - 0s 70us/step - loss: 0.6280 - accuracy: 0.7904\n",
            "Epoch 1290/1800\n",
            "1880/1880 [==============================] - 0s 67us/step - loss: 0.6291 - accuracy: 0.7941\n",
            "Epoch 1291/1800\n",
            "1880/1880 [==============================] - 0s 64us/step - loss: 0.6284 - accuracy: 0.7995\n",
            "Epoch 1292/1800\n",
            "1880/1880 [==============================] - 0s 67us/step - loss: 0.6499 - accuracy: 0.7750\n",
            "Epoch 1293/1800\n",
            "1880/1880 [==============================] - 0s 68us/step - loss: 0.6597 - accuracy: 0.7814\n",
            "Epoch 1294/1800\n",
            "1880/1880 [==============================] - 0s 66us/step - loss: 0.6716 - accuracy: 0.7702\n",
            "Epoch 1295/1800\n",
            "1880/1880 [==============================] - 0s 65us/step - loss: 0.7154 - accuracy: 0.7771\n",
            "Epoch 1296/1800\n",
            "1880/1880 [==============================] - 0s 70us/step - loss: 0.6457 - accuracy: 0.7809\n",
            "Epoch 1297/1800\n",
            "1880/1880 [==============================] - 0s 72us/step - loss: 0.6195 - accuracy: 0.7888\n",
            "Epoch 1298/1800\n",
            "1880/1880 [==============================] - 0s 69us/step - loss: 0.6775 - accuracy: 0.7782\n",
            "Epoch 1299/1800\n",
            "1880/1880 [==============================] - 0s 64us/step - loss: 0.6494 - accuracy: 0.7872\n",
            "Epoch 1300/1800\n",
            "1880/1880 [==============================] - 0s 68us/step - loss: 0.6360 - accuracy: 0.7798\n",
            "Epoch 1301/1800\n",
            "1880/1880 [==============================] - 0s 65us/step - loss: 0.6205 - accuracy: 0.7968\n",
            "Epoch 1302/1800\n",
            "1880/1880 [==============================] - 0s 74us/step - loss: 0.6166 - accuracy: 0.7963\n",
            "Epoch 1303/1800\n",
            "1880/1880 [==============================] - 0s 70us/step - loss: 0.6401 - accuracy: 0.7883\n",
            "Epoch 1304/1800\n",
            "1880/1880 [==============================] - 0s 69us/step - loss: 0.6395 - accuracy: 0.7926\n",
            "Epoch 1305/1800\n",
            "1880/1880 [==============================] - 0s 68us/step - loss: 0.6235 - accuracy: 0.7862\n",
            "Epoch 1306/1800\n",
            "1880/1880 [==============================] - 0s 66us/step - loss: 0.6279 - accuracy: 0.7947\n",
            "Epoch 1307/1800\n",
            "1880/1880 [==============================] - 0s 63us/step - loss: 0.6462 - accuracy: 0.7973\n",
            "Epoch 1308/1800\n",
            "1880/1880 [==============================] - 0s 65us/step - loss: 0.5955 - accuracy: 0.8032\n",
            "Epoch 1309/1800\n",
            "1880/1880 [==============================] - 0s 66us/step - loss: 0.6376 - accuracy: 0.8016\n",
            "Epoch 1310/1800\n",
            "1880/1880 [==============================] - 0s 64us/step - loss: 0.6541 - accuracy: 0.7835\n",
            "Epoch 1311/1800\n",
            "1880/1880 [==============================] - 0s 87us/step - loss: 0.6517 - accuracy: 0.7926\n",
            "Epoch 1312/1800\n",
            "1880/1880 [==============================] - 0s 70us/step - loss: 0.6520 - accuracy: 0.7899\n",
            "Epoch 1313/1800\n",
            "1880/1880 [==============================] - 0s 71us/step - loss: 0.6167 - accuracy: 0.7920\n",
            "Epoch 1314/1800\n",
            "1880/1880 [==============================] - 0s 64us/step - loss: 0.6282 - accuracy: 0.7963\n",
            "Epoch 1315/1800\n",
            "1880/1880 [==============================] - 0s 65us/step - loss: 0.6504 - accuracy: 0.7862\n",
            "Epoch 1316/1800\n",
            "1880/1880 [==============================] - 0s 64us/step - loss: 0.6544 - accuracy: 0.7931\n",
            "Epoch 1317/1800\n",
            "1880/1880 [==============================] - 0s 63us/step - loss: 0.6323 - accuracy: 0.7899\n",
            "Epoch 1318/1800\n",
            "1880/1880 [==============================] - 0s 64us/step - loss: 0.5967 - accuracy: 0.8021\n",
            "Epoch 1319/1800\n",
            "1880/1880 [==============================] - 0s 69us/step - loss: 0.6187 - accuracy: 0.7963\n",
            "Epoch 1320/1800\n",
            "1880/1880 [==============================] - 0s 66us/step - loss: 0.6306 - accuracy: 0.7926\n",
            "Epoch 1321/1800\n",
            "1880/1880 [==============================] - 0s 69us/step - loss: 0.6398 - accuracy: 0.7878\n",
            "Epoch 1322/1800\n",
            "1880/1880 [==============================] - 0s 64us/step - loss: 0.6408 - accuracy: 0.8011\n",
            "Epoch 1323/1800\n",
            "1880/1880 [==============================] - 0s 65us/step - loss: 0.6186 - accuracy: 0.7963\n",
            "Epoch 1324/1800\n",
            "1880/1880 [==============================] - 0s 65us/step - loss: 0.6339 - accuracy: 0.8011\n",
            "Epoch 1325/1800\n",
            "1880/1880 [==============================] - 0s 65us/step - loss: 0.6438 - accuracy: 0.7862\n",
            "Epoch 1326/1800\n",
            "1880/1880 [==============================] - 0s 66us/step - loss: 0.6261 - accuracy: 0.7894\n",
            "Epoch 1327/1800\n",
            "1880/1880 [==============================] - 0s 68us/step - loss: 0.7148 - accuracy: 0.7899\n",
            "Epoch 1328/1800\n",
            "1880/1880 [==============================] - 0s 65us/step - loss: 0.6693 - accuracy: 0.7793\n",
            "Epoch 1329/1800\n",
            "1880/1880 [==============================] - 0s 75us/step - loss: 0.6225 - accuracy: 0.7973\n",
            "Epoch 1330/1800\n",
            "1880/1880 [==============================] - 0s 65us/step - loss: 0.6398 - accuracy: 0.7936\n",
            "Epoch 1331/1800\n",
            "1880/1880 [==============================] - 0s 68us/step - loss: 0.6134 - accuracy: 0.7995\n",
            "Epoch 1332/1800\n",
            "1880/1880 [==============================] - 0s 72us/step - loss: 0.6423 - accuracy: 0.7915\n",
            "Epoch 1333/1800\n",
            "1880/1880 [==============================] - 0s 66us/step - loss: 0.6149 - accuracy: 0.8027\n",
            "Epoch 1334/1800\n",
            "1880/1880 [==============================] - 0s 65us/step - loss: 0.6057 - accuracy: 0.8021\n",
            "Epoch 1335/1800\n",
            "1880/1880 [==============================] - 0s 70us/step - loss: 0.5964 - accuracy: 0.8154\n",
            "Epoch 1336/1800\n",
            "1880/1880 [==============================] - 0s 74us/step - loss: 0.6261 - accuracy: 0.7989\n",
            "Epoch 1337/1800\n",
            "1880/1880 [==============================] - 0s 67us/step - loss: 0.6475 - accuracy: 0.7846\n",
            "Epoch 1338/1800\n",
            "1880/1880 [==============================] - 0s 65us/step - loss: 0.6636 - accuracy: 0.7920\n",
            "Epoch 1339/1800\n",
            "1880/1880 [==============================] - 0s 65us/step - loss: 0.6132 - accuracy: 0.7973\n",
            "Epoch 1340/1800\n",
            "1880/1880 [==============================] - 0s 65us/step - loss: 0.6300 - accuracy: 0.7819\n",
            "Epoch 1341/1800\n",
            "1880/1880 [==============================] - 0s 64us/step - loss: 0.6526 - accuracy: 0.7803\n",
            "Epoch 1342/1800\n",
            "1880/1880 [==============================] - 0s 71us/step - loss: 0.5983 - accuracy: 0.7973\n",
            "Epoch 1343/1800\n",
            "1880/1880 [==============================] - 0s 70us/step - loss: 0.6554 - accuracy: 0.7824\n",
            "Epoch 1344/1800\n",
            "1880/1880 [==============================] - 0s 68us/step - loss: 0.9366 - accuracy: 0.7479\n",
            "Epoch 1345/1800\n",
            "1880/1880 [==============================] - 0s 65us/step - loss: 0.6713 - accuracy: 0.7734\n",
            "Epoch 1346/1800\n",
            "1880/1880 [==============================] - 0s 66us/step - loss: 0.6625 - accuracy: 0.7798\n",
            "Epoch 1347/1800\n",
            "1880/1880 [==============================] - 0s 66us/step - loss: 0.6365 - accuracy: 0.7920\n",
            "Epoch 1348/1800\n",
            "1880/1880 [==============================] - 0s 65us/step - loss: 0.6333 - accuracy: 0.7973\n",
            "Epoch 1349/1800\n",
            "1880/1880 [==============================] - 0s 64us/step - loss: 0.6453 - accuracy: 0.7931\n",
            "Epoch 1350/1800\n",
            "1880/1880 [==============================] - 0s 62us/step - loss: 0.6234 - accuracy: 0.8021\n",
            "Epoch 1351/1800\n",
            "1880/1880 [==============================] - 0s 67us/step - loss: 0.5839 - accuracy: 0.8112\n",
            "Epoch 1352/1800\n",
            "1880/1880 [==============================] - 0s 66us/step - loss: 0.5945 - accuracy: 0.7995\n",
            "Epoch 1353/1800\n",
            "1880/1880 [==============================] - 0s 64us/step - loss: 0.6401 - accuracy: 0.7915\n",
            "Epoch 1354/1800\n",
            "1880/1880 [==============================] - 0s 66us/step - loss: 0.6255 - accuracy: 0.7963\n",
            "Epoch 1355/1800\n",
            "1880/1880 [==============================] - 0s 64us/step - loss: 0.5901 - accuracy: 0.8000\n",
            "Epoch 1356/1800\n",
            "1880/1880 [==============================] - 0s 65us/step - loss: 0.5926 - accuracy: 0.8064\n",
            "Epoch 1357/1800\n",
            "1880/1880 [==============================] - 0s 64us/step - loss: 0.6617 - accuracy: 0.7899\n",
            "Epoch 1358/1800\n",
            "1880/1880 [==============================] - 0s 71us/step - loss: 0.6210 - accuracy: 0.7936\n",
            "Epoch 1359/1800\n",
            "1880/1880 [==============================] - 0s 69us/step - loss: 0.6443 - accuracy: 0.7888\n",
            "Epoch 1360/1800\n",
            "1880/1880 [==============================] - 0s 70us/step - loss: 0.6181 - accuracy: 0.8021\n",
            "Epoch 1361/1800\n",
            "1880/1880 [==============================] - 0s 64us/step - loss: 0.6118 - accuracy: 0.7979\n",
            "Epoch 1362/1800\n",
            "1880/1880 [==============================] - 0s 67us/step - loss: 0.6255 - accuracy: 0.7947\n",
            "Epoch 1363/1800\n",
            "1880/1880 [==============================] - 0s 64us/step - loss: 0.6011 - accuracy: 0.7995\n",
            "Epoch 1364/1800\n",
            "1880/1880 [==============================] - 0s 64us/step - loss: 0.6113 - accuracy: 0.7973\n",
            "Epoch 1365/1800\n",
            "1880/1880 [==============================] - 0s 65us/step - loss: 0.6336 - accuracy: 0.7888\n",
            "Epoch 1366/1800\n",
            "1880/1880 [==============================] - 0s 65us/step - loss: 0.6148 - accuracy: 0.7963\n",
            "Epoch 1367/1800\n",
            "1880/1880 [==============================] - 0s 68us/step - loss: 0.6289 - accuracy: 0.7904\n",
            "Epoch 1368/1800\n",
            "1880/1880 [==============================] - 0s 69us/step - loss: 0.5878 - accuracy: 0.8037\n",
            "Epoch 1369/1800\n",
            "1880/1880 [==============================] - 0s 65us/step - loss: 0.5775 - accuracy: 0.8069\n",
            "Epoch 1370/1800\n",
            "1880/1880 [==============================] - 0s 66us/step - loss: 0.5933 - accuracy: 0.7952\n",
            "Epoch 1371/1800\n",
            "1880/1880 [==============================] - 0s 64us/step - loss: 0.5990 - accuracy: 0.8064\n",
            "Epoch 1372/1800\n",
            "1880/1880 [==============================] - 0s 65us/step - loss: 0.5904 - accuracy: 0.8074\n",
            "Epoch 1373/1800\n",
            "1880/1880 [==============================] - 0s 66us/step - loss: 0.6309 - accuracy: 0.7947\n",
            "Epoch 1374/1800\n",
            "1880/1880 [==============================] - 0s 64us/step - loss: 0.6417 - accuracy: 0.8005\n",
            "Epoch 1375/1800\n",
            "1880/1880 [==============================] - 0s 71us/step - loss: 0.6489 - accuracy: 0.7809\n",
            "Epoch 1376/1800\n",
            "1880/1880 [==============================] - 0s 69us/step - loss: 0.6058 - accuracy: 0.8032\n",
            "Epoch 1377/1800\n",
            "1880/1880 [==============================] - 0s 63us/step - loss: 0.6228 - accuracy: 0.7995\n",
            "Epoch 1378/1800\n",
            "1880/1880 [==============================] - 0s 66us/step - loss: 0.6085 - accuracy: 0.7989\n",
            "Epoch 1379/1800\n",
            "1880/1880 [==============================] - 0s 68us/step - loss: 0.6019 - accuracy: 0.8106\n",
            "Epoch 1380/1800\n",
            "1880/1880 [==============================] - 0s 71us/step - loss: 0.7660 - accuracy: 0.7793\n",
            "Epoch 1381/1800\n",
            "1880/1880 [==============================] - 0s 66us/step - loss: 0.6386 - accuracy: 0.7915\n",
            "Epoch 1382/1800\n",
            "1880/1880 [==============================] - 0s 64us/step - loss: 0.6319 - accuracy: 0.7931\n",
            "Epoch 1383/1800\n",
            "1880/1880 [==============================] - 0s 69us/step - loss: 0.6532 - accuracy: 0.7809\n",
            "Epoch 1384/1800\n",
            "1880/1880 [==============================] - 0s 73us/step - loss: 0.6502 - accuracy: 0.7915\n",
            "Epoch 1385/1800\n",
            "1880/1880 [==============================] - 0s 67us/step - loss: 0.6619 - accuracy: 0.7899\n",
            "Epoch 1386/1800\n",
            "1880/1880 [==============================] - 0s 68us/step - loss: 0.6651 - accuracy: 0.7798\n",
            "Epoch 1387/1800\n",
            "1880/1880 [==============================] - 0s 66us/step - loss: 0.6345 - accuracy: 0.7899\n",
            "Epoch 1388/1800\n",
            "1880/1880 [==============================] - 0s 64us/step - loss: 0.5918 - accuracy: 0.7984\n",
            "Epoch 1389/1800\n",
            "1880/1880 [==============================] - 0s 68us/step - loss: 0.5808 - accuracy: 0.8027\n",
            "Epoch 1390/1800\n",
            "1880/1880 [==============================] - 0s 67us/step - loss: 0.6176 - accuracy: 0.7915\n",
            "Epoch 1391/1800\n",
            "1880/1880 [==============================] - 0s 70us/step - loss: 0.6465 - accuracy: 0.7782\n",
            "Epoch 1392/1800\n",
            "1880/1880 [==============================] - 0s 69us/step - loss: 0.5963 - accuracy: 0.7995\n",
            "Epoch 1393/1800\n",
            "1880/1880 [==============================] - 0s 64us/step - loss: 0.5972 - accuracy: 0.8027\n",
            "Epoch 1394/1800\n",
            "1880/1880 [==============================] - 0s 71us/step - loss: 0.6319 - accuracy: 0.7984\n",
            "Epoch 1395/1800\n",
            "1880/1880 [==============================] - 0s 65us/step - loss: 0.5946 - accuracy: 0.8074\n",
            "Epoch 1396/1800\n",
            "1880/1880 [==============================] - 0s 65us/step - loss: 0.6301 - accuracy: 0.8000\n",
            "Epoch 1397/1800\n",
            "1880/1880 [==============================] - 0s 63us/step - loss: 0.6199 - accuracy: 0.7936\n",
            "Epoch 1398/1800\n",
            "1880/1880 [==============================] - 0s 66us/step - loss: 0.5631 - accuracy: 0.8154\n",
            "Epoch 1399/1800\n",
            "1880/1880 [==============================] - 0s 71us/step - loss: 0.6292 - accuracy: 0.7904\n",
            "Epoch 1400/1800\n",
            "1880/1880 [==============================] - 0s 67us/step - loss: 0.5930 - accuracy: 0.8043\n",
            "Epoch 1401/1800\n",
            "1880/1880 [==============================] - 0s 66us/step - loss: 0.5845 - accuracy: 0.8101\n",
            "Epoch 1402/1800\n",
            "1880/1880 [==============================] - 0s 65us/step - loss: 0.5911 - accuracy: 0.8032\n",
            "Epoch 1403/1800\n",
            "1880/1880 [==============================] - 0s 67us/step - loss: 0.5719 - accuracy: 0.8170\n",
            "Epoch 1404/1800\n",
            "1880/1880 [==============================] - 0s 70us/step - loss: 0.6136 - accuracy: 0.8059\n",
            "Epoch 1405/1800\n",
            "1880/1880 [==============================] - 0s 66us/step - loss: 0.6122 - accuracy: 0.7989\n",
            "Epoch 1406/1800\n",
            "1880/1880 [==============================] - 0s 65us/step - loss: 0.6771 - accuracy: 0.8011\n",
            "Epoch 1407/1800\n",
            "1880/1880 [==============================] - 0s 72us/step - loss: 0.5988 - accuracy: 0.8074\n",
            "Epoch 1408/1800\n",
            "1880/1880 [==============================] - 0s 69us/step - loss: 0.6150 - accuracy: 0.8112\n",
            "Epoch 1409/1800\n",
            "1880/1880 [==============================] - 0s 66us/step - loss: 0.6242 - accuracy: 0.7936\n",
            "Epoch 1410/1800\n",
            "1880/1880 [==============================] - 0s 65us/step - loss: 0.6065 - accuracy: 0.7851\n",
            "Epoch 1411/1800\n",
            "1880/1880 [==============================] - 0s 64us/step - loss: 0.5773 - accuracy: 0.8016\n",
            "Epoch 1412/1800\n",
            "1880/1880 [==============================] - 0s 64us/step - loss: 0.6016 - accuracy: 0.7984\n",
            "Epoch 1413/1800\n",
            "1880/1880 [==============================] - 0s 66us/step - loss: 0.6376 - accuracy: 0.7840\n",
            "Epoch 1414/1800\n",
            "1880/1880 [==============================] - 0s 65us/step - loss: 0.6120 - accuracy: 0.8016\n",
            "Epoch 1415/1800\n",
            "1880/1880 [==============================] - 0s 72us/step - loss: 0.6119 - accuracy: 0.8027\n",
            "Epoch 1416/1800\n",
            "1880/1880 [==============================] - 0s 67us/step - loss: 0.6325 - accuracy: 0.7920\n",
            "Epoch 1417/1800\n",
            "1880/1880 [==============================] - 0s 64us/step - loss: 0.5632 - accuracy: 0.8117\n",
            "Epoch 1418/1800\n",
            "1880/1880 [==============================] - 0s 65us/step - loss: 0.5944 - accuracy: 0.8059\n",
            "Epoch 1419/1800\n",
            "1880/1880 [==============================] - 0s 65us/step - loss: 0.5705 - accuracy: 0.8059\n",
            "Epoch 1420/1800\n",
            "1880/1880 [==============================] - 0s 66us/step - loss: 0.5981 - accuracy: 0.8021\n",
            "Epoch 1421/1800\n",
            "1880/1880 [==============================] - 0s 66us/step - loss: 0.5935 - accuracy: 0.8005\n",
            "Epoch 1422/1800\n",
            "1880/1880 [==============================] - 0s 65us/step - loss: 0.5699 - accuracy: 0.8011\n",
            "Epoch 1423/1800\n",
            "1880/1880 [==============================] - 0s 72us/step - loss: 0.6071 - accuracy: 0.8000\n",
            "Epoch 1424/1800\n",
            "1880/1880 [==============================] - 0s 65us/step - loss: 0.5679 - accuracy: 0.8149\n",
            "Epoch 1425/1800\n",
            "1880/1880 [==============================] - 0s 66us/step - loss: 0.5780 - accuracy: 0.8106\n",
            "Epoch 1426/1800\n",
            "1880/1880 [==============================] - 0s 65us/step - loss: 0.5591 - accuracy: 0.8048\n",
            "Epoch 1427/1800\n",
            "1880/1880 [==============================] - 0s 65us/step - loss: 0.5519 - accuracy: 0.8122\n",
            "Epoch 1428/1800\n",
            "1880/1880 [==============================] - 0s 64us/step - loss: 0.5633 - accuracy: 0.8117\n",
            "Epoch 1429/1800\n",
            "1880/1880 [==============================] - 0s 69us/step - loss: 0.5623 - accuracy: 0.8074\n",
            "Epoch 1430/1800\n",
            "1880/1880 [==============================] - 0s 68us/step - loss: 0.5756 - accuracy: 0.8101\n",
            "Epoch 1431/1800\n",
            "1880/1880 [==============================] - 0s 69us/step - loss: 0.5736 - accuracy: 0.8106\n",
            "Epoch 1432/1800\n",
            "1880/1880 [==============================] - 0s 63us/step - loss: 0.5883 - accuracy: 0.8064\n",
            "Epoch 1433/1800\n",
            "1880/1880 [==============================] - 0s 66us/step - loss: 0.5530 - accuracy: 0.8223\n",
            "Epoch 1434/1800\n",
            "1880/1880 [==============================] - 0s 66us/step - loss: 0.5487 - accuracy: 0.8223\n",
            "Epoch 1435/1800\n",
            "1880/1880 [==============================] - 0s 64us/step - loss: 0.5370 - accuracy: 0.8154\n",
            "Epoch 1436/1800\n",
            "1880/1880 [==============================] - 0s 63us/step - loss: 0.5567 - accuracy: 0.8261\n",
            "Epoch 1437/1800\n",
            "1880/1880 [==============================] - 0s 64us/step - loss: 0.5675 - accuracy: 0.8101\n",
            "Epoch 1438/1800\n",
            "1880/1880 [==============================] - 0s 65us/step - loss: 0.5528 - accuracy: 0.8128\n",
            "Epoch 1439/1800\n",
            "1880/1880 [==============================] - 0s 70us/step - loss: 0.5839 - accuracy: 0.8112\n",
            "Epoch 1440/1800\n",
            "1880/1880 [==============================] - 0s 64us/step - loss: 0.5920 - accuracy: 0.8011\n",
            "Epoch 1441/1800\n",
            "1880/1880 [==============================] - 0s 66us/step - loss: 0.5546 - accuracy: 0.8069\n",
            "Epoch 1442/1800\n",
            "1880/1880 [==============================] - 0s 64us/step - loss: 0.5210 - accuracy: 0.8303\n",
            "Epoch 1443/1800\n",
            "1880/1880 [==============================] - 0s 66us/step - loss: 0.6012 - accuracy: 0.8011\n",
            "Epoch 1444/1800\n",
            "1880/1880 [==============================] - 0s 66us/step - loss: 0.5395 - accuracy: 0.8197\n",
            "Epoch 1445/1800\n",
            "1880/1880 [==============================] - 0s 69us/step - loss: 0.5824 - accuracy: 0.8085\n",
            "Epoch 1446/1800\n",
            "1880/1880 [==============================] - 0s 64us/step - loss: 0.6528 - accuracy: 0.7957\n",
            "Epoch 1447/1800\n",
            "1880/1880 [==============================] - 0s 71us/step - loss: 0.5846 - accuracy: 0.8043\n",
            "Epoch 1448/1800\n",
            "1880/1880 [==============================] - 0s 66us/step - loss: 0.5624 - accuracy: 0.8074\n",
            "Epoch 1449/1800\n",
            "1880/1880 [==============================] - 0s 66us/step - loss: 0.5764 - accuracy: 0.8112\n",
            "Epoch 1450/1800\n",
            "1880/1880 [==============================] - 0s 64us/step - loss: 0.5616 - accuracy: 0.8165\n",
            "Epoch 1451/1800\n",
            "1880/1880 [==============================] - 0s 65us/step - loss: 0.5768 - accuracy: 0.8005\n",
            "Epoch 1452/1800\n",
            "1880/1880 [==============================] - 0s 66us/step - loss: 0.5713 - accuracy: 0.8128\n",
            "Epoch 1453/1800\n",
            "1880/1880 [==============================] - 0s 66us/step - loss: 0.5585 - accuracy: 0.8101\n",
            "Epoch 1454/1800\n",
            "1880/1880 [==============================] - 0s 68us/step - loss: 0.5816 - accuracy: 0.8016\n",
            "Epoch 1455/1800\n",
            "1880/1880 [==============================] - 0s 75us/step - loss: 0.5786 - accuracy: 0.8128\n",
            "Epoch 1456/1800\n",
            "1880/1880 [==============================] - 0s 65us/step - loss: 0.5597 - accuracy: 0.8160\n",
            "Epoch 1457/1800\n",
            "1880/1880 [==============================] - 0s 63us/step - loss: 0.5854 - accuracy: 0.7995\n",
            "Epoch 1458/1800\n",
            "1880/1880 [==============================] - 0s 66us/step - loss: 0.5540 - accuracy: 0.8154\n",
            "Epoch 1459/1800\n",
            "1880/1880 [==============================] - 0s 65us/step - loss: 0.6037 - accuracy: 0.8037\n",
            "Epoch 1460/1800\n",
            "1880/1880 [==============================] - 0s 64us/step - loss: 0.5664 - accuracy: 0.8181\n",
            "Epoch 1461/1800\n",
            "1880/1880 [==============================] - 0s 63us/step - loss: 0.5613 - accuracy: 0.8059\n",
            "Epoch 1462/1800\n",
            "1880/1880 [==============================] - 0s 65us/step - loss: 0.5875 - accuracy: 0.8202\n",
            "Epoch 1463/1800\n",
            "1880/1880 [==============================] - 0s 71us/step - loss: 0.5533 - accuracy: 0.8181\n",
            "Epoch 1464/1800\n",
            "1880/1880 [==============================] - 0s 64us/step - loss: 0.5754 - accuracy: 0.8170\n",
            "Epoch 1465/1800\n",
            "1880/1880 [==============================] - 0s 63us/step - loss: 0.5635 - accuracy: 0.8138\n",
            "Epoch 1466/1800\n",
            "1880/1880 [==============================] - 0s 68us/step - loss: 0.5581 - accuracy: 0.8128\n",
            "Epoch 1467/1800\n",
            "1880/1880 [==============================] - 0s 67us/step - loss: 0.7785 - accuracy: 0.7777\n",
            "Epoch 1468/1800\n",
            "1880/1880 [==============================] - 0s 70us/step - loss: 0.5882 - accuracy: 0.7984\n",
            "Epoch 1469/1800\n",
            "1880/1880 [==============================] - 0s 70us/step - loss: 0.5504 - accuracy: 0.8234\n",
            "Epoch 1470/1800\n",
            "1880/1880 [==============================] - 0s 65us/step - loss: 0.6102 - accuracy: 0.8144\n",
            "Epoch 1471/1800\n",
            "1880/1880 [==============================] - 0s 71us/step - loss: 0.6127 - accuracy: 0.8016\n",
            "Epoch 1472/1800\n",
            "1880/1880 [==============================] - 0s 65us/step - loss: 0.5832 - accuracy: 0.8059\n",
            "Epoch 1473/1800\n",
            "1880/1880 [==============================] - 0s 66us/step - loss: 0.5854 - accuracy: 0.8043\n",
            "Epoch 1474/1800\n",
            "1880/1880 [==============================] - 0s 65us/step - loss: 0.5521 - accuracy: 0.8197\n",
            "Epoch 1475/1800\n",
            "1880/1880 [==============================] - 0s 63us/step - loss: 0.5426 - accuracy: 0.8186\n",
            "Epoch 1476/1800\n",
            "1880/1880 [==============================] - 0s 65us/step - loss: 0.5606 - accuracy: 0.8048\n",
            "Epoch 1477/1800\n",
            "1880/1880 [==============================] - 0s 65us/step - loss: 0.5716 - accuracy: 0.8117\n",
            "Epoch 1478/1800\n",
            "1880/1880 [==============================] - 0s 68us/step - loss: 0.5610 - accuracy: 0.8271\n",
            "Epoch 1479/1800\n",
            "1880/1880 [==============================] - 0s 75us/step - loss: 0.5825 - accuracy: 0.8096\n",
            "Epoch 1480/1800\n",
            "1880/1880 [==============================] - 0s 67us/step - loss: 0.5861 - accuracy: 0.8069\n",
            "Epoch 1481/1800\n",
            "1880/1880 [==============================] - 0s 67us/step - loss: 0.5670 - accuracy: 0.8048\n",
            "Epoch 1482/1800\n",
            "1880/1880 [==============================] - 0s 65us/step - loss: 0.5348 - accuracy: 0.8191\n",
            "Epoch 1483/1800\n",
            "1880/1880 [==============================] - 0s 67us/step - loss: 0.5239 - accuracy: 0.8330\n",
            "Epoch 1484/1800\n",
            "1880/1880 [==============================] - 0s 65us/step - loss: 0.5299 - accuracy: 0.8165\n",
            "Epoch 1485/1800\n",
            "1880/1880 [==============================] - 0s 66us/step - loss: 0.5416 - accuracy: 0.8293\n",
            "Epoch 1486/1800\n",
            "1880/1880 [==============================] - 0s 65us/step - loss: 0.5638 - accuracy: 0.8090\n",
            "Epoch 1487/1800\n",
            "1880/1880 [==============================] - 0s 71us/step - loss: 0.5176 - accuracy: 0.8314\n",
            "Epoch 1488/1800\n",
            "1880/1880 [==============================] - 0s 65us/step - loss: 0.5845 - accuracy: 0.8138\n",
            "Epoch 1489/1800\n",
            "1880/1880 [==============================] - 0s 65us/step - loss: 0.5749 - accuracy: 0.8271\n",
            "Epoch 1490/1800\n",
            "1880/1880 [==============================] - 0s 65us/step - loss: 0.5538 - accuracy: 0.8298\n",
            "Epoch 1491/1800\n",
            "1880/1880 [==============================] - 0s 68us/step - loss: 0.5259 - accuracy: 0.8191\n",
            "Epoch 1492/1800\n",
            "1880/1880 [==============================] - 0s 69us/step - loss: 0.5645 - accuracy: 0.8090\n",
            "Epoch 1493/1800\n",
            "1880/1880 [==============================] - 0s 68us/step - loss: 0.5715 - accuracy: 0.8138\n",
            "Epoch 1494/1800\n",
            "1880/1880 [==============================] - 0s 68us/step - loss: 0.5529 - accuracy: 0.8122\n",
            "Epoch 1495/1800\n",
            "1880/1880 [==============================] - 0s 74us/step - loss: 0.5592 - accuracy: 0.8298\n",
            "Epoch 1496/1800\n",
            "1880/1880 [==============================] - 0s 73us/step - loss: 0.5673 - accuracy: 0.8122\n",
            "Epoch 1497/1800\n",
            "1880/1880 [==============================] - 0s 66us/step - loss: 0.5843 - accuracy: 0.8128\n",
            "Epoch 1498/1800\n",
            "1880/1880 [==============================] - 0s 66us/step - loss: 0.5474 - accuracy: 0.8191\n",
            "Epoch 1499/1800\n",
            "1880/1880 [==============================] - 0s 67us/step - loss: 0.5364 - accuracy: 0.8144\n",
            "Epoch 1500/1800\n",
            "1880/1880 [==============================] - 0s 70us/step - loss: 0.5483 - accuracy: 0.8223\n",
            "Epoch 1501/1800\n",
            "1880/1880 [==============================] - 0s 69us/step - loss: 0.5007 - accuracy: 0.8335\n",
            "Epoch 1502/1800\n",
            "1880/1880 [==============================] - 0s 66us/step - loss: 0.5127 - accuracy: 0.8298\n",
            "Epoch 1503/1800\n",
            "1880/1880 [==============================] - 0s 74us/step - loss: 0.5380 - accuracy: 0.8255\n",
            "Epoch 1504/1800\n",
            "1880/1880 [==============================] - 0s 67us/step - loss: 0.5282 - accuracy: 0.8239\n",
            "Epoch 1505/1800\n",
            "1880/1880 [==============================] - 0s 67us/step - loss: 0.5768 - accuracy: 0.8176\n",
            "Epoch 1506/1800\n",
            "1880/1880 [==============================] - 0s 66us/step - loss: 0.5768 - accuracy: 0.8122\n",
            "Epoch 1507/1800\n",
            "1880/1880 [==============================] - 0s 69us/step - loss: 0.5824 - accuracy: 0.8191\n",
            "Epoch 1508/1800\n",
            "1880/1880 [==============================] - 0s 67us/step - loss: 0.5813 - accuracy: 0.8059\n",
            "Epoch 1509/1800\n",
            "1880/1880 [==============================] - 0s 68us/step - loss: 0.5403 - accuracy: 0.8191\n",
            "Epoch 1510/1800\n",
            "1880/1880 [==============================] - 0s 71us/step - loss: 0.5558 - accuracy: 0.8090\n",
            "Epoch 1511/1800\n",
            "1880/1880 [==============================] - 0s 71us/step - loss: 0.5354 - accuracy: 0.8207\n",
            "Epoch 1512/1800\n",
            "1880/1880 [==============================] - 0s 66us/step - loss: 0.6070 - accuracy: 0.8005\n",
            "Epoch 1513/1800\n",
            "1880/1880 [==============================] - 0s 66us/step - loss: 0.5520 - accuracy: 0.8170\n",
            "Epoch 1514/1800\n",
            "1880/1880 [==============================] - 0s 64us/step - loss: 0.5365 - accuracy: 0.8261\n",
            "Epoch 1515/1800\n",
            "1880/1880 [==============================] - 0s 66us/step - loss: 0.5376 - accuracy: 0.8096\n",
            "Epoch 1516/1800\n",
            "1880/1880 [==============================] - 0s 69us/step - loss: 0.5356 - accuracy: 0.8165\n",
            "Epoch 1517/1800\n",
            "1880/1880 [==============================] - 0s 69us/step - loss: 0.5457 - accuracy: 0.8090\n",
            "Epoch 1518/1800\n",
            "1880/1880 [==============================] - 0s 68us/step - loss: 0.5379 - accuracy: 0.8181\n",
            "Epoch 1519/1800\n",
            "1880/1880 [==============================] - 0s 70us/step - loss: 0.5447 - accuracy: 0.8112\n",
            "Epoch 1520/1800\n",
            "1880/1880 [==============================] - 0s 67us/step - loss: 0.5619 - accuracy: 0.8154\n",
            "Epoch 1521/1800\n",
            "1880/1880 [==============================] - 0s 70us/step - loss: 0.5608 - accuracy: 0.8106\n",
            "Epoch 1522/1800\n",
            "1880/1880 [==============================] - 0s 69us/step - loss: 0.5432 - accuracy: 0.8266\n",
            "Epoch 1523/1800\n",
            "1880/1880 [==============================] - 0s 66us/step - loss: 0.5938 - accuracy: 0.8138\n",
            "Epoch 1524/1800\n",
            "1880/1880 [==============================] - 0s 67us/step - loss: 0.5584 - accuracy: 0.8207\n",
            "Epoch 1525/1800\n",
            "1880/1880 [==============================] - 0s 67us/step - loss: 0.5492 - accuracy: 0.8229\n",
            "Epoch 1526/1800\n",
            "1880/1880 [==============================] - 0s 75us/step - loss: 0.5071 - accuracy: 0.8245\n",
            "Epoch 1527/1800\n",
            "1880/1880 [==============================] - 0s 65us/step - loss: 0.5596 - accuracy: 0.8160\n",
            "Epoch 1528/1800\n",
            "1880/1880 [==============================] - 0s 69us/step - loss: 0.5049 - accuracy: 0.8367\n",
            "Epoch 1529/1800\n",
            "1880/1880 [==============================] - 0s 67us/step - loss: 0.5357 - accuracy: 0.8245\n",
            "Epoch 1530/1800\n",
            "1880/1880 [==============================] - 0s 67us/step - loss: 0.5521 - accuracy: 0.8149\n",
            "Epoch 1531/1800\n",
            "1880/1880 [==============================] - 0s 69us/step - loss: 0.5461 - accuracy: 0.8293\n",
            "Epoch 1532/1800\n",
            "1880/1880 [==============================] - 0s 66us/step - loss: 0.5335 - accuracy: 0.8202\n",
            "Epoch 1533/1800\n",
            "1880/1880 [==============================] - 0s 63us/step - loss: 0.5454 - accuracy: 0.8090\n",
            "Epoch 1534/1800\n",
            "1880/1880 [==============================] - 0s 71us/step - loss: 0.5105 - accuracy: 0.8271\n",
            "Epoch 1535/1800\n",
            "1880/1880 [==============================] - 0s 65us/step - loss: 0.5326 - accuracy: 0.8287\n",
            "Epoch 1536/1800\n",
            "1880/1880 [==============================] - 0s 66us/step - loss: 0.5288 - accuracy: 0.8245\n",
            "Epoch 1537/1800\n",
            "1880/1880 [==============================] - 0s 66us/step - loss: 0.5326 - accuracy: 0.8293\n",
            "Epoch 1538/1800\n",
            "1880/1880 [==============================] - 0s 66us/step - loss: 0.5301 - accuracy: 0.8245\n",
            "Epoch 1539/1800\n",
            "1880/1880 [==============================] - 0s 64us/step - loss: 0.5459 - accuracy: 0.8293\n",
            "Epoch 1540/1800\n",
            "1880/1880 [==============================] - 0s 66us/step - loss: 0.5658 - accuracy: 0.8213\n",
            "Epoch 1541/1800\n",
            "1880/1880 [==============================] - 0s 63us/step - loss: 0.5180 - accuracy: 0.8181\n",
            "Epoch 1542/1800\n",
            "1880/1880 [==============================] - 0s 76us/step - loss: 0.5216 - accuracy: 0.8213\n",
            "Epoch 1543/1800\n",
            "1880/1880 [==============================] - 0s 69us/step - loss: 0.5238 - accuracy: 0.8314\n",
            "Epoch 1544/1800\n",
            "1880/1880 [==============================] - 0s 65us/step - loss: 0.5252 - accuracy: 0.8324\n",
            "Epoch 1545/1800\n",
            "1880/1880 [==============================] - 0s 67us/step - loss: 0.4843 - accuracy: 0.8388\n",
            "Epoch 1546/1800\n",
            "1880/1880 [==============================] - 0s 67us/step - loss: 0.4992 - accuracy: 0.8351\n",
            "Epoch 1547/1800\n",
            "1880/1880 [==============================] - 0s 66us/step - loss: 0.5374 - accuracy: 0.8207\n",
            "Epoch 1548/1800\n",
            "1880/1880 [==============================] - 0s 69us/step - loss: 0.5121 - accuracy: 0.8346\n",
            "Epoch 1549/1800\n",
            "1880/1880 [==============================] - 0s 65us/step - loss: 0.5094 - accuracy: 0.8266\n",
            "Epoch 1550/1800\n",
            "1880/1880 [==============================] - 0s 78us/step - loss: 0.4812 - accuracy: 0.8383\n",
            "Epoch 1551/1800\n",
            "1880/1880 [==============================] - 0s 64us/step - loss: 0.4806 - accuracy: 0.8420\n",
            "Epoch 1552/1800\n",
            "1880/1880 [==============================] - 0s 66us/step - loss: 0.5645 - accuracy: 0.8165\n",
            "Epoch 1553/1800\n",
            "1880/1880 [==============================] - 0s 65us/step - loss: 0.5033 - accuracy: 0.8330\n",
            "Epoch 1554/1800\n",
            "1880/1880 [==============================] - 0s 65us/step - loss: 0.5365 - accuracy: 0.8277\n",
            "Epoch 1555/1800\n",
            "1880/1880 [==============================] - 0s 66us/step - loss: 0.5222 - accuracy: 0.8293\n",
            "Epoch 1556/1800\n",
            "1880/1880 [==============================] - 0s 67us/step - loss: 0.5060 - accuracy: 0.8319\n",
            "Epoch 1557/1800\n",
            "1880/1880 [==============================] - 0s 65us/step - loss: 0.5349 - accuracy: 0.8271\n",
            "Epoch 1558/1800\n",
            "1880/1880 [==============================] - 0s 74us/step - loss: 0.5073 - accuracy: 0.8367\n",
            "Epoch 1559/1800\n",
            "1880/1880 [==============================] - 0s 65us/step - loss: 0.5336 - accuracy: 0.8186\n",
            "Epoch 1560/1800\n",
            "1880/1880 [==============================] - 0s 64us/step - loss: 0.5188 - accuracy: 0.8277\n",
            "Epoch 1561/1800\n",
            "1880/1880 [==============================] - 0s 66us/step - loss: 0.5274 - accuracy: 0.8309\n",
            "Epoch 1562/1800\n",
            "1880/1880 [==============================] - 0s 65us/step - loss: 0.5103 - accuracy: 0.8282\n",
            "Epoch 1563/1800\n",
            "1880/1880 [==============================] - 0s 67us/step - loss: 0.5166 - accuracy: 0.8346\n",
            "Epoch 1564/1800\n",
            "1880/1880 [==============================] - 0s 69us/step - loss: 0.4980 - accuracy: 0.8335\n",
            "Epoch 1565/1800\n",
            "1880/1880 [==============================] - 0s 70us/step - loss: 0.5116 - accuracy: 0.8351\n",
            "Epoch 1566/1800\n",
            "1880/1880 [==============================] - 0s 73us/step - loss: 0.4908 - accuracy: 0.8314\n",
            "Epoch 1567/1800\n",
            "1880/1880 [==============================] - 0s 66us/step - loss: 0.4905 - accuracy: 0.8356\n",
            "Epoch 1568/1800\n",
            "1880/1880 [==============================] - 0s 64us/step - loss: 0.5344 - accuracy: 0.8266\n",
            "Epoch 1569/1800\n",
            "1880/1880 [==============================] - 0s 65us/step - loss: 0.5024 - accuracy: 0.8372\n",
            "Epoch 1570/1800\n",
            "1880/1880 [==============================] - 0s 64us/step - loss: 0.4908 - accuracy: 0.8404\n",
            "Epoch 1571/1800\n",
            "1880/1880 [==============================] - 0s 67us/step - loss: 0.4923 - accuracy: 0.8340\n",
            "Epoch 1572/1800\n",
            "1880/1880 [==============================] - 0s 64us/step - loss: 0.5278 - accuracy: 0.8229\n",
            "Epoch 1573/1800\n",
            "1880/1880 [==============================] - 0s 64us/step - loss: 0.4827 - accuracy: 0.8431\n",
            "Epoch 1574/1800\n",
            "1880/1880 [==============================] - 0s 71us/step - loss: 0.4930 - accuracy: 0.8372\n",
            "Epoch 1575/1800\n",
            "1880/1880 [==============================] - 0s 66us/step - loss: 0.4968 - accuracy: 0.8388\n",
            "Epoch 1576/1800\n",
            "1880/1880 [==============================] - 0s 64us/step - loss: 0.4799 - accuracy: 0.8399\n",
            "Epoch 1577/1800\n",
            "1880/1880 [==============================] - 0s 63us/step - loss: 0.5512 - accuracy: 0.8112\n",
            "Epoch 1578/1800\n",
            "1880/1880 [==============================] - 0s 65us/step - loss: 0.5065 - accuracy: 0.8303\n",
            "Epoch 1579/1800\n",
            "1880/1880 [==============================] - 0s 66us/step - loss: 0.5155 - accuracy: 0.8223\n",
            "Epoch 1580/1800\n",
            "1880/1880 [==============================] - 0s 65us/step - loss: 0.5183 - accuracy: 0.8255\n",
            "Epoch 1581/1800\n",
            "1880/1880 [==============================] - 0s 64us/step - loss: 0.4996 - accuracy: 0.8383\n",
            "Epoch 1582/1800\n",
            "1880/1880 [==============================] - 0s 74us/step - loss: 0.5070 - accuracy: 0.8303\n",
            "Epoch 1583/1800\n",
            "1880/1880 [==============================] - 0s 64us/step - loss: 0.4885 - accuracy: 0.8367\n",
            "Epoch 1584/1800\n",
            "1880/1880 [==============================] - 0s 65us/step - loss: 0.5267 - accuracy: 0.8197\n",
            "Epoch 1585/1800\n",
            "1880/1880 [==============================] - 0s 65us/step - loss: 0.5078 - accuracy: 0.8346\n",
            "Epoch 1586/1800\n",
            "1880/1880 [==============================] - 0s 66us/step - loss: 0.4825 - accuracy: 0.8367\n",
            "Epoch 1587/1800\n",
            "1880/1880 [==============================] - 0s 73us/step - loss: 0.5331 - accuracy: 0.8266\n",
            "Epoch 1588/1800\n",
            "1880/1880 [==============================] - 0s 63us/step - loss: 0.4865 - accuracy: 0.8388\n",
            "Epoch 1589/1800\n",
            "1880/1880 [==============================] - 0s 64us/step - loss: 0.4891 - accuracy: 0.8298\n",
            "Epoch 1590/1800\n",
            "1880/1880 [==============================] - 0s 73us/step - loss: 0.5047 - accuracy: 0.8404\n",
            "Epoch 1591/1800\n",
            "1880/1880 [==============================] - 0s 64us/step - loss: 0.5085 - accuracy: 0.8473\n",
            "Epoch 1592/1800\n",
            "1880/1880 [==============================] - 0s 63us/step - loss: 0.4906 - accuracy: 0.8367\n",
            "Epoch 1593/1800\n",
            "1880/1880 [==============================] - 0s 64us/step - loss: 0.4813 - accuracy: 0.8463\n",
            "Epoch 1594/1800\n",
            "1880/1880 [==============================] - 0s 64us/step - loss: 0.4543 - accuracy: 0.8479\n",
            "Epoch 1595/1800\n",
            "1880/1880 [==============================] - 0s 67us/step - loss: 0.5543 - accuracy: 0.8293\n",
            "Epoch 1596/1800\n",
            "1880/1880 [==============================] - 0s 64us/step - loss: 0.5771 - accuracy: 0.8271\n",
            "Epoch 1597/1800\n",
            "1880/1880 [==============================] - 0s 64us/step - loss: 0.5863 - accuracy: 0.7984\n",
            "Epoch 1598/1800\n",
            "1880/1880 [==============================] - 0s 72us/step - loss: 0.5335 - accuracy: 0.8383\n",
            "Epoch 1599/1800\n",
            "1880/1880 [==============================] - 0s 63us/step - loss: 0.6130 - accuracy: 0.8011\n",
            "Epoch 1600/1800\n",
            "1880/1880 [==============================] - 0s 64us/step - loss: 0.5301 - accuracy: 0.8160\n",
            "Epoch 1601/1800\n",
            "1880/1880 [==============================] - 0s 64us/step - loss: 0.4948 - accuracy: 0.8388\n",
            "Epoch 1602/1800\n",
            "1880/1880 [==============================] - 0s 66us/step - loss: 0.5110 - accuracy: 0.8388\n",
            "Epoch 1603/1800\n",
            "1880/1880 [==============================] - 0s 68us/step - loss: 0.4802 - accuracy: 0.8473\n",
            "Epoch 1604/1800\n",
            "1880/1880 [==============================] - 0s 64us/step - loss: 0.4917 - accuracy: 0.8415\n",
            "Epoch 1605/1800\n",
            "1880/1880 [==============================] - 0s 65us/step - loss: 0.4896 - accuracy: 0.8378\n",
            "Epoch 1606/1800\n",
            "1880/1880 [==============================] - 0s 70us/step - loss: 0.5102 - accuracy: 0.8298\n",
            "Epoch 1607/1800\n",
            "1880/1880 [==============================] - 0s 62us/step - loss: 0.5012 - accuracy: 0.8245\n",
            "Epoch 1608/1800\n",
            "1880/1880 [==============================] - 0s 62us/step - loss: 0.4857 - accuracy: 0.8441\n",
            "Epoch 1609/1800\n",
            "1880/1880 [==============================] - 0s 64us/step - loss: 0.4879 - accuracy: 0.8356\n",
            "Epoch 1610/1800\n",
            "1880/1880 [==============================] - 0s 67us/step - loss: 0.5285 - accuracy: 0.8261\n",
            "Epoch 1611/1800\n",
            "1880/1880 [==============================] - 0s 70us/step - loss: 0.4960 - accuracy: 0.8314\n",
            "Epoch 1612/1800\n",
            "1880/1880 [==============================] - 0s 64us/step - loss: 0.4884 - accuracy: 0.8372\n",
            "Epoch 1613/1800\n",
            "1880/1880 [==============================] - 0s 64us/step - loss: 0.4649 - accuracy: 0.8410\n",
            "Epoch 1614/1800\n",
            "1880/1880 [==============================] - 0s 66us/step - loss: 0.4799 - accuracy: 0.8314\n",
            "Epoch 1615/1800\n",
            "1880/1880 [==============================] - 0s 68us/step - loss: 0.4494 - accuracy: 0.8457\n",
            "Epoch 1616/1800\n",
            "1880/1880 [==============================] - 0s 64us/step - loss: 0.4773 - accuracy: 0.8468\n",
            "Epoch 1617/1800\n",
            "1880/1880 [==============================] - 0s 64us/step - loss: 0.4477 - accuracy: 0.8516\n",
            "Epoch 1618/1800\n",
            "1880/1880 [==============================] - 0s 66us/step - loss: 0.4914 - accuracy: 0.8372\n",
            "Epoch 1619/1800\n",
            "1880/1880 [==============================] - 0s 68us/step - loss: 0.4730 - accuracy: 0.8372\n",
            "Epoch 1620/1800\n",
            "1880/1880 [==============================] - 0s 64us/step - loss: 0.5213 - accuracy: 0.8319\n",
            "Epoch 1621/1800\n",
            "1880/1880 [==============================] - 0s 66us/step - loss: 0.4881 - accuracy: 0.8346\n",
            "Epoch 1622/1800\n",
            "1880/1880 [==============================] - 0s 68us/step - loss: 0.4655 - accuracy: 0.8511\n",
            "Epoch 1623/1800\n",
            "1880/1880 [==============================] - 0s 68us/step - loss: 0.6261 - accuracy: 0.8096\n",
            "Epoch 1624/1800\n",
            "1880/1880 [==============================] - 0s 64us/step - loss: 0.6016 - accuracy: 0.8048\n",
            "Epoch 1625/1800\n",
            "1880/1880 [==============================] - 0s 64us/step - loss: 0.5300 - accuracy: 0.8351\n",
            "Epoch 1626/1800\n",
            "1880/1880 [==============================] - 0s 65us/step - loss: 0.5138 - accuracy: 0.8261\n",
            "Epoch 1627/1800\n",
            "1880/1880 [==============================] - 0s 65us/step - loss: 0.5164 - accuracy: 0.8298\n",
            "Epoch 1628/1800\n",
            "1880/1880 [==============================] - 0s 64us/step - loss: 0.5016 - accuracy: 0.8298\n",
            "Epoch 1629/1800\n",
            "1880/1880 [==============================] - 0s 74us/step - loss: 0.5324 - accuracy: 0.8202\n",
            "Epoch 1630/1800\n",
            "1880/1880 [==============================] - 0s 69us/step - loss: 0.4926 - accuracy: 0.8356\n",
            "Epoch 1631/1800\n",
            "1880/1880 [==============================] - 0s 69us/step - loss: 0.4921 - accuracy: 0.8367\n",
            "Epoch 1632/1800\n",
            "1880/1880 [==============================] - 0s 69us/step - loss: 0.4772 - accuracy: 0.8356\n",
            "Epoch 1633/1800\n",
            "1880/1880 [==============================] - 0s 72us/step - loss: 0.4964 - accuracy: 0.8330\n",
            "Epoch 1634/1800\n",
            "1880/1880 [==============================] - 0s 69us/step - loss: 0.4632 - accuracy: 0.8383\n",
            "Epoch 1635/1800\n",
            "1880/1880 [==============================] - 0s 67us/step - loss: 0.4614 - accuracy: 0.8473\n",
            "Epoch 1636/1800\n",
            "1880/1880 [==============================] - 0s 63us/step - loss: 0.4859 - accuracy: 0.8447\n",
            "Epoch 1637/1800\n",
            "1880/1880 [==============================] - 0s 64us/step - loss: 0.4898 - accuracy: 0.8250\n",
            "Epoch 1638/1800\n",
            "1880/1880 [==============================] - 0s 78us/step - loss: 0.4628 - accuracy: 0.8431\n",
            "Epoch 1639/1800\n",
            "1880/1880 [==============================] - 0s 64us/step - loss: 0.4828 - accuracy: 0.8356\n",
            "Epoch 1640/1800\n",
            "1880/1880 [==============================] - 0s 65us/step - loss: 0.4626 - accuracy: 0.8479\n",
            "Epoch 1641/1800\n",
            "1880/1880 [==============================] - 0s 65us/step - loss: 0.7397 - accuracy: 0.8160\n",
            "Epoch 1642/1800\n",
            "1880/1880 [==============================] - 0s 65us/step - loss: 0.5126 - accuracy: 0.8319\n",
            "Epoch 1643/1800\n",
            "1880/1880 [==============================] - 0s 65us/step - loss: 0.4916 - accuracy: 0.8351\n",
            "Epoch 1644/1800\n",
            "1880/1880 [==============================] - 0s 64us/step - loss: 0.5619 - accuracy: 0.8096\n",
            "Epoch 1645/1800\n",
            "1880/1880 [==============================] - 0s 70us/step - loss: 0.5171 - accuracy: 0.8309\n",
            "Epoch 1646/1800\n",
            "1880/1880 [==============================] - 0s 68us/step - loss: 0.5586 - accuracy: 0.8133\n",
            "Epoch 1647/1800\n",
            "1880/1880 [==============================] - 0s 65us/step - loss: 0.5285 - accuracy: 0.8229\n",
            "Epoch 1648/1800\n",
            "1880/1880 [==============================] - 0s 66us/step - loss: 0.5328 - accuracy: 0.8202\n",
            "Epoch 1649/1800\n",
            "1880/1880 [==============================] - 0s 66us/step - loss: 0.4945 - accuracy: 0.8298\n",
            "Epoch 1650/1800\n",
            "1880/1880 [==============================] - 0s 65us/step - loss: 0.4892 - accuracy: 0.8335\n",
            "Epoch 1651/1800\n",
            "1880/1880 [==============================] - 0s 65us/step - loss: 0.5132 - accuracy: 0.8287\n",
            "Epoch 1652/1800\n",
            "1880/1880 [==============================] - 0s 64us/step - loss: 0.5080 - accuracy: 0.8340\n",
            "Epoch 1653/1800\n",
            "1880/1880 [==============================] - 0s 70us/step - loss: 0.5647 - accuracy: 0.8293\n",
            "Epoch 1654/1800\n",
            "1880/1880 [==============================] - 0s 66us/step - loss: 0.5014 - accuracy: 0.8335\n",
            "Epoch 1655/1800\n",
            "1880/1880 [==============================] - 0s 65us/step - loss: 0.4930 - accuracy: 0.8330\n",
            "Epoch 1656/1800\n",
            "1880/1880 [==============================] - 0s 64us/step - loss: 0.4848 - accuracy: 0.8282\n",
            "Epoch 1657/1800\n",
            "1880/1880 [==============================] - 0s 70us/step - loss: 0.4806 - accuracy: 0.8378\n",
            "Epoch 1658/1800\n",
            "1880/1880 [==============================] - 0s 67us/step - loss: 0.5040 - accuracy: 0.8356\n",
            "Epoch 1659/1800\n",
            "1880/1880 [==============================] - 0s 63us/step - loss: 0.4836 - accuracy: 0.8362\n",
            "Epoch 1660/1800\n",
            "1880/1880 [==============================] - 0s 65us/step - loss: 0.4938 - accuracy: 0.8367\n",
            "Epoch 1661/1800\n",
            "1880/1880 [==============================] - 0s 68us/step - loss: 0.4955 - accuracy: 0.8330\n",
            "Epoch 1662/1800\n",
            "1880/1880 [==============================] - 0s 64us/step - loss: 0.5109 - accuracy: 0.8426\n",
            "Epoch 1663/1800\n",
            "1880/1880 [==============================] - 0s 67us/step - loss: 0.4548 - accuracy: 0.8383\n",
            "Epoch 1664/1800\n",
            "1880/1880 [==============================] - 0s 65us/step - loss: 0.5085 - accuracy: 0.8383\n",
            "Epoch 1665/1800\n",
            "1880/1880 [==============================] - 0s 63us/step - loss: 0.4612 - accuracy: 0.8457\n",
            "Epoch 1666/1800\n",
            "1880/1880 [==============================] - 0s 64us/step - loss: 0.4813 - accuracy: 0.8314\n",
            "Epoch 1667/1800\n",
            "1880/1880 [==============================] - 0s 65us/step - loss: 0.4576 - accuracy: 0.8394\n",
            "Epoch 1668/1800\n",
            "1880/1880 [==============================] - 0s 63us/step - loss: 0.4776 - accuracy: 0.8420\n",
            "Epoch 1669/1800\n",
            "1880/1880 [==============================] - 0s 66us/step - loss: 0.4931 - accuracy: 0.8362\n",
            "Epoch 1670/1800\n",
            "1880/1880 [==============================] - 0s 68us/step - loss: 0.4967 - accuracy: 0.8340\n",
            "Epoch 1671/1800\n",
            "1880/1880 [==============================] - 0s 68us/step - loss: 0.4788 - accuracy: 0.8383\n",
            "Epoch 1672/1800\n",
            "1880/1880 [==============================] - 0s 68us/step - loss: 0.4642 - accuracy: 0.8500\n",
            "Epoch 1673/1800\n",
            "1880/1880 [==============================] - 0s 66us/step - loss: 0.4859 - accuracy: 0.8303\n",
            "Epoch 1674/1800\n",
            "1880/1880 [==============================] - 0s 68us/step - loss: 0.4656 - accuracy: 0.8410\n",
            "Epoch 1675/1800\n",
            "1880/1880 [==============================] - 0s 64us/step - loss: 0.4560 - accuracy: 0.8452\n",
            "Epoch 1676/1800\n",
            "1880/1880 [==============================] - 0s 65us/step - loss: 0.4461 - accuracy: 0.8500\n",
            "Epoch 1677/1800\n",
            "1880/1880 [==============================] - 0s 68us/step - loss: 0.4306 - accuracy: 0.8516\n",
            "Epoch 1678/1800\n",
            "1880/1880 [==============================] - 0s 66us/step - loss: 0.4350 - accuracy: 0.8559\n",
            "Epoch 1679/1800\n",
            "1880/1880 [==============================] - 0s 72us/step - loss: 0.4742 - accuracy: 0.8261\n",
            "Epoch 1680/1800\n",
            "1880/1880 [==============================] - 0s 66us/step - loss: 0.4645 - accuracy: 0.8484\n",
            "Epoch 1681/1800\n",
            "1880/1880 [==============================] - 0s 70us/step - loss: 0.4714 - accuracy: 0.8426\n",
            "Epoch 1682/1800\n",
            "1880/1880 [==============================] - 0s 67us/step - loss: 0.4566 - accuracy: 0.8452\n",
            "Epoch 1683/1800\n",
            "1880/1880 [==============================] - 0s 66us/step - loss: 0.4546 - accuracy: 0.8468\n",
            "Epoch 1684/1800\n",
            "1880/1880 [==============================] - 0s 65us/step - loss: 0.4517 - accuracy: 0.8420\n",
            "Epoch 1685/1800\n",
            "1880/1880 [==============================] - 0s 67us/step - loss: 0.4540 - accuracy: 0.8431\n",
            "Epoch 1686/1800\n",
            "1880/1880 [==============================] - 0s 65us/step - loss: 0.4371 - accuracy: 0.8612\n",
            "Epoch 1687/1800\n",
            "1880/1880 [==============================] - 0s 72us/step - loss: 0.4936 - accuracy: 0.8319\n",
            "Epoch 1688/1800\n",
            "1880/1880 [==============================] - 0s 67us/step - loss: 0.4506 - accuracy: 0.8527\n",
            "Epoch 1689/1800\n",
            "1880/1880 [==============================] - 0s 65us/step - loss: 0.4473 - accuracy: 0.8410\n",
            "Epoch 1690/1800\n",
            "1880/1880 [==============================] - 0s 65us/step - loss: 0.4804 - accuracy: 0.8489\n",
            "Epoch 1691/1800\n",
            "1880/1880 [==============================] - 0s 62us/step - loss: 0.4390 - accuracy: 0.8516\n",
            "Epoch 1692/1800\n",
            "1880/1880 [==============================] - 0s 64us/step - loss: 0.4503 - accuracy: 0.8564\n",
            "Epoch 1693/1800\n",
            "1880/1880 [==============================] - 0s 67us/step - loss: 0.4500 - accuracy: 0.8500\n",
            "Epoch 1694/1800\n",
            "1880/1880 [==============================] - 0s 65us/step - loss: 0.4634 - accuracy: 0.8436\n",
            "Epoch 1695/1800\n",
            "1880/1880 [==============================] - 0s 69us/step - loss: 0.5059 - accuracy: 0.8330\n",
            "Epoch 1696/1800\n",
            "1880/1880 [==============================] - 0s 65us/step - loss: 0.4659 - accuracy: 0.8420\n",
            "Epoch 1697/1800\n",
            "1880/1880 [==============================] - 0s 68us/step - loss: 0.4434 - accuracy: 0.8463\n",
            "Epoch 1698/1800\n",
            "1880/1880 [==============================] - 0s 67us/step - loss: 0.4588 - accuracy: 0.8410\n",
            "Epoch 1699/1800\n",
            "1880/1880 [==============================] - 0s 65us/step - loss: 0.4420 - accuracy: 0.8505\n",
            "Epoch 1700/1800\n",
            "1880/1880 [==============================] - 0s 68us/step - loss: 0.5025 - accuracy: 0.8404\n",
            "Epoch 1701/1800\n",
            "1880/1880 [==============================] - 0s 74us/step - loss: 0.4565 - accuracy: 0.8452\n",
            "Epoch 1702/1800\n",
            "1880/1880 [==============================] - 0s 65us/step - loss: 0.4879 - accuracy: 0.8410\n",
            "Epoch 1703/1800\n",
            "1880/1880 [==============================] - 0s 70us/step - loss: 0.5053 - accuracy: 0.8394\n",
            "Epoch 1704/1800\n",
            "1880/1880 [==============================] - 0s 66us/step - loss: 0.4559 - accuracy: 0.8473\n",
            "Epoch 1705/1800\n",
            "1880/1880 [==============================] - 0s 65us/step - loss: 0.4831 - accuracy: 0.8362\n",
            "Epoch 1706/1800\n",
            "1880/1880 [==============================] - 0s 67us/step - loss: 0.4556 - accuracy: 0.8500\n",
            "Epoch 1707/1800\n",
            "1880/1880 [==============================] - 0s 65us/step - loss: 0.4475 - accuracy: 0.8537\n",
            "Epoch 1708/1800\n",
            "1880/1880 [==============================] - 0s 66us/step - loss: 0.4462 - accuracy: 0.8436\n",
            "Epoch 1709/1800\n",
            "1880/1880 [==============================] - 0s 68us/step - loss: 0.4691 - accuracy: 0.8489\n",
            "Epoch 1710/1800\n",
            "1880/1880 [==============================] - 0s 65us/step - loss: 0.4476 - accuracy: 0.8516\n",
            "Epoch 1711/1800\n",
            "1880/1880 [==============================] - 0s 68us/step - loss: 0.5143 - accuracy: 0.8319\n",
            "Epoch 1712/1800\n",
            "1880/1880 [==============================] - 0s 67us/step - loss: 0.4762 - accuracy: 0.8447\n",
            "Epoch 1713/1800\n",
            "1880/1880 [==============================] - 0s 67us/step - loss: 0.4618 - accuracy: 0.8511\n",
            "Epoch 1714/1800\n",
            "1880/1880 [==============================] - 0s 67us/step - loss: 0.4879 - accuracy: 0.8415\n",
            "Epoch 1715/1800\n",
            "1880/1880 [==============================] - 0s 74us/step - loss: 0.4655 - accuracy: 0.8362\n",
            "Epoch 1716/1800\n",
            "1880/1880 [==============================] - 0s 66us/step - loss: 0.4766 - accuracy: 0.8468\n",
            "Epoch 1717/1800\n",
            "1880/1880 [==============================] - 0s 69us/step - loss: 0.4630 - accuracy: 0.8436\n",
            "Epoch 1718/1800\n",
            "1880/1880 [==============================] - 0s 70us/step - loss: 0.4572 - accuracy: 0.8489\n",
            "Epoch 1719/1800\n",
            "1880/1880 [==============================] - 0s 65us/step - loss: 0.4473 - accuracy: 0.8495\n",
            "Epoch 1720/1800\n",
            "1880/1880 [==============================] - 0s 66us/step - loss: 0.4371 - accuracy: 0.8553\n",
            "Epoch 1721/1800\n",
            "1880/1880 [==============================] - 0s 71us/step - loss: 0.4811 - accuracy: 0.8378\n",
            "Epoch 1722/1800\n",
            "1880/1880 [==============================] - 0s 63us/step - loss: 0.4279 - accuracy: 0.8495\n",
            "Epoch 1723/1800\n",
            "1880/1880 [==============================] - 0s 66us/step - loss: 0.4257 - accuracy: 0.8527\n",
            "Epoch 1724/1800\n",
            "1880/1880 [==============================] - 0s 64us/step - loss: 0.4443 - accuracy: 0.8489\n",
            "Epoch 1725/1800\n",
            "1880/1880 [==============================] - 0s 67us/step - loss: 0.4661 - accuracy: 0.8500\n",
            "Epoch 1726/1800\n",
            "1880/1880 [==============================] - 0s 69us/step - loss: 0.5901 - accuracy: 0.8261\n",
            "Epoch 1727/1800\n",
            "1880/1880 [==============================] - 0s 65us/step - loss: 0.5233 - accuracy: 0.8239\n",
            "Epoch 1728/1800\n",
            "1880/1880 [==============================] - 0s 64us/step - loss: 0.4715 - accuracy: 0.8436\n",
            "Epoch 1729/1800\n",
            "1880/1880 [==============================] - 0s 64us/step - loss: 0.4451 - accuracy: 0.8532\n",
            "Epoch 1730/1800\n",
            "1880/1880 [==============================] - 0s 65us/step - loss: 0.5373 - accuracy: 0.8388\n",
            "Epoch 1731/1800\n",
            "1880/1880 [==============================] - 0s 65us/step - loss: 0.5382 - accuracy: 0.8277\n",
            "Epoch 1732/1800\n",
            "1880/1880 [==============================] - 0s 64us/step - loss: 0.4731 - accuracy: 0.8372\n",
            "Epoch 1733/1800\n",
            "1880/1880 [==============================] - 0s 67us/step - loss: 0.4669 - accuracy: 0.8473\n",
            "Epoch 1734/1800\n",
            "1880/1880 [==============================] - 0s 72us/step - loss: 0.4542 - accuracy: 0.8617\n",
            "Epoch 1735/1800\n",
            "1880/1880 [==============================] - 0s 63us/step - loss: 0.4633 - accuracy: 0.8436\n",
            "Epoch 1736/1800\n",
            "1880/1880 [==============================] - 0s 65us/step - loss: 0.4569 - accuracy: 0.8372\n",
            "Epoch 1737/1800\n",
            "1880/1880 [==============================] - 0s 67us/step - loss: 0.4462 - accuracy: 0.8452\n",
            "Epoch 1738/1800\n",
            "1880/1880 [==============================] - 0s 64us/step - loss: 0.4468 - accuracy: 0.8495\n",
            "Epoch 1739/1800\n",
            "1880/1880 [==============================] - 0s 65us/step - loss: 0.4599 - accuracy: 0.8537\n",
            "Epoch 1740/1800\n",
            "1880/1880 [==============================] - 0s 65us/step - loss: 0.4315 - accuracy: 0.8511\n",
            "Epoch 1741/1800\n",
            "1880/1880 [==============================] - 0s 69us/step - loss: 0.4454 - accuracy: 0.8457\n",
            "Epoch 1742/1800\n",
            "1880/1880 [==============================] - 0s 73us/step - loss: 0.4691 - accuracy: 0.8473\n",
            "Epoch 1743/1800\n",
            "1880/1880 [==============================] - 0s 66us/step - loss: 0.4608 - accuracy: 0.8505\n",
            "Epoch 1744/1800\n",
            "1880/1880 [==============================] - 0s 68us/step - loss: 0.4534 - accuracy: 0.8452\n",
            "Epoch 1745/1800\n",
            "1880/1880 [==============================] - 0s 65us/step - loss: 0.4669 - accuracy: 0.8399\n",
            "Epoch 1746/1800\n",
            "1880/1880 [==============================] - 0s 64us/step - loss: 0.4553 - accuracy: 0.8521\n",
            "Epoch 1747/1800\n",
            "1880/1880 [==============================] - 0s 64us/step - loss: 0.4795 - accuracy: 0.8367\n",
            "Epoch 1748/1800\n",
            "1880/1880 [==============================] - 0s 64us/step - loss: 0.4457 - accuracy: 0.8489\n",
            "Epoch 1749/1800\n",
            "1880/1880 [==============================] - 0s 69us/step - loss: 0.4555 - accuracy: 0.8489\n",
            "Epoch 1750/1800\n",
            "1880/1880 [==============================] - 0s 66us/step - loss: 0.4665 - accuracy: 0.8521\n",
            "Epoch 1751/1800\n",
            "1880/1880 [==============================] - 0s 67us/step - loss: 0.4384 - accuracy: 0.8420\n",
            "Epoch 1752/1800\n",
            "1880/1880 [==============================] - 0s 67us/step - loss: 0.4384 - accuracy: 0.8569\n",
            "Epoch 1753/1800\n",
            "1880/1880 [==============================] - 0s 67us/step - loss: 0.4487 - accuracy: 0.8516\n",
            "Epoch 1754/1800\n",
            "1880/1880 [==============================] - 0s 64us/step - loss: 0.4045 - accuracy: 0.8676\n",
            "Epoch 1755/1800\n",
            "1880/1880 [==============================] - 0s 64us/step - loss: 0.4359 - accuracy: 0.8447\n",
            "Epoch 1756/1800\n",
            "1880/1880 [==============================] - 0s 66us/step - loss: 0.4975 - accuracy: 0.8452\n",
            "Epoch 1757/1800\n",
            "1880/1880 [==============================] - 0s 68us/step - loss: 0.4470 - accuracy: 0.8532\n",
            "Epoch 1758/1800\n",
            "1880/1880 [==============================] - 0s 64us/step - loss: 0.4636 - accuracy: 0.8436\n",
            "Epoch 1759/1800\n",
            "1880/1880 [==============================] - 0s 70us/step - loss: 0.4608 - accuracy: 0.8569\n",
            "Epoch 1760/1800\n",
            "1880/1880 [==============================] - 0s 66us/step - loss: 0.4077 - accuracy: 0.8612\n",
            "Epoch 1761/1800\n",
            "1880/1880 [==============================] - 0s 66us/step - loss: 0.4638 - accuracy: 0.8441\n",
            "Epoch 1762/1800\n",
            "1880/1880 [==============================] - 0s 63us/step - loss: 0.4215 - accuracy: 0.8585\n",
            "Epoch 1763/1800\n",
            "1880/1880 [==============================] - 0s 66us/step - loss: 0.4351 - accuracy: 0.8511\n",
            "Epoch 1764/1800\n",
            "1880/1880 [==============================] - 0s 75us/step - loss: 0.3972 - accuracy: 0.8702\n",
            "Epoch 1765/1800\n",
            "1880/1880 [==============================] - 0s 70us/step - loss: 0.4455 - accuracy: 0.8548\n",
            "Epoch 1766/1800\n",
            "1880/1880 [==============================] - 0s 72us/step - loss: 0.4291 - accuracy: 0.8559\n",
            "Epoch 1767/1800\n",
            "1880/1880 [==============================] - 0s 69us/step - loss: 0.4573 - accuracy: 0.8495\n",
            "Epoch 1768/1800\n",
            "1880/1880 [==============================] - 0s 67us/step - loss: 0.6252 - accuracy: 0.8181\n",
            "Epoch 1769/1800\n",
            "1880/1880 [==============================] - 0s 65us/step - loss: 0.4631 - accuracy: 0.8441\n",
            "Epoch 1770/1800\n",
            "1880/1880 [==============================] - 0s 65us/step - loss: 0.4929 - accuracy: 0.8309\n",
            "Epoch 1771/1800\n",
            "1880/1880 [==============================] - 0s 66us/step - loss: 0.4692 - accuracy: 0.8447\n",
            "Epoch 1772/1800\n",
            "1880/1880 [==============================] - 0s 68us/step - loss: 0.4307 - accuracy: 0.8537\n",
            "Epoch 1773/1800\n",
            "1880/1880 [==============================] - 0s 65us/step - loss: 0.4411 - accuracy: 0.8553\n",
            "Epoch 1774/1800\n",
            "1880/1880 [==============================] - 0s 70us/step - loss: 0.4241 - accuracy: 0.8543\n",
            "Epoch 1775/1800\n",
            "1880/1880 [==============================] - 0s 66us/step - loss: 0.4261 - accuracy: 0.8590\n",
            "Epoch 1776/1800\n",
            "1880/1880 [==============================] - 0s 66us/step - loss: 0.4201 - accuracy: 0.8633\n",
            "Epoch 1777/1800\n",
            "1880/1880 [==============================] - 0s 71us/step - loss: 0.4385 - accuracy: 0.8489\n",
            "Epoch 1778/1800\n",
            "1880/1880 [==============================] - 0s 73us/step - loss: 0.4253 - accuracy: 0.8654\n",
            "Epoch 1779/1800\n",
            "1880/1880 [==============================] - 0s 65us/step - loss: 0.4433 - accuracy: 0.8489\n",
            "Epoch 1780/1800\n",
            "1880/1880 [==============================] - 0s 68us/step - loss: 0.4154 - accuracy: 0.8654\n",
            "Epoch 1781/1800\n",
            "1880/1880 [==============================] - 0s 67us/step - loss: 0.4556 - accuracy: 0.8463\n",
            "Epoch 1782/1800\n",
            "1880/1880 [==============================] - 0s 69us/step - loss: 0.3918 - accuracy: 0.8649\n",
            "Epoch 1783/1800\n",
            "1880/1880 [==============================] - 0s 72us/step - loss: 0.4259 - accuracy: 0.8511\n",
            "Epoch 1784/1800\n",
            "1880/1880 [==============================] - 0s 66us/step - loss: 0.4148 - accuracy: 0.8590\n",
            "Epoch 1785/1800\n",
            "1880/1880 [==============================] - 0s 67us/step - loss: 0.4385 - accuracy: 0.8521\n",
            "Epoch 1786/1800\n",
            "1880/1880 [==============================] - 0s 66us/step - loss: 0.4351 - accuracy: 0.8559\n",
            "Epoch 1787/1800\n",
            "1880/1880 [==============================] - 0s 66us/step - loss: 0.4737 - accuracy: 0.8580\n",
            "Epoch 1788/1800\n",
            "1880/1880 [==============================] - 0s 68us/step - loss: 0.4465 - accuracy: 0.8516\n",
            "Epoch 1789/1800\n",
            "1880/1880 [==============================] - 0s 64us/step - loss: 0.5836 - accuracy: 0.8165\n",
            "Epoch 1790/1800\n",
            "1880/1880 [==============================] - 0s 71us/step - loss: 0.5163 - accuracy: 0.8340\n",
            "Epoch 1791/1800\n",
            "1880/1880 [==============================] - 0s 70us/step - loss: 0.5449 - accuracy: 0.8271\n",
            "Epoch 1792/1800\n",
            "1880/1880 [==============================] - 0s 66us/step - loss: 0.4477 - accuracy: 0.8452\n",
            "Epoch 1793/1800\n",
            "1880/1880 [==============================] - 0s 65us/step - loss: 0.4320 - accuracy: 0.8532\n",
            "Epoch 1794/1800\n",
            "1880/1880 [==============================] - 0s 66us/step - loss: 0.4489 - accuracy: 0.8489\n",
            "Epoch 1795/1800\n",
            "1880/1880 [==============================] - 0s 66us/step - loss: 0.4344 - accuracy: 0.8489\n",
            "Epoch 1796/1800\n",
            "1880/1880 [==============================] - 0s 69us/step - loss: 0.4576 - accuracy: 0.8511\n",
            "Epoch 1797/1800\n",
            "1880/1880 [==============================] - 0s 71us/step - loss: 0.4427 - accuracy: 0.8569\n",
            "Epoch 1798/1800\n",
            "1880/1880 [==============================] - 0s 73us/step - loss: 0.4395 - accuracy: 0.8500\n",
            "Epoch 1799/1800\n",
            "1880/1880 [==============================] - 0s 66us/step - loss: 0.4320 - accuracy: 0.8559\n",
            "Epoch 1800/1800\n",
            "1880/1880 [==============================] - 0s 63us/step - loss: 0.4416 - accuracy: 0.8404\n"
          ],
          "name": "stdout"
        }
      ]
    },
    {
      "cell_type": "code",
      "metadata": {
        "id": "0Y6AcXagxDfB",
        "colab": {
          "base_uri": "https://localhost:8080/",
          "height": 34
        },
        "outputId": "90f4eb4b-47e1-405d-c78a-9ea8d4e11eab"
      },
      "source": [
        "print(labels.shape)"
      ],
      "execution_count": null,
      "outputs": [
        {
          "output_type": "stream",
          "text": [
            "(1960,)\n"
          ],
          "name": "stdout"
        }
      ]
    },
    {
      "cell_type": "code",
      "metadata": {
        "id": "VGZHQMpbLTXf",
        "colab": {
          "base_uri": "https://localhost:8080/",
          "height": 595
        },
        "outputId": "7591d8c5-09a1-4108-84cb-f8a5b235260d"
      },
      "source": [
        "model.summary()"
      ],
      "execution_count": null,
      "outputs": [
        {
          "output_type": "stream",
          "text": [
            "Model: \"sequential_2\"\n",
            "_________________________________________________________________\n",
            "Layer (type)                 Output Shape              Param #   \n",
            "=================================================================\n",
            "conv1d_5 (Conv1D)            (None, 191, 64)           256       \n",
            "_________________________________________________________________\n",
            "activation_6 (Activation)    (None, 191, 64)           0         \n",
            "_________________________________________________________________\n",
            "conv1d_6 (Conv1D)            (None, 189, 64)           12352     \n",
            "_________________________________________________________________\n",
            "activation_7 (Activation)    (None, 189, 64)           0         \n",
            "_________________________________________________________________\n",
            "max_pooling1d_2 (MaxPooling1 (None, 63, 64)            0         \n",
            "_________________________________________________________________\n",
            "conv1d_7 (Conv1D)            (None, 61, 128)           24704     \n",
            "_________________________________________________________________\n",
            "activation_8 (Activation)    (None, 61, 128)           0         \n",
            "_________________________________________________________________\n",
            "conv1d_8 (Conv1D)            (None, 59, 128)           49280     \n",
            "_________________________________________________________________\n",
            "activation_9 (Activation)    (None, 59, 128)           0         \n",
            "_________________________________________________________________\n",
            "global_average_pooling1d_2 ( (None, 128)               0         \n",
            "_________________________________________________________________\n",
            "dropout_2 (Dropout)          (None, 128)               0         \n",
            "_________________________________________________________________\n",
            "dense_2 (Dense)              (None, 49)                6321      \n",
            "_________________________________________________________________\n",
            "activation_10 (Activation)   (None, 49)                0         \n",
            "=================================================================\n",
            "Total params: 92,913\n",
            "Trainable params: 92,913\n",
            "Non-trainable params: 0\n",
            "_________________________________________________________________\n"
          ],
          "name": "stdout"
        }
      ]
    },
    {
      "cell_type": "code",
      "metadata": {
        "id": "XWmRqSqY9h5R",
        "colab": {
          "base_uri": "https://localhost:8080/",
          "height": 68
        },
        "outputId": "b970c708-bf08-494f-a996-86f4c0152e08"
      },
      "source": [
        "%ls\n",
        "%cd models"
      ],
      "execution_count": null,
      "outputs": [
        {
          "output_type": "stream",
          "text": [
            "\u001b[0m\u001b[01;34maudio\u001b[0m/       \u001b[01;34mcategories\u001b[0m/                                esc50.csv  utils2.py\n",
            "bc_utils.py  environmental-sound-classification-50.zip  \u001b[01;34mmodels\u001b[0m/    utils.py\n",
            "/content/drive/My Drive/soundclasify/models\n"
          ],
          "name": "stdout"
        }
      ]
    },
    {
      "cell_type": "code",
      "metadata": {
        "id": "YS_t0kRoCmu9"
      },
      "source": [
        "from keras.models import load_model # cricket classification is not working \n",
        "\n"
      ],
      "execution_count": null,
      "outputs": []
    },
    {
      "cell_type": "code",
      "metadata": {
        "id": "EuxCU56fFm_X"
      },
      "source": [
        "model.save('/content/drive/My Drive/soundclasify/my_modelnew_newcoughs4.h5')"
      ],
      "execution_count": null,
      "outputs": []
    },
    {
      "cell_type": "code",
      "metadata": {
        "id": "an2lpeh_-SVv"
      },
      "source": [
        "model = load_model('/content/drive/My Drive/soundclasify/first_cough_addition_features/my_modelnew_newcoughs.h5')"
      ],
      "execution_count": null,
      "outputs": []
    },
    {
      "cell_type": "code",
      "metadata": {
        "id": "jnM-sU7dEseS"
      },
      "source": [
        "keras.utils.plot_model(\n",
        "    model,\n",
        "    to_file=\"model.png\",\n",
        "    show_shapes=False,\n",
        "    show_layer_names=True,\n",
        "    rankdir=\"TB\",\n",
        "    expand_nested=False,\n",
        "    dpi=96,\n",
        ")"
      ],
      "execution_count": null,
      "outputs": []
    },
    {
      "cell_type": "code",
      "metadata": {
        "id": "CaNeG9PBgUGA",
        "colab": {
          "base_uri": "https://localhost:8080/",
          "height": 34
        },
        "outputId": "52f61a85-bddd-4de7-dd2f-d474e141413e"
      },
      "source": [
        "model.metrics"
      ],
      "execution_count": null,
      "outputs": [
        {
          "output_type": "execute_result",
          "data": {
            "text/plain": [
              "[<keras.metrics.MeanMetricWrapper at 0x7f440bd2ac50>]"
            ]
          },
          "metadata": {
            "tags": []
          },
          "execution_count": 98
        }
      ]
    },
    {
      "cell_type": "code",
      "metadata": {
        "id": "vOnQLKf0-bgq",
        "colab": {
          "base_uri": "https://localhost:8080/",
          "height": 163
        },
        "outputId": "ed5d790a-534c-4132-fdb2-f548ffa6acea"
      },
      "source": [
        "pred = predict(model,'/content/drive/My Drive/soundclasify/categories/frog/3-71964-C-4.wav')"
      ],
      "execution_count": null,
      "outputs": [
        {
          "output_type": "error",
          "ename": "NameError",
          "evalue": "ignored",
          "traceback": [
            "\u001b[0;31m---------------------------------------------------------------------------\u001b[0m",
            "\u001b[0;31mNameError\u001b[0m                                 Traceback (most recent call last)",
            "\u001b[0;32m<ipython-input-27-b53ec7178dec>\u001b[0m in \u001b[0;36m<module>\u001b[0;34m()\u001b[0m\n\u001b[0;32m----> 1\u001b[0;31m \u001b[0mpred\u001b[0m \u001b[0;34m=\u001b[0m \u001b[0mpredict\u001b[0m\u001b[0;34m(\u001b[0m\u001b[0mmodel\u001b[0m\u001b[0;34m,\u001b[0m\u001b[0;34m'/content/drive/My Drive/soundclasify/categories/frog/3-71964-C-4.wav'\u001b[0m\u001b[0;34m)\u001b[0m\u001b[0;34m\u001b[0m\u001b[0;34m\u001b[0m\u001b[0m\n\u001b[0m",
            "\u001b[0;31mNameError\u001b[0m: name 'predict' is not defined"
          ]
        }
      ]
    },
    {
      "cell_type": "code",
      "metadata": {
        "id": "HiAJW6NcfSGG",
        "colab": {
          "base_uri": "https://localhost:8080/",
          "height": 238
        },
        "outputId": "28e4651f-71ff-47bf-89d6-7e58c3ab1f5c"
      },
      "source": [
        "print()"
      ],
      "execution_count": null,
      "outputs": [
        {
          "output_type": "stream",
          "text": [
            "[[1.90525068e-04 4.46642888e-17 3.81502554e-16 2.23005113e-13\n",
            "  2.11093697e-15 8.87892526e-18 1.02538825e-10 1.47375093e-14\n",
            "  1.26388684e-07 2.92526132e-15 1.15258854e-15 2.81363040e-08\n",
            "  1.64261649e-12 6.58054950e-14 2.53603538e-03 3.61128547e-19\n",
            "  2.30913588e-06 6.83735566e-13 6.35011475e-08 4.95218033e-10\n",
            "  9.58235160e-14 5.36998268e-04 1.48825256e-15 3.09375286e-01\n",
            "  4.93575699e-20 5.30155296e-15 8.37685366e-06 1.83860677e-10\n",
            "  1.13976200e-12 1.85263195e-17 3.71244317e-03 7.86019600e-12\n",
            "  3.41782239e-13 3.82864021e-17 7.77656002e-14 3.02953891e-15\n",
            "  7.77316444e-14 2.06004842e-07 8.30693825e-05 2.34497763e-16\n",
            "  1.47670387e-16 1.75107881e-01 2.38318593e-17 3.60936629e-14\n",
            "  3.25092749e-15 2.30904263e-18 1.05190470e-15 2.32518905e-05\n",
            "  5.08423388e-01]]\n"
          ],
          "name": "stdout"
        }
      ]
    },
    {
      "cell_type": "code",
      "metadata": {
        "id": "oXwUwv_YA-2t",
        "colab": {
          "base_uri": "https://localhost:8080/",
          "height": 826
        },
        "outputId": "68c8f07d-048e-4c26-af76-9b55fb9d2c24"
      },
      "source": [
        "print_leaderboard(pred,'/content/drive/My Drive/soundclasify/categories')"
      ],
      "execution_count": null,
      "outputs": [
        {
          "output_type": "stream",
          "text": [
            "1. frog 100.0% (index 23)\n",
            "2. crow 0.0% (index 14)\n",
            "3. cat 0.0% (index 4)\n",
            "4. laughing 0.0% (index 30)\n",
            "5. fireworks 0.0% (index 21)\n",
            "6. clock_tick 0.0% (index 10)\n",
            "7. siren 0.0% (index 38)\n",
            "8. rooster 0.0% (index 35)\n",
            "9. breathing 0.0% (index 0)\n",
            "10. dog 0.0% (index 16)\n",
            "11. clock_alarm 0.0% (index 9)\n",
            "12. water_drops 0.0% (index 46)\n",
            "13. keyboard_typing 0.0% (index 29)\n",
            "14. clapping 0.0% (index 8)\n",
            "15. chirping_birds 0.0% (index 6)\n",
            "16. sheep 0.0% (index 37)\n",
            "17. car_horn 0.0% (index 3)\n",
            "18. church_bells 0.0% (index 7)\n",
            "19. door_wood_creaks 0.0% (index 17)\n",
            "20. crying_baby 0.0% (index 15)\n",
            "21. mouse_click 0.0% (index 31)\n",
            "22. brushing_teeth 0.0% (index 1)\n",
            "23. coughing 0.0% (index 11)\n",
            "24. engine 0.0% (index 20)\n",
            "25. cow 0.0% (index 12)\n",
            "26. snoring 0.0% (index 40)\n",
            "27. hen 0.0% (index 27)\n",
            "28. pouring_water 0.0% (index 33)\n",
            "29. can_opening 0.0% (index 2)\n",
            "30. door_wood_knock 0.0% (index 18)\n",
            "31. helicopter 0.0% (index 26)\n",
            "32. drinking_sipping 0.0% (index 19)\n",
            "33. insects 0.0% (index 28)\n"
          ],
          "name": "stdout"
        },
        {
          "output_type": "error",
          "ename": "IndexError",
          "evalue": "ignored",
          "traceback": [
            "\u001b[0;31m---------------------------------------------------------------------------\u001b[0m",
            "\u001b[0;31mIndexError\u001b[0m                                Traceback (most recent call last)",
            "\u001b[0;32m<ipython-input-21-4d2eb9a52219>\u001b[0m in \u001b[0;36m<module>\u001b[0;34m()\u001b[0m\n\u001b[0;32m----> 1\u001b[0;31m \u001b[0mprint_leaderboard\u001b[0m\u001b[0;34m(\u001b[0m\u001b[0mpred\u001b[0m\u001b[0;34m,\u001b[0m\u001b[0;34m'/content/drive/My Drive/soundclasify/categories'\u001b[0m\u001b[0;34m)\u001b[0m\u001b[0;34m\u001b[0m\u001b[0;34m\u001b[0m\u001b[0m\n\u001b[0m",
            "\u001b[0;32m/content/drive/My Drive/soundclasify/pyaudioclassification/intializemodels.py\u001b[0m in \u001b[0;36mprint_leaderboard\u001b[0;34m(pred, data_path)\u001b[0m\n\u001b[1;32m     74\u001b[0m     \u001b[0;31m#(-pred).argsort()[0], get the indices of sorted predictions from highest to lowest\u001b[0m\u001b[0;34m\u001b[0m\u001b[0;34m\u001b[0m\u001b[0;34m\u001b[0m\u001b[0m\n\u001b[1;32m     75\u001b[0m     \u001b[0;32mfor\u001b[0m \u001b[0mindex\u001b[0m \u001b[0;32min\u001b[0m \u001b[0;34m(\u001b[0m\u001b[0;34m-\u001b[0m\u001b[0mpred\u001b[0m\u001b[0;34m)\u001b[0m\u001b[0;34m.\u001b[0m\u001b[0margsort\u001b[0m\u001b[0;34m(\u001b[0m\u001b[0;34m)\u001b[0m\u001b[0;34m[\u001b[0m\u001b[0;36m0\u001b[0m\u001b[0;34m]\u001b[0m\u001b[0;34m:\u001b[0m\u001b[0;34m\u001b[0m\u001b[0;34m\u001b[0m\u001b[0m\n\u001b[0;32m---> 76\u001b[0;31m         \u001b[0mprint\u001b[0m\u001b[0;34m(\u001b[0m\u001b[0;34m'%d.'\u001b[0m \u001b[0;34m%\u001b[0m \u001b[0;34m(\u001b[0m\u001b[0mcount\u001b[0m \u001b[0;34m+\u001b[0m \u001b[0;36m1\u001b[0m\u001b[0;34m)\u001b[0m\u001b[0;34m,\u001b[0m \u001b[0mr\u001b[0m\u001b[0;34m[\u001b[0m\u001b[0mindex\u001b[0m\u001b[0;34m+\u001b[0m\u001b[0;36m1\u001b[0m\u001b[0;34m]\u001b[0m\u001b[0;34m,\u001b[0m \u001b[0mstr\u001b[0m\u001b[0;34m(\u001b[0m\u001b[0mround\u001b[0m\u001b[0;34m(\u001b[0m\u001b[0mpred\u001b[0m\u001b[0;34m[\u001b[0m\u001b[0;36m0\u001b[0m\u001b[0;34m]\u001b[0m\u001b[0;34m[\u001b[0m\u001b[0mindex\u001b[0m\u001b[0;34m]\u001b[0m\u001b[0;34m*\u001b[0m\u001b[0;36m100\u001b[0m\u001b[0;34m)\u001b[0m\u001b[0;34m)\u001b[0m \u001b[0;34m+\u001b[0m \u001b[0;34m'%'\u001b[0m\u001b[0;34m,\u001b[0m \u001b[0;34m'(index %s)'\u001b[0m \u001b[0;34m%\u001b[0m \u001b[0mindex\u001b[0m\u001b[0;34m)\u001b[0m\u001b[0;34m\u001b[0m\u001b[0;34m\u001b[0m\u001b[0m\n\u001b[0m\u001b[1;32m     77\u001b[0m         \u001b[0mcount\u001b[0m \u001b[0;34m+=\u001b[0m \u001b[0;36m1\u001b[0m\u001b[0;34m\u001b[0m\u001b[0;34m\u001b[0m\u001b[0m\n",
            "\u001b[0;31mIndexError\u001b[0m: list index out of range"
          ]
        }
      ]
    },
    {
      "cell_type": "code",
      "metadata": {
        "id": "aLtCNScuCqsx"
      },
      "source": [
        "y_pred=[]"
      ],
      "execution_count": null,
      "outputs": []
    },
    {
      "cell_type": "code",
      "metadata": {
        "id": "7Kc0TCsyx4YM"
      },
      "source": [
        "def append_cough_list2(get_predictions):\n",
        "  sorted_pred=(-get_predictions).argsort()[0][0:3]\n",
        "  count=0\n",
        "  for i in sorted_pred: \n",
        "      if(i == 11) : \n",
        "        y_pred1.append(1)\n",
        "          \n",
        "      elif i!=11:\n",
        "          count+=1\n",
        "  if count ==3:\n",
        "    y_pred1.append(0)  "
      ],
      "execution_count": null,
      "outputs": []
    },
    {
      "cell_type": "code",
      "metadata": {
        "id": "s7khSP2P8iT4"
      },
      "source": [
        "def append_cough_list2_2(get_predictions):\n",
        "  sorted_pred=(-get_predictions).argsort()[0][0:3]\n",
        "  count=0\n",
        "  for i in sorted_pred: \n",
        "      if(i == 11) : \n",
        "        y_pred2.append(1)\n",
        "          \n",
        "      elif i!=11:\n",
        "          count+=1\n",
        "  if count ==3:\n",
        "    y_pred2.append(0)  "
      ],
      "execution_count": null,
      "outputs": []
    },
    {
      "cell_type": "code",
      "metadata": {
        "id": "Of2cWjue71dE"
      },
      "source": [
        "import os # get the wav files inside the test wav files directory\n",
        "import glob\n",
        "import numpy\n",
        "test_wav_directory=\"/content/drive/My Drive/soundclasify/Test wav files big/*.wav\"\n",
        "wavfiles1 = []\n",
        "for file in glob.glob(test_wav_directory):\n",
        "    wavfiles1.append((file))#os.path.basename: the os.path.base name is to get the file name without the whole path\n",
        "wavfiles1.sort()    "
      ],
      "execution_count": null,
      "outputs": []
    },
    {
      "cell_type": "code",
      "metadata": {
        "id": "gvFWggVN76Fk"
      },
      "source": [
        "import os # get the wav files inside the test wav files directory\n",
        "import glob\n",
        "import numpy\n",
        "test_wav_directory=\"/content/drive/My Drive/soundclasify/Test wav files/*.wav\"\n",
        "wavfiles2 = []\n",
        "for file in glob.glob(test_wav_directory):\n",
        "    wavfiles2.append((file))#os.path.basename: the os.path.base name is to get the file name without the whole path\n",
        "wavfiles2.sort() "
      ],
      "execution_count": null,
      "outputs": []
    },
    {
      "cell_type": "code",
      "metadata": {
        "id": "fDPhFom63DzU",
        "colab": {
          "base_uri": "https://localhost:8080/",
          "height": 289
        },
        "outputId": "14f09c09-6ca4-475c-f469-c41c1ac9af23"
      },
      "source": [
        "wavfiles2#frog is actual, prediction is cough ...false positive\n",
        "\n"
      ],
      "execution_count": null,
      "outputs": [
        {
          "output_type": "execute_result",
          "data": {
            "text/plain": [
              "['/content/drive/My Drive/soundclasify/Test wav files/Applaus sound.wav',\n",
              " '/content/drive/My Drive/soundclasify/Test wav files/Cat Speak.wav',\n",
              " '/content/drive/My Drive/soundclasify/Test wav files/Heidi coughing.wav',\n",
              " '/content/drive/My Drive/soundclasify/Test wav files/Lauraa LOL.wav',\n",
              " '/content/drive/My Drive/soundclasify/Test wav files/Male bronchitis cough2.wav',\n",
              " '/content/drive/My Drive/soundclasify/Test wav files/Nick Jr frog.wav',\n",
              " '/content/drive/My Drive/soundclasify/Test wav files/VELHO DA TOSSE.wav',\n",
              " '/content/drive/My Drive/soundclasify/Test wav files/WhatsApp Video 2020-06-28 at 12.59.12 PM.wav',\n",
              " '/content/drive/My Drive/soundclasify/Test wav files/WhatsApp Video 2020-06-28 at 4.42.12 PM (1).wav',\n",
              " '/content/drive/My Drive/soundclasify/Test wav files/Whooping Cough.wav',\n",
              " '/content/drive/My Drive/soundclasify/Test wav files/abdkareem_cough3.wav',\n",
              " '/content/drive/My Drive/soundclasify/Test wav files/cough_woman.wav',\n",
              " '/content/drive/My Drive/soundclasify/Test wav files/coughme.wav',\n",
              " '/content/drive/My Drive/soundclasify/Test wav files/engine1.wav',\n",
              " '/content/drive/My Drive/soundclasify/Test wav files/foot steps.wav',\n",
              " '/content/drive/My Drive/soundclasify/Test wav files/video_me_cough_whatsapp.wav']"
            ]
          },
          "metadata": {
            "tags": []
          },
          "execution_count": 25
        }
      ]
    },
    {
      "cell_type": "code",
      "metadata": {
        "id": "fyNsZ73FEbEw"
      },
      "source": [
        "# get the list of y predicted for the test dataset\n",
        "\n",
        "y_pred1=[]# y predicted of test wav file big\n",
        "for file in wavfiles1:\n",
        "\n",
        "  append_cough_list2(predict(model,file))\n"
      ],
      "execution_count": null,
      "outputs": []
    },
    {
      "cell_type": "code",
      "metadata": {
        "id": "2nvgoKqt7it4"
      },
      "source": [
        "y_pred2=[]\n",
        "for file in wavfiles2:#y predicted of test wav file \n",
        "\n",
        "  append_cough_list2_2(predict(model,file))"
      ],
      "execution_count": null,
      "outputs": []
    },
    {
      "cell_type": "code",
      "metadata": {
        "id": "KvPYOdTqDTd3",
        "colab": {
          "base_uri": "https://localhost:8080/",
          "height": 34
        },
        "outputId": "e5854925-e955-4476-96e4-d533fb38f825"
      },
      "source": [
        "print(y_pred)"
      ],
      "execution_count": null,
      "outputs": [
        {
          "output_type": "stream",
          "text": [
            "[0, 0, 0, 1, 1, 1, 1, 1, 1, 1, 1, 1, 1, 0, 0, 1]\n"
          ],
          "name": "stdout"
        }
      ]
    },
    {
      "cell_type": "code",
      "metadata": {
        "id": "k0JGMke5oJO5",
        "colab": {
          "base_uri": "https://localhost:8080/",
          "height": 34
        },
        "outputId": "c4161823-715a-4b2f-af68-726ca11f984d"
      },
      "source": [
        "count=0\n",
        "for i in y_pred:\n",
        "  if i==0:\n",
        "    count+=1\n",
        "print(count)    "
      ],
      "execution_count": null,
      "outputs": [
        {
          "output_type": "stream",
          "text": [
            "89\n"
          ],
          "name": "stdout"
        }
      ]
    },
    {
      "cell_type": "code",
      "metadata": {
        "id": "oAgv1TeBslUw",
        "colab": {
          "base_uri": "https://localhost:8080/",
          "height": 34
        },
        "outputId": "94d6b866-da48-4827-8944-da3cc49cedbd"
      },
      "source": [
        "y_real1=[]\n",
        "for i in range(0,95):\n",
        "  y_real1.append(0)\n",
        "len(y_real1)  "
      ],
      "execution_count": null,
      "outputs": [
        {
          "output_type": "execute_result",
          "data": {
            "text/plain": [
              "95"
            ]
          },
          "metadata": {
            "tags": []
          },
          "execution_count": 53
        }
      ]
    },
    {
      "cell_type": "code",
      "metadata": {
        "id": "DzueIZ7BJtn_"
      },
      "source": [
        "y_real_2=[0,0,1,1,1,0,1,1,1,1,1,1,1,0,0,1]#0011101111111001 y real of test wav files"
      ],
      "execution_count": null,
      "outputs": []
    },
    {
      "cell_type": "code",
      "metadata": {
        "id": "jK_MDhBD_QoF"
      },
      "source": [
        "y_real=y_real1+y_real_2\n",
        "y_pred=y_pred1+y_pred2"
      ],
      "execution_count": null,
      "outputs": []
    },
    {
      "cell_type": "code",
      "metadata": {
        "id": "u8U9JlqMKVVI"
      },
      "source": [
        "import pandas as pd\n",
        "import seaborn as sn\n",
        "import matplotlib.pyplot as plt"
      ],
      "execution_count": null,
      "outputs": []
    },
    {
      "cell_type": "code",
      "metadata": {
        "id": "eyPz0-cuKffl",
        "colab": {
          "base_uri": "https://localhost:8080/",
          "height": 279
        },
        "outputId": "bafff861-8999-4d42-d608-184ab5ef310a"
      },
      "source": [
        "data = {'y_Actual':    y_real,\n",
        "        'y_Predicted': y_pred\n",
        "        }\n",
        "\n",
        "df = pd.DataFrame(data, columns=['y_Actual','y_Predicted'])\n",
        "confusion_matrix = pd.crosstab(df['y_Actual'], df['y_Predicted'], rownames=['Actual'], colnames=['Predicted'])\n",
        "\n",
        "sn.heatmap(confusion_matrix, annot=True)\n",
        "plt.show()"
      ],
      "execution_count": null,
      "outputs": [
        {
          "output_type": "display_data",
          "data": {
            "image/png": "[encoded data removed]",
            "text/plain": [
              "<Figure size 432x288 with 2 Axes>"
            ]
          },
          "metadata": {
            "tags": [],
            "needs_background": "light"
          }
        }
      ]
    },
    {
      "cell_type": "code",
      "metadata": {
        "id": "_HMwnszYPs-t"
      },
      "source": [
        "from sklearn.metrics import precision_score,recall_score"
      ],
      "execution_count": null,
      "outputs": []
    },
    {
      "cell_type": "markdown",
      "metadata": {
        "id": "U1rJqWJITXDt"
      },
      "source": [
        "The precision is the ratio tp / (tp + fp) where tp is the number of true positives and fp the number of false positives. The precision is intuitively the ability of the classifier not to label as positive a sample that is negative."
      ]
    },
    {
      "cell_type": "code",
      "metadata": {
        "id": "4c6cyWURQpt6",
        "colab": {
          "base_uri": "https://localhost:8080/",
          "height": 34
        },
        "outputId": "32816d7b-6f82-4d9e-ea02-8a35ead862de"
      },
      "source": [
        "precision_score(y_real, y_pred, average='macro')"
      ],
      "execution_count": null,
      "outputs": [
        {
          "output_type": "execute_result",
          "data": {
            "text/plain": [
              "0.7981818181818181"
            ]
          },
          "metadata": {
            "tags": []
          },
          "execution_count": 59
        }
      ]
    },
    {
      "cell_type": "markdown",
      "metadata": {
        "id": "q_n9QePRThXy"
      },
      "source": [
        "The recall is the ratio tp / (tp + fn) where tp is the number of true positives and fn the number of false negatives. The recall is intuitively the ability of the classifier to find all the positive samples."
      ]
    },
    {
      "cell_type": "code",
      "metadata": {
        "id": "Kv1UzxFnSmnd",
        "colab": {
          "base_uri": "https://localhost:8080/",
          "height": 34
        },
        "outputId": "cb83f823-d36d-4425-f8a4-c161cc0c8d7e"
      },
      "source": [
        "recall_score(y_real, y_pred, average='macro')"
      ],
      "execution_count": null,
      "outputs": [
        {
          "output_type": "execute_result",
          "data": {
            "text/plain": [
              "0.7981818181818181"
            ]
          },
          "metadata": {
            "tags": []
          },
          "execution_count": 60
        }
      ]
    },
    {
      "cell_type": "code",
      "metadata": {
        "id": "HOE5dmfXXvnl",
        "colab": {
          "base_uri": "https://localhost:8080/",
          "height": 343
        },
        "outputId": "9d883534-c44f-4a67-a861-d41d3f9e47a0"
      },
      "source": [
        "pip install plot_metric"
      ],
      "execution_count": null,
      "outputs": [
        {
          "output_type": "stream",
          "text": [
            "Collecting plot_metric\n",
            "  Downloading https://files.pythonhosted.org/packages/95/2a/dae5d81116c8226c7fdbd711460ea568ac87420cd447cf219524695646c2/plot_metric-0.0.6-py3-none-any.whl\n",
            "Requirement already satisfied: numpy>=1.15.4 in /usr/local/lib/python3.6/dist-packages (from plot_metric) (1.18.5)\n",
            "Requirement already satisfied: pandas>=0.23.4 in /usr/local/lib/python3.6/dist-packages (from plot_metric) (1.0.5)\n",
            "Requirement already satisfied: matplotlib>=3.0.2 in /usr/local/lib/python3.6/dist-packages (from plot_metric) (3.2.2)\n",
            "Requirement already satisfied: scipy>=1.1.0 in /usr/local/lib/python3.6/dist-packages (from plot_metric) (1.4.1)\n",
            "Requirement already satisfied: colorlover>=0.3.0 in /usr/local/lib/python3.6/dist-packages (from plot_metric) (0.3.0)\n",
            "Requirement already satisfied: seaborn>=0.9.0 in /usr/local/lib/python3.6/dist-packages (from plot_metric) (0.10.1)\n",
            "Requirement already satisfied: scikit-learn>=0.21.2 in /usr/local/lib/python3.6/dist-packages (from plot_metric) (0.22.2.post1)\n",
            "Requirement already satisfied: python-dateutil>=2.6.1 in /usr/local/lib/python3.6/dist-packages (from pandas>=0.23.4->plot_metric) (2.8.1)\n",
            "Requirement already satisfied: pytz>=2017.2 in /usr/local/lib/python3.6/dist-packages (from pandas>=0.23.4->plot_metric) (2018.9)\n",
            "Requirement already satisfied: cycler>=0.10 in /usr/local/lib/python3.6/dist-packages (from matplotlib>=3.0.2->plot_metric) (0.10.0)\n",
            "Requirement already satisfied: kiwisolver>=1.0.1 in /usr/local/lib/python3.6/dist-packages (from matplotlib>=3.0.2->plot_metric) (1.2.0)\n",
            "Requirement already satisfied: pyparsing!=2.0.4,!=2.1.2,!=2.1.6,>=2.0.1 in /usr/local/lib/python3.6/dist-packages (from matplotlib>=3.0.2->plot_metric) (2.4.7)\n",
            "Requirement already satisfied: joblib>=0.11 in /usr/local/lib/python3.6/dist-packages (from scikit-learn>=0.21.2->plot_metric) (0.16.0)\n",
            "Requirement already satisfied: six>=1.5 in /usr/local/lib/python3.6/dist-packages (from python-dateutil>=2.6.1->pandas>=0.23.4->plot_metric) (1.15.0)\n",
            "Installing collected packages: plot-metric\n",
            "Successfully installed plot-metric-0.0.6\n"
          ],
          "name": "stdout"
        }
      ]
    },
    {
      "cell_type": "code",
      "metadata": {
        "id": "v-4uO_6hWtHk",
        "colab": {
          "base_uri": "https://localhost:8080/",
          "height": 350
        },
        "outputId": "e160effd-a754-4e67-cfdb-d4239a36b2f4"
      },
      "source": [
        "from plot_metric.functions import BinaryClassification\n",
        "# Visualisation with plot_metric\n",
        "bc = BinaryClassification(y_real, y_pred, labels=[\"Class 1\", \"Class 2\"])\n",
        "\n",
        "# Figures\n",
        "plt.figure(figsize=(5,5))\n",
        "bc.plot_roc_curve()\n",
        "plt.show()"
      ],
      "execution_count": null,
      "outputs": [
        {
          "output_type": "display_data",
          "data": {
            "image/png": "[encoded data removed]",
            "text/plain": [
              "<Figure size 360x360 with 1 Axes>"
            ]
          },
          "metadata": {
            "tags": []
          }
        }
      ]
    },
    {
      "cell_type": "code",
      "metadata": {
        "id": "QCfVxnMObTHw",
        "colab": {
          "base_uri": "https://localhost:8080/",
          "height": 231
        },
        "outputId": "dd192970-bb66-4671-9f7e-afe799e5933a"
      },
      "source": [
        "#loop over those files and get how many predicted a cough\n",
        "x=[]\n",
        "for file in wavfiles:\n",
        "  pred = predict(model, file)\n",
        "  append_cough_list(pred)\n",
        "  print(file)\n",
        "\n"
      ],
      "execution_count": null,
      "outputs": [
        {
          "output_type": "error",
          "ename": "NameError",
          "evalue": "ignored",
          "traceback": [
            "\u001b[0;31m---------------------------------------------------------------------------\u001b[0m",
            "\u001b[0;31mNameError\u001b[0m                                 Traceback (most recent call last)",
            "\u001b[0;32m<ipython-input-22-a7ac6137980b>\u001b[0m in \u001b[0;36m<module>\u001b[0;34m()\u001b[0m\n\u001b[1;32m      3\u001b[0m \u001b[0;32mfor\u001b[0m \u001b[0mfile\u001b[0m \u001b[0;32min\u001b[0m \u001b[0mwavfiles\u001b[0m\u001b[0;34m:\u001b[0m\u001b[0;34m\u001b[0m\u001b[0;34m\u001b[0m\u001b[0m\n\u001b[1;32m      4\u001b[0m   \u001b[0mpred\u001b[0m \u001b[0;34m=\u001b[0m \u001b[0mpredict\u001b[0m\u001b[0;34m(\u001b[0m\u001b[0mmodel\u001b[0m\u001b[0;34m,\u001b[0m \u001b[0mfile\u001b[0m\u001b[0;34m)\u001b[0m\u001b[0;34m\u001b[0m\u001b[0;34m\u001b[0m\u001b[0m\n\u001b[0;32m----> 5\u001b[0;31m   \u001b[0mappend_cough_list\u001b[0m\u001b[0;34m(\u001b[0m\u001b[0mpred\u001b[0m\u001b[0;34m)\u001b[0m\u001b[0;34m\u001b[0m\u001b[0;34m\u001b[0m\u001b[0m\n\u001b[0m\u001b[1;32m      6\u001b[0m   \u001b[0mprint\u001b[0m\u001b[0;34m(\u001b[0m\u001b[0mfile\u001b[0m\u001b[0;34m)\u001b[0m\u001b[0;34m\u001b[0m\u001b[0;34m\u001b[0m\u001b[0m\n\u001b[1;32m      7\u001b[0m \u001b[0;34m\u001b[0m\u001b[0m\n",
            "\u001b[0;31mNameError\u001b[0m: name 'append_cough_list' is not defined"
          ]
        }
      ]
    },
    {
      "cell_type": "code",
      "metadata": {
        "id": "m9MEmvQCy85i",
        "colab": {
          "base_uri": "https://localhost:8080/",
          "height": 34
        },
        "outputId": "867db7ab-751d-4327-aa5d-6519792edea8"
      },
      "source": [
        "x# applaus, cat , engine are true negative\n",
        "# frog is false positive"
      ],
      "execution_count": null,
      "outputs": [
        {
          "output_type": "execute_result",
          "data": {
            "text/plain": [
              "[0, 0, 1, 1, 1, 1, 1, 1, 1, 1, 1, 1, 0]"
            ]
          },
          "metadata": {
            "tags": []
          },
          "execution_count": 26
        }
      ]
    },
    {
      "cell_type": "code",
      "metadata": {
        "id": "IrWYTogyNh2G",
        "colab": {
          "base_uri": "https://localhost:8080/",
          "height": 238
        },
        "outputId": "86b9a197-55ed-4a7e-b65e-c66ebcac1746"
      },
      "source": [
        "print(pred)"
      ],
      "execution_count": null,
      "outputs": [
        {
          "output_type": "stream",
          "text": [
            "[[1.90525068e-04 4.46642888e-17 3.81502554e-16 2.23005113e-13\n",
            "  2.11093697e-15 8.87892526e-18 1.02538825e-10 1.47375093e-14\n",
            "  1.26388684e-07 2.92526132e-15 1.15258854e-15 2.81363040e-08\n",
            "  1.64261649e-12 6.58054950e-14 2.53603538e-03 3.61128547e-19\n",
            "  2.30913588e-06 6.83735566e-13 6.35011475e-08 4.95218033e-10\n",
            "  9.58235160e-14 5.36998268e-04 1.48825256e-15 3.09375286e-01\n",
            "  4.93575699e-20 5.30155296e-15 8.37685366e-06 1.83860677e-10\n",
            "  1.13976200e-12 1.85263195e-17 3.71244317e-03 7.86019600e-12\n",
            "  3.41782239e-13 3.82864021e-17 7.77656002e-14 3.02953891e-15\n",
            "  7.77316444e-14 2.06004842e-07 8.30693825e-05 2.34497763e-16\n",
            "  1.47670387e-16 1.75107881e-01 2.38318593e-17 3.60936629e-14\n",
            "  3.25092749e-15 2.30904263e-18 1.05190470e-15 2.32518905e-05\n",
            "  5.08423388e-01]]\n"
          ],
          "name": "stdout"
        }
      ]
    },
    {
      "cell_type": "code",
      "metadata": {
        "id": "T81f3FitMvK8"
      },
      "source": [
        "import numpy as np"
      ],
      "execution_count": null,
      "outputs": []
    },
    {
      "cell_type": "code",
      "metadata": {
        "id": "s8gYGq73uxRO"
      },
      "source": [
        "sorted_pred=(-pred).argsort()[0][0:3]## get the indices of the sorted array(argsort) \n",
        "    #from highest to lowest(using the '-' turns sorting from Ascending to descending)\n",
        "    "
      ],
      "execution_count": null,
      "outputs": []
    },
    {
      "cell_type": "code",
      "metadata": {
        "id": "VgnMqO0U9A3w",
        "colab": {
          "base_uri": "https://localhost:8080/",
          "height": 34
        },
        "outputId": "95167ea9-0eec-403e-b085-fc387fc3874e"
      },
      "source": [
        "#sorted_pred gets the top 3 indices of values\n",
        "print(sorted_pred)#https://www.geeksforgeeks.org/numpy-argsort-in-python/"
      ],
      "execution_count": null,
      "outputs": [
        {
          "output_type": "stream",
          "text": [
            "[48 23 41]\n"
          ],
          "name": "stdout"
        }
      ]
    },
    {
      "cell_type": "code",
      "metadata": {
        "id": "aw40HGVz8j7b",
        "colab": {
          "base_uri": "https://localhost:8080/",
          "height": 34
        },
        "outputId": "67f435a8-2225-4249-9777-b706ee54247f"
      },
      "source": [
        "pred[0][sorted_pred]"
      ],
      "execution_count": null,
      "outputs": [
        {
          "output_type": "execute_result",
          "data": {
            "text/plain": [
              "array([0.5084234 , 0.3093753 , 0.17510788], dtype=float32)"
            ]
          },
          "metadata": {
            "tags": []
          },
          "execution_count": 40
        }
      ]
    },
    {
      "cell_type": "code",
      "metadata": {
        "id": "JgqpQtDuaPNT"
      },
      "source": [
        ""
      ],
      "execution_count": null,
      "outputs": []
    },
    {
      "cell_type": "code",
      "metadata": {
        "id": "IF9T2WS9A2Gi"
      },
      "source": [
        "def get_if_cough_exists(get_predictions):\n",
        "  sorted_pred=(-get_predictions).argsort()[0][0:3]\n",
        "  count=0\n",
        "  for i in sorted_pred: \n",
        "      if(i == 11) : \n",
        "          print (\"Cough Exists .......\") \n",
        "          \n",
        "      elif i!=11:\n",
        "          count+=1\n",
        "  if count ==3:\n",
        "    print('cough does not exist')    \n",
        "\n",
        "\n"
      ],
      "execution_count": null,
      "outputs": []
    },
    {
      "cell_type": "code",
      "metadata": {
        "id": "T0lrot9QBVt_",
        "colab": {
          "base_uri": "https://localhost:8080/",
          "height": 34
        },
        "outputId": "c1ff0ff1-bb87-47d5-ea8f-91158595940c"
      },
      "source": [
        "get_if_cough_exists(pred)"
      ],
      "execution_count": null,
      "outputs": [
        {
          "output_type": "stream",
          "text": [
            "cough does not exist\n"
          ],
          "name": "stdout"
        }
      ]
    },
    {
      "cell_type": "code",
      "metadata": {
        "id": "lHCnPExs8soi",
        "colab": {
          "base_uri": "https://localhost:8080/",
          "height": 34
        },
        "outputId": "171cbd0d-b0b1-4e03-bfcb-0c3ecbaff676"
      },
      "source": [
        "    \n"
      ],
      "execution_count": null,
      "outputs": [
        {
          "output_type": "stream",
          "text": [
            "cough does not exist\n"
          ],
          "name": "stdout"
        }
      ]
    },
    {
      "cell_type": "code",
      "metadata": {
        "id": "zz8xKBvf5_58",
        "colab": {
          "base_uri": "https://localhost:8080/",
          "height": 34
        },
        "outputId": "9185062b-9170-49ea-fd19-281d8919641d"
      },
      "source": [
        "print(sorted_pred)"
      ],
      "execution_count": null,
      "outputs": [
        {
          "output_type": "stream",
          "text": [
            "[11 21 19]\n"
          ],
          "name": "stdout"
        }
      ]
    },
    {
      "cell_type": "code",
      "metadata": {
        "id": "mtQ6hcC3v5J1"
      },
      "source": [
        "import os"
      ],
      "execution_count": null,
      "outputs": []
    },
    {
      "cell_type": "code",
      "metadata": {
        "id": "6r3DDU6BvplR"
      },
      "source": [
        "r = os.listdir('/content/drive/My Drive/soundclasify/categories')#returns a list of directory name in a given path\n",
        "r.sort()"
      ],
      "execution_count": null,
      "outputs": []
    },
    {
      "cell_type": "code",
      "metadata": {
        "id": "UU8vA0TSv8BT",
        "colab": {
          "base_uri": "https://localhost:8080/",
          "height": 54
        },
        "outputId": "f7f5f80b-fe2e-4efc-beec-8c8067a72d64"
      },
      "source": [
        "print(r)"
      ],
      "execution_count": null,
      "outputs": [
        {
          "output_type": "stream",
          "text": [
            "['airplane', 'breathing', 'brushing_teeth', 'can_opening', 'car_horn', 'cat', 'chainsaw', 'chirping_birds', 'church_bells', 'clapping', 'clock_alarm', 'clock_tick', 'coughing', 'cow', 'crackling_fire', 'crow', 'crying_baby', 'dog', 'door_wood_creaks', 'door_wood_knock', 'drinking_sipping', 'engine', 'fireworks', 'footsteps', 'frog', 'glass_breaking', 'hand_saw', 'helicopter', 'hen', 'insects', 'keyboard_typing', 'laughing', 'mouse_click', 'pig', 'pouring_water', 'rain', 'rooster', 'sea_waves', 'sheep', 'siren', 'sneezing', 'snoring', 'thunderstorm', 'toilet_flush', 'train', 'vacuum_cleaner', 'washing_machine', 'water_drops', 'wind']\n"
          ],
          "name": "stdout"
        }
      ]
    },
    {
      "cell_type": "markdown",
      "metadata": {
        "id": "F7kwjiEhoQ3h"
      },
      "source": [
        ""
      ]
    },
    {
      "cell_type": "code",
      "metadata": {
        "id": "3nZlM3_9wORz",
        "colab": {
          "base_uri": "https://localhost:8080/",
          "height": 35
        },
        "outputId": "b873c0a3-6ba1-4e42-db1b-79615e685d8b"
      },
      "source": [
        "r[11 + 1]"
      ],
      "execution_count": null,
      "outputs": [
        {
          "output_type": "execute_result",
          "data": {
            "application/vnd.google.colaboratory.intrinsic": {
              "type": "string"
            },
            "text/plain": [
              "'coughing'"
            ]
          },
          "metadata": {
            "tags": []
          },
          "execution_count": 49
        }
      ]
    },
    {
      "cell_type": "code",
      "metadata": {
        "id": "vxc9ZPs9gt3M",
        "colab": {
          "base_uri": "https://localhost:8080/",
          "height": 34
        },
        "outputId": "549ca4ed-f381-4b7d-faec-989ec82a068c"
      },
      "source": [
        "pred[0][21]"
      ],
      "execution_count": null,
      "outputs": [
        {
          "output_type": "execute_result",
          "data": {
            "text/plain": [
              "0.12681724"
            ]
          },
          "metadata": {
            "tags": []
          },
          "execution_count": 40
        }
      ]
    },
    {
      "cell_type": "code",
      "metadata": {
        "id": "E2I4USw_A5cK",
        "colab": {
          "base_uri": "https://localhost:8080/",
          "height": 187
        },
        "outputId": "5ce5eb44-0d1b-43cd-ca5a-cb409abaefb7"
      },
      "source": [
        "print(pred)"
      ],
      "execution_count": null,
      "outputs": [
        {
          "output_type": "stream",
          "text": [
            "[[1.5842386e-02 7.5005268e-08 2.3480540e-04 1.2149707e-06 1.0312051e-06\n",
            "  2.6437694e-10 3.6926365e-10 2.6006849e-12 1.2874485e-04 3.0757977e-08\n",
            "  3.9023846e-05 7.4365932e-01 1.9404586e-08 6.0125331e-09 3.7691652e-04\n",
            "  4.8827968e-09 3.1917167e-05 2.1769323e-04 1.0673960e-03 8.7276407e-02\n",
            "  2.5089417e-07 1.2681724e-01 2.7360657e-04 6.1374245e-04 2.2820144e-08\n",
            "  1.6087905e-04 3.3959321e-05 1.9566217e-08 3.8299844e-10 1.3445969e-03\n",
            "  2.0079777e-02 7.4073738e-05 4.0726474e-05 7.0238491e-07 1.2843825e-10\n",
            "  3.0226357e-08 1.0283928e-07 1.5929015e-09 8.8185665e-12 1.2637927e-03\n",
            "  5.6532622e-06 3.1178593e-04 2.1849376e-06 1.9115928e-11 7.6462076e-10\n",
            "  1.8284071e-07 9.9699253e-05 2.4550265e-10 7.7094671e-11]]\n"
          ],
          "name": "stdout"
        }
      ]
    },
    {
      "cell_type": "code",
      "metadata": {
        "id": "H00TzfwBWVdW",
        "colab": {
          "base_uri": "https://localhost:8080/",
          "height": 214
        },
        "outputId": "aaf41942-9120-438c-e1e3-d8b89c1458c1"
      },
      "source": [
        "# Making the Confusion Matrix\n",
        "y_test=[1,1,1,1,1,1,1,1,1,1]\n",
        "\n",
        "from sklearn.metrics import confusion_matrix\n",
        "cm = confusion_matrix(y_test, y_pred)\n",
        "print(cm)"
      ],
      "execution_count": null,
      "outputs": [
        {
          "output_type": "error",
          "ename": "NameError",
          "evalue": "ignored",
          "traceback": [
            "\u001b[0;31m---------------------------------------------------------------------------\u001b[0m",
            "\u001b[0;31mNameError\u001b[0m                                 Traceback (most recent call last)",
            "\u001b[0;32m<ipython-input-107-b16ec8010adf>\u001b[0m in \u001b[0;36m<module>\u001b[0;34m()\u001b[0m\n\u001b[1;32m      2\u001b[0m \u001b[0my_test\u001b[0m\u001b[0;34m=\u001b[0m\u001b[0;34m[\u001b[0m\u001b[0;36m1\u001b[0m\u001b[0;34m,\u001b[0m\u001b[0;36m1\u001b[0m\u001b[0;34m,\u001b[0m\u001b[0;36m1\u001b[0m\u001b[0;34m,\u001b[0m\u001b[0;36m1\u001b[0m\u001b[0;34m,\u001b[0m\u001b[0;36m1\u001b[0m\u001b[0;34m,\u001b[0m\u001b[0;36m1\u001b[0m\u001b[0;34m,\u001b[0m\u001b[0;36m1\u001b[0m\u001b[0;34m,\u001b[0m\u001b[0;36m1\u001b[0m\u001b[0;34m,\u001b[0m\u001b[0;36m1\u001b[0m\u001b[0;34m,\u001b[0m\u001b[0;36m1\u001b[0m\u001b[0;34m]\u001b[0m\u001b[0;34m\u001b[0m\u001b[0;34m\u001b[0m\u001b[0m\n\u001b[1;32m      3\u001b[0m \u001b[0;32mfrom\u001b[0m \u001b[0msklearn\u001b[0m\u001b[0;34m.\u001b[0m\u001b[0mmetrics\u001b[0m \u001b[0;32mimport\u001b[0m \u001b[0mconfusion_matrix\u001b[0m\u001b[0;34m\u001b[0m\u001b[0;34m\u001b[0m\u001b[0m\n\u001b[0;32m----> 4\u001b[0;31m \u001b[0mcm\u001b[0m \u001b[0;34m=\u001b[0m \u001b[0mconfusion_matrix\u001b[0m\u001b[0;34m(\u001b[0m\u001b[0my_test\u001b[0m\u001b[0;34m,\u001b[0m \u001b[0my_pred\u001b[0m\u001b[0;34m)\u001b[0m\u001b[0;34m\u001b[0m\u001b[0;34m\u001b[0m\u001b[0m\n\u001b[0m\u001b[1;32m      5\u001b[0m \u001b[0mprint\u001b[0m\u001b[0;34m(\u001b[0m\u001b[0mcm\u001b[0m\u001b[0;34m)\u001b[0m\u001b[0;34m\u001b[0m\u001b[0;34m\u001b[0m\u001b[0m\n",
            "\u001b[0;31mNameError\u001b[0m: name 'y_pred' is not defined"
          ]
        }
      ]
    },
    {
      "cell_type": "code",
      "metadata": {
        "id": "EGXqHqjMZqto"
      },
      "source": [
        ""
      ],
      "execution_count": null,
      "outputs": []
    }
  ]
}